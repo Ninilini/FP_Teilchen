{
 "cells": [
  {
   "cell_type": "code",
   "execution_count": 237,
   "metadata": {},
   "outputs": [],
   "source": [
    "import numpy as np\n",
    "import pandas as pd\n",
    "import matplotlib.pyplot as plt\n",
    "from sklearn.model_selection import train_test_split\n",
    "from sklearn.feature_selection import SelectKBest\n",
    "from sklearn.ensemble import RandomForestClassifier\n",
    "from sklearn.metrics import accuracy_score\n",
    "from sklearn.metrics import precision_score\n",
    "from sklearn.metrics import roc_curve\n",
    "from sklearn.neighbors import KNeighborsClassifier\n",
    "from sklearn.naive_bayes import GaussianNB\n",
    "from sklearn.preprocessing import StandardScaler\n",
    "from sklearn.metrics import jaccard_similarity_score\n",
    "from sklearn.metrics import roc_auc_score"
   ]
  },
  {
   "cell_type": "code",
   "execution_count": 210,
   "metadata": {},
   "outputs": [
    {
     "data": {
      "text/plain": [
       "(40000, 189)"
      ]
     },
     "execution_count": 210,
     "metadata": {},
     "output_type": "execute_result"
    }
   ],
   "source": [
    "daten = pd.read_hdf('data.hdf5', key='Daten')\n",
    "daten.shape"
   ]
  },
  {
   "cell_type": "markdown",
   "metadata": {},
   "source": [
    "**Daten zu features (x) und Targetvektor (y) aufteilen**\n"
   ]
  },
  {
   "cell_type": "code",
   "execution_count": 211,
   "metadata": {},
   "outputs": [],
   "source": [
    "x = daten.iloc[:,:daten.shape[1]-3]\n",
    "y = daten['type'].values\n"
   ]
  },
  {
   "cell_type": "markdown",
   "metadata": {},
   "source": [
    "Da die Features auf unterschiedlichen Skalen sind, müssen sie skaliert werden"
   ]
  },
  {
   "cell_type": "code",
   "execution_count": null,
   "metadata": {},
   "outputs": [],
   "source": [
    "# Noch andere Skaler ausprobieren...\n",
    "scaler = StandardScaler()\n",
    "x = scaler.fit_transform(x)"
   ]
  },
  {
   "cell_type": "markdown",
   "metadata": {},
   "source": [
    "**Definition der verschiedenen Featureanzahlen k** <br>\n",
    "Danach werden alle Schritte für jedes k durch geführt. Deshalb ist um alles eine while-Schlife rum, die alle k-Werte durchläuft"
   ]
  },
  {
   "cell_type": "code",
   "execution_count": 228,
   "metadata": {},
   "outputs": [],
   "source": [
    "k = np.arange(20, 150, 10)"
   ]
  },
  {
   "cell_type": "markdown",
   "metadata": {},
   "source": [
    "**Forward Selection mit SelectKBest** <br>\n",
    "Scorefunction ist standartisiert der T-Wert"
   ]
  },
  {
   "cell_type": "code",
   "execution_count": 247,
   "metadata": {},
   "outputs": [
    {
     "name": "stderr",
     "output_type": "stream",
     "text": [
      "/home/miriam/.local/anaconda3/lib/python3.7/site-packages/sklearn/feature_selection/univariate_selection.py:114: UserWarning: Features [ 16  17  18  20  31  33  35  44  45  47  60  62  64  72  73  74  76  88\n",
      "  92  95 103 105 107 115 116 117 119 156 157 159 168 169 171 179 180 182] are constant.\n",
      "  UserWarning)\n",
      "/home/miriam/.local/anaconda3/lib/python3.7/site-packages/sklearn/feature_selection/univariate_selection.py:115: RuntimeWarning: invalid value encountered in true_divide\n",
      "  f = msb / msw\n",
      "/home/miriam/.local/anaconda3/lib/python3.7/site-packages/sklearn/feature_selection/univariate_selection.py:114: UserWarning: Features [ 16  17  18  20  31  33  35  44  45  47  60  62  64  72  73  74  76  88\n",
      "  92  95 103 105 107 115 116 117 119 156 157 159 168 169 171 179 180 182] are constant.\n",
      "  UserWarning)\n",
      "/home/miriam/.local/anaconda3/lib/python3.7/site-packages/sklearn/feature_selection/univariate_selection.py:115: RuntimeWarning: invalid value encountered in true_divide\n",
      "  f = msb / msw\n",
      "/home/miriam/.local/anaconda3/lib/python3.7/site-packages/sklearn/feature_selection/univariate_selection.py:114: UserWarning: Features [ 16  17  18  20  31  33  35  44  45  47  60  62  64  72  73  74  76  88\n",
      "  92  95 103 105 107 115 116 117 119 156 157 159 168 169 171 179 180 182] are constant.\n",
      "  UserWarning)\n",
      "/home/miriam/.local/anaconda3/lib/python3.7/site-packages/sklearn/feature_selection/univariate_selection.py:115: RuntimeWarning: invalid value encountered in true_divide\n",
      "  f = msb / msw\n",
      "/home/miriam/.local/anaconda3/lib/python3.7/site-packages/sklearn/feature_selection/univariate_selection.py:114: UserWarning: Features [ 16  17  18  20  31  33  35  44  45  47  60  62  64  72  73  74  76  88\n",
      "  92  95 103 105 107 115 116 117 119 156 157 159 168 169 171 179 180 182] are constant.\n",
      "  UserWarning)\n",
      "/home/miriam/.local/anaconda3/lib/python3.7/site-packages/sklearn/feature_selection/univariate_selection.py:115: RuntimeWarning: invalid value encountered in true_divide\n",
      "  f = msb / msw\n",
      "/home/miriam/.local/anaconda3/lib/python3.7/site-packages/sklearn/feature_selection/univariate_selection.py:114: UserWarning: Features [ 16  17  18  20  31  33  35  44  45  47  60  62  64  72  73  74  76  88\n",
      "  92  95 103 105 107 115 116 117 119 156 157 159 168 169 171 179 180 182] are constant.\n",
      "  UserWarning)\n",
      "/home/miriam/.local/anaconda3/lib/python3.7/site-packages/sklearn/feature_selection/univariate_selection.py:115: RuntimeWarning: invalid value encountered in true_divide\n",
      "  f = msb / msw\n",
      "/home/miriam/.local/anaconda3/lib/python3.7/site-packages/sklearn/feature_selection/univariate_selection.py:114: UserWarning: Features [ 16  17  18  20  31  33  35  44  45  47  60  62  64  72  73  74  76  88\n",
      "  92  95 103 105 107 115 116 117 119 156 157 159 168 169 171 179 180 182] are constant.\n",
      "  UserWarning)\n",
      "/home/miriam/.local/anaconda3/lib/python3.7/site-packages/sklearn/feature_selection/univariate_selection.py:115: RuntimeWarning: invalid value encountered in true_divide\n",
      "  f = msb / msw\n",
      "/home/miriam/.local/anaconda3/lib/python3.7/site-packages/sklearn/feature_selection/univariate_selection.py:114: UserWarning: Features [ 16  17  18  20  31  33  35  44  45  47  60  62  64  72  73  74  76  88\n",
      "  92  95 103 105 107 115 116 117 119 156 157 159 168 169 171 179 180 182] are constant.\n",
      "  UserWarning)\n",
      "/home/miriam/.local/anaconda3/lib/python3.7/site-packages/sklearn/feature_selection/univariate_selection.py:115: RuntimeWarning: invalid value encountered in true_divide\n",
      "  f = msb / msw\n",
      "/home/miriam/.local/anaconda3/lib/python3.7/site-packages/sklearn/feature_selection/univariate_selection.py:114: UserWarning: Features [ 16  17  18  20  31  33  35  44  45  47  60  62  64  72  73  74  76  88\n",
      "  92  95 103 105 107 115 116 117 119 156 157 159 168 169 171 179 180 182] are constant.\n",
      "  UserWarning)\n",
      "/home/miriam/.local/anaconda3/lib/python3.7/site-packages/sklearn/feature_selection/univariate_selection.py:115: RuntimeWarning: invalid value encountered in true_divide\n",
      "  f = msb / msw\n",
      "/home/miriam/.local/anaconda3/lib/python3.7/site-packages/sklearn/feature_selection/univariate_selection.py:114: UserWarning: Features [ 16  17  18  20  31  33  35  44  45  47  60  62  64  72  73  74  76  88\n",
      "  92  95 103 105 107 115 116 117 119 156 157 159 168 169 171 179 180 182] are constant.\n",
      "  UserWarning)\n",
      "/home/miriam/.local/anaconda3/lib/python3.7/site-packages/sklearn/feature_selection/univariate_selection.py:115: RuntimeWarning: invalid value encountered in true_divide\n",
      "  f = msb / msw\n",
      "/home/miriam/.local/anaconda3/lib/python3.7/site-packages/sklearn/feature_selection/univariate_selection.py:114: UserWarning: Features [ 16  17  18  20  31  33  35  44  45  47  60  62  64  72  73  74  76  88\n",
      "  92  95 103 105 107 115 116 117 119 156 157 159 168 169 171 179 180 182] are constant.\n",
      "  UserWarning)\n",
      "/home/miriam/.local/anaconda3/lib/python3.7/site-packages/sklearn/feature_selection/univariate_selection.py:115: RuntimeWarning: invalid value encountered in true_divide\n",
      "  f = msb / msw\n",
      "/home/miriam/.local/anaconda3/lib/python3.7/site-packages/sklearn/feature_selection/univariate_selection.py:114: UserWarning: Features [ 16  17  18  20  31  33  35  44  45  47  60  62  64  72  73  74  76  88\n",
      "  92  95 103 105 107 115 116 117 119 156 157 159 168 169 171 179 180 182] are constant.\n",
      "  UserWarning)\n",
      "/home/miriam/.local/anaconda3/lib/python3.7/site-packages/sklearn/feature_selection/univariate_selection.py:115: RuntimeWarning: invalid value encountered in true_divide\n",
      "  f = msb / msw\n",
      "/home/miriam/.local/anaconda3/lib/python3.7/site-packages/sklearn/feature_selection/univariate_selection.py:114: UserWarning: Features [ 16  17  18  20  31  33  35  44  45  47  60  62  64  72  73  74  76  88\n",
      "  92  95 103 105 107 115 116 117 119 156 157 159 168 169 171 179 180 182] are constant.\n",
      "  UserWarning)\n",
      "/home/miriam/.local/anaconda3/lib/python3.7/site-packages/sklearn/feature_selection/univariate_selection.py:115: RuntimeWarning: invalid value encountered in true_divide\n",
      "  f = msb / msw\n",
      "/home/miriam/.local/anaconda3/lib/python3.7/site-packages/sklearn/feature_selection/univariate_selection.py:114: UserWarning: Features [ 16  17  18  20  31  33  35  44  45  47  60  62  64  72  73  74  76  88\n",
      "  92  95 103 105 107 115 116 117 119 156 157 159 168 169 171 179 180 182] are constant.\n",
      "  UserWarning)\n",
      "/home/miriam/.local/anaconda3/lib/python3.7/site-packages/sklearn/feature_selection/univariate_selection.py:115: RuntimeWarning: invalid value encountered in true_divide\n",
      "  f = msb / msw\n"
     ]
    }
   ],
   "source": [
    "x_sel = []\n",
    "for i in k:\n",
    "    sel = SelectKBest(k=i) \n",
    "    x_sel.append(sel.fit_transform(x, y))\n",
    "    "
   ]
  },
  {
   "cell_type": "code",
   "execution_count": null,
   "metadata": {},
   "outputs": [],
   "source": []
  },
  {
   "cell_type": "markdown",
   "metadata": {},
   "source": [
    "**Außerdem Teilen in Trainings- und Testdatensatz**"
   ]
  },
  {
   "cell_type": "code",
   "execution_count": 251,
   "metadata": {},
   "outputs": [],
   "source": [
    "x_train = []\n",
    "y_train = []\n",
    "x_test = []\n",
    "y_test = []\n",
    "\n",
    "i = 0\n",
    "while i < len(k):\n",
    "    train_x, test_x, train_y, test_y = train_test_split(x_sel[i],y, test_size = 0.3, random_state = 42, stratify = y)\n",
    "    x_train.append(train_x)\n",
    "    y_train.append(train_y)\n",
    "    x_test.append(test_x)\n",
    "    y_test.append(test_y)\n",
    "    i = i+1\n",
    "    "
   ]
  },
  {
   "cell_type": "markdown",
   "metadata": {},
   "source": [
    "**Random-Forest-Lerner**"
   ]
  },
  {
   "cell_type": "code",
   "execution_count": 239,
   "metadata": {},
   "outputs": [],
   "source": [
    "RF = RandomForestClassifier(100)\n",
    "\n",
    "y_pred_RF = [] #Vorhergesagten Klassen\n",
    "accuracy_RF = [] #Reinheit\n",
    "efficiency_RF = [] #Effizienz\n",
    "jaccard_RF = [] #Jaccard-Index\n",
    "roc_auc_RF = [] #Fläche unter ROC-Kurve"
   ]
  },
  {
   "cell_type": "code",
   "execution_count": 241,
   "metadata": {},
   "outputs": [],
   "source": [
    "i = 0\n",
    "\n",
    "while i < len(k):   \n",
    "    #Lerner\n",
    "    RF.fit(x_train[i], y_train[i])\n",
    "    predict = RF.predict(x_test[i])\n",
    "    y_pred_RF.append(predict)\n",
    "    \n",
    "    #Berechnung und speichern der Qualitätsparameter\n",
    "    accuracy_RF.append(accuracy_score(y_test[i], y_pred_RF[i]))\n",
    "    efficiency_RF.append(precision_score(y_test[i], y_pred_RF[i]))\n",
    "    jaccard_RF.append(jaccard_similarity_score(y_test[i], y_pred_RF[i], normalize = True))\n",
    "    roc_auc_RF.append(roc_auc_score(y_test[i], y_pred_RF[i]))\n",
    "    \n",
    "    i = i+1"
   ]
  },
  {
   "cell_type": "code",
   "execution_count": null,
   "metadata": {},
   "outputs": [],
   "source": []
  },
  {
   "cell_type": "code",
   "execution_count": 265,
   "metadata": {},
   "outputs": [
    {
     "data": {
      "image/png": "[encoded data removed]",
      "text/plain": [
       "<Figure size 432x288 with 4 Axes>"
      ]
     },
     "metadata": {
      "needs_background": "light"
     },
     "output_type": "display_data"
    }
   ],
   "source": [
    "plt.subplot(2,2,1)\n",
    "plt.plot(k, accuracy_RF[:-1], marker = 'x', linestyle = '', color = 'forestgreen')\n",
    "plt.xlabel(r'Anzahl Features')\n",
    "plt.ylabel(r'Reinheit')\n",
    "\n",
    "plt.subplot(2,2,2)\n",
    "plt.plot(k, efficiency_RF[:-1], marker = 'x', linestyle = '', color = 'forestgreen')\n",
    "plt.xlabel(r'Anzahl Features')\n",
    "plt.ylabel(r'Effizienz')\n",
    "\n",
    "plt.subplot(2,2,3)\n",
    "plt.plot(k, jaccard_RF, marker = 'x', linestyle = '', color = 'forestgreen')\n",
    "plt.xlabel(r'Anzahl Features')\n",
    "plt.ylabel(r'Jaccard-Index')\n",
    "\n",
    "plt.subplot(2,2,4)\n",
    "plt.plot(k, roc_auc_RF, marker = 'x', linestyle = '', color = 'forestgreen')\n",
    "plt.xlabel(r'Anzahl Features')\n",
    "plt.ylabel(r'Fläche unter ROC-Kurve')\n",
    "\n",
    "plt.subplots_adjust(wspace = 0.5, hspace = 0.5)"
   ]
  },
  {
   "cell_type": "code",
   "execution_count": 269,
   "metadata": {},
   "outputs": [],
   "source": [
    "# Nur für das Beste?\n",
    "#HIER LÄUFT NOCH WAS SCHIEF: Nur drei Werte berechnet\n",
    "\n",
    "#roc_x, roc_y, tresh = roc_curve(y_test, y_pred)\n",
    "#plt.plot(roc_x, roc_y, color = 'forestgreen')\n",
    "#plt.xlabel(r'P(FP)')\n",
    "#plt.ylabel(r'P(TP)')"
   ]
  },
  {
   "cell_type": "code",
   "execution_count": 270,
   "metadata": {},
   "outputs": [],
   "source": [
    "#Nur für das Beste? -> Ist nicht unbedingt nötig....?\n",
    "\n",
    "#nn_out = pd.DataFrame()\n",
    "#nn_out = nn_out.assign(prediction = y_pred.ravel())\n",
    "#nn_out = nn_out.assign(target = y_test)\n",
    "#nn_out.groupby(\"target\")[\"prediction\"].plot(kind='kde', figsize=(10, 10))\n",
    "#plt.legend([r'Background', r'Signal'], loc='upper left')\n",
    "#plt.ylabel(r'events')\n",
    "#plt.xlabel(r'Klasse')"
   ]
  },
  {
   "cell_type": "code",
   "execution_count": null,
   "metadata": {},
   "outputs": [],
   "source": []
  },
  {
   "cell_type": "markdown",
   "metadata": {},
   "source": [
    "**kNN-Klassifikator**"
   ]
  },
  {
   "cell_type": "code",
   "execution_count": 266,
   "metadata": {},
   "outputs": [],
   "source": [
    "kNN = KNeighborsClassifier(10)\n",
    "\n",
    "y_pred_kNN = [] #Vorhergesagten Klassen\n",
    "accuracy_kNN = [] #Reinheit\n",
    "efficiency_kNN = [] #Effizienz\n",
    "jaccard_kNN = [] #Jaccard-Index\n",
    "roc_auc_kNN = [] #Fläche unter ROC-Kurve"
   ]
  },
  {
   "cell_type": "code",
   "execution_count": 268,
   "metadata": {},
   "outputs": [],
   "source": [
    "i = 0\n",
    "\n",
    "while i < len(k):   \n",
    "    #Lerner\n",
    "    kNN.fit(x_train[i], y_train[i])\n",
    "    predict = kNN.predict(x_test[i])\n",
    "    y_pred_kNN.append(predict)\n",
    "    \n",
    "    #Berechnung und speichern der Qualitätsparameter\n",
    "    accuracy_kNN.append(accuracy_score(y_test[i], y_pred_kNN[i]))\n",
    "    efficiency_kNN.append(precision_score(y_test[i], y_pred_kNN[i]))\n",
    "    jaccard_kNN.append(jaccard_similarity_score(y_test[i], y_pred_kNN[i], normalize = True))\n",
    "    roc_auc_kNN.append(roc_auc_score(y_test[i], y_pred_kNN[i]))\n",
    "    \n",
    "    i = i+1"
   ]
  },
  {
   "cell_type": "code",
   "execution_count": 273,
   "metadata": {},
   "outputs": [
    {
     "data": {
      "image/png": "[encoded data removed]",
      "text/plain": [
       "<Figure size 432x288 with 4 Axes>"
      ]
     },
     "metadata": {
      "needs_background": "light"
     },
     "output_type": "display_data"
    }
   ],
   "source": [
    "plt.subplot(2,2,1)\n",
    "plt.plot(k, accuracy_kNN, marker = 'x', linestyle = '', color = 'forestgreen')\n",
    "plt.xlabel(r'Anzahl Features')\n",
    "plt.ylabel(r'Reinheit')\n",
    "\n",
    "plt.subplot(2,2,2)\n",
    "plt.plot(k, efficiency_kNN, marker = 'x', linestyle = '', color = 'forestgreen')\n",
    "plt.xlabel(r'Anzahl Features')\n",
    "plt.ylabel(r'Effizienz')\n",
    "\n",
    "plt.subplot(2,2,3)\n",
    "plt.plot(k, jaccard_kNN, marker = 'x', linestyle = '', color = 'forestgreen')\n",
    "plt.xlabel(r'Anzahl Features')\n",
    "plt.ylabel(r'Jaccard-Index')\n",
    "\n",
    "plt.subplot(2,2,4)\n",
    "plt.plot(k, roc_auc_kNN, marker = 'x', linestyle = '', color = 'forestgreen')\n",
    "plt.xlabel(r'Anzahl Features')\n",
    "plt.ylabel(r'Fläche unter ROC-Kurve')\n",
    "\n",
    "plt.subplots_adjust(wspace = 0.5, hspace = 0.5)"
   ]
  },
  {
   "cell_type": "code",
   "execution_count": null,
   "metadata": {},
   "outputs": [],
   "source": []
  },
  {
   "cell_type": "code",
   "execution_count": 271,
   "metadata": {},
   "outputs": [],
   "source": [
    "#roc_x, roc_y, tresh = roc_curve(y_test, y_pred)\n",
    "#plt.plot(roc_x, roc_y, color = 'forestgreen')\n",
    "#plt.xlabel(r'P(FP)')\n",
    "#plt.ylabel(r'P(TP)')"
   ]
  },
  {
   "cell_type": "code",
   "execution_count": 272,
   "metadata": {},
   "outputs": [],
   "source": [
    "#nn_out = pd.DataFrame()\n",
    "#nn_out = nn_out.assign(prediction = y_pred.ravel())\n",
    "#nn_out = nn_out.assign(target = y_test)\n",
    "#nn_out.groupby(\"target\")[\"prediction\"].plot(kind='kde', figsize=(10, 10))\n",
    "#plt.legend([r'Background', r'Signal'], loc='upper left')\n",
    "#plt.ylabel(r'events')\n",
    "#plt.xlabel(r'Klasse')"
   ]
  },
  {
   "cell_type": "code",
   "execution_count": null,
   "metadata": {},
   "outputs": [],
   "source": []
  },
  {
   "cell_type": "markdown",
   "metadata": {},
   "source": [
    "**Naive-Bayes-Lerner**"
   ]
  },
  {
   "cell_type": "code",
   "execution_count": 276,
   "metadata": {},
   "outputs": [],
   "source": [
    "NB = GaussianNB()\n",
    "\n",
    "y_pred_NB = [] #Vorhergesagten Klassen\n",
    "accuracy_NB = [] #Reinheit\n",
    "efficiency_NB = [] #Effizienz\n",
    "jaccard_NB = [] #Jaccard-Index\n",
    "roc_auc_NB = [] #Fläche unter ROC-Kurve"
   ]
  },
  {
   "cell_type": "code",
   "execution_count": 277,
   "metadata": {},
   "outputs": [],
   "source": [
    "i = 0\n",
    "\n",
    "while i < len(k):   \n",
    "    #Lerner\n",
    "    NB.fit(x_train[i], y_train[i])\n",
    "    predict = NB.predict(x_test[i])\n",
    "    y_pred_NB.append(predict)\n",
    "    \n",
    "    #Berechnung und speichern der Qualitätsparameter\n",
    "    accuracy_NB.append(accuracy_score(y_test[i], y_pred_NB[i]))\n",
    "    efficiency_NB.append(precision_score(y_test[i], y_pred_NB[i]))\n",
    "    jaccard_NB.append(jaccard_similarity_score(y_test[i], y_pred_NB[i], normalize = True))\n",
    "    roc_auc_NB.append(roc_auc_score(y_test[i], y_pred_NB[i]))\n",
    "    \n",
    "    i = i+1"
   ]
  },
  {
   "cell_type": "code",
   "execution_count": 278,
   "metadata": {},
   "outputs": [
    {
     "data": {
      "image/png": "[encoded data removed]",
      "text/plain": [
       "<Figure size 432x288 with 4 Axes>"
      ]
     },
     "metadata": {
      "needs_background": "light"
     },
     "output_type": "display_data"
    }
   ],
   "source": [
    "plt.subplot(2,2,1)\n",
    "plt.plot(k, accuracy_NB, marker = 'x', linestyle = '', color = 'forestgreen')\n",
    "plt.xlabel(r'Anzahl Features')\n",
    "plt.ylabel(r'Reinheit')\n",
    "\n",
    "plt.subplot(2,2,2)\n",
    "plt.plot(k, efficiency_NB, marker = 'x', linestyle = '', color = 'forestgreen')\n",
    "plt.xlabel(r'Anzahl Features')\n",
    "plt.ylabel(r'Effizienz')\n",
    "\n",
    "plt.subplot(2,2,3)\n",
    "plt.plot(k, jaccard_NB, marker = 'x', linestyle = '', color = 'forestgreen')\n",
    "plt.xlabel(r'Anzahl Features')\n",
    "plt.ylabel(r'Jaccard-Index')\n",
    "\n",
    "plt.subplot(2,2,4)\n",
    "plt.plot(k, roc_auc_NB, marker = 'x', linestyle = '', color = 'forestgreen')\n",
    "plt.xlabel(r'Anzahl Features')\n",
    "plt.ylabel(r'Fläche unter ROC-Kurve')\n",
    "\n",
    "plt.subplots_adjust(wspace = 0.5, hspace = 0.5)"
   ]
  },
  {
   "cell_type": "code",
   "execution_count": 275,
   "metadata": {},
   "outputs": [],
   "source": [
    "#roc_x, roc_y, _ = roc_curve(y_test, y_pred.ravel(), pos_label=1)\n",
    "#print(y_test)\n",
    "#plt.plot(roc_x, roc_y, color = 'forestgreen')\n",
    "#plt.xlabel(r'P(FP)')\n",
    "#plt.ylabel(r'P(TP)')"
   ]
  },
  {
   "cell_type": "code",
   "execution_count": 274,
   "metadata": {},
   "outputs": [],
   "source": [
    "#nn_out = pd.DataFrame()\n",
    "#nn_out = nn_out.assign(prediction = y_pred.ravel())\n",
    "#nn_out = nn_out.assign(target = y_test)\n",
    "#nn_out.groupby(\"target\")[\"prediction\"].plot(kind='kde', figsize=(10, 10))\n",
    "#plt.legend([r'Background', r'Signal'], loc='upper left')\n",
    "#plt.ylabel(r'events')\n",
    "#plt.xlabel(r'Klasse')"
   ]
  }
 ],
 "metadata": {
  "kernelspec": {
   "display_name": "Python 3",
   "language": "python",
   "name": "python3"
  },
  "language_info": {
   "codemirror_mode": {
    "name": "ipython",
    "version": 3
   },
   "file_extension": ".py",
   "mimetype": "text/x-python",
   "name": "python",
   "nbconvert_exporter": "python",
   "pygments_lexer": "ipython3",
   "version": "3.7.1"
  }
 },
 "nbformat": 4,
 "nbformat_minor": 2
}
