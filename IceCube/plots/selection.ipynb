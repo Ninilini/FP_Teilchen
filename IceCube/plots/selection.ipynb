{
 "cells": [
  {
   "cell_type": "code",
   "execution_count": 80,
   "metadata": {},
   "outputs": [],
   "source": [
    "import numpy as np\n",
    "import pandas as pd\n",
    "import matplotlib.pyplot as plt\n",
    "import sklearn\n",
    "from sklearn.model_selection import train_test_split\n",
    "from sklearn.feature_selection import SelectKBest\n",
    "from sklearn.ensemble import RandomForestClassifier\n",
    "from sklearn.metrics import accuracy_score\n",
    "from sklearn.metrics import precision_score\n",
    "from sklearn.metrics import roc_curve\n",
    "from sklearn.neighbors import KNeighborsClassifier\n",
    "from sklearn.naive_bayes import GaussianNB\n",
    "from sklearn.preprocessing import StandardScaler\n",
    "from sklearn.metrics import jaccard_similarity_score\n",
    "from sklearn.metrics import roc_auc_score\n",
    "from sklearn.model_selection import cross_val_score\n",
    "from sklearn.metrics import confusion_matrix\n",
    "from sklearn.utils.multiclass import unique_labels"
   ]
  },
  {
   "cell_type": "code",
   "execution_count": 81,
   "metadata": {},
   "outputs": [
    {
     "data": {
      "text/plain": [
       "(40000, 189)"
      ]
     },
     "execution_count": 81,
     "metadata": {},
     "output_type": "execute_result"
    }
   ],
   "source": [
    "daten = pd.read_hdf('../data/data.hdf5', key='Daten')\n",
    "daten.shape"
   ]
  },
  {
   "cell_type": "markdown",
   "metadata": {},
   "source": [
    "**Daten zu features (x) und Targetvektor (y) aufteilen**\n"
   ]
  },
  {
   "cell_type": "code",
   "execution_count": 82,
   "metadata": {},
   "outputs": [],
   "source": [
    "x = daten.iloc[:,:daten.shape[1]-3]\n",
    "y = daten['type'].values\n"
   ]
  },
  {
   "cell_type": "markdown",
   "metadata": {},
   "source": [
    "Da die Features auf unterschiedlichen Skalen sind, müssen sie skaliert werden"
   ]
  },
  {
   "cell_type": "code",
   "execution_count": 83,
   "metadata": {},
   "outputs": [],
   "source": [
    "# Noch andere Skaler ausprobieren...\n",
    "scaler = StandardScaler()\n",
    "x = scaler.fit_transform(x)"
   ]
  },
  {
   "cell_type": "markdown",
   "metadata": {},
   "source": [
    "**Definition der verschiedenen Featureanzahlen k** <br>\n",
    "Danach werden alle Schritte für jedes k durch geführt. Deshalb ist um alles eine while-Schlife rum, die alle k-Werte durchläuft"
   ]
  },
  {
   "cell_type": "code",
   "execution_count": 84,
   "metadata": {},
   "outputs": [],
   "source": [
    "k = np.arange(20, 150, 10)"
   ]
  },
  {
   "cell_type": "markdown",
   "metadata": {},
   "source": [
    "**Forward Selection mit SelectKBest** <br>\n",
    "Scorefunction ist standartisiert der T-Wert"
   ]
  },
  {
   "cell_type": "code",
   "execution_count": 85,
   "metadata": {},
   "outputs": [
    {
     "name": "stderr",
     "output_type": "stream",
     "text": [
      "/home/miriam/.local/anaconda3/lib/python3.7/site-packages/sklearn/feature_selection/univariate_selection.py:114: UserWarning: Features [ 16  17  18  20  31  33  35  44  45  47  60  62  64  72  73  74  76  88\n",
      "  92  95 103 105 107 115 116 117 119 156 157 159 168 169 171 179 180 182] are constant.\n",
      "  UserWarning)\n",
      "/home/miriam/.local/anaconda3/lib/python3.7/site-packages/sklearn/feature_selection/univariate_selection.py:115: RuntimeWarning: invalid value encountered in true_divide\n",
      "  f = msb / msw\n",
      "/home/miriam/.local/anaconda3/lib/python3.7/site-packages/sklearn/feature_selection/univariate_selection.py:114: UserWarning: Features [ 16  17  18  20  31  33  35  44  45  47  60  62  64  72  73  74  76  88\n",
      "  92  95 103 105 107 115 116 117 119 156 157 159 168 169 171 179 180 182] are constant.\n",
      "  UserWarning)\n",
      "/home/miriam/.local/anaconda3/lib/python3.7/site-packages/sklearn/feature_selection/univariate_selection.py:115: RuntimeWarning: invalid value encountered in true_divide\n",
      "  f = msb / msw\n",
      "/home/miriam/.local/anaconda3/lib/python3.7/site-packages/sklearn/feature_selection/univariate_selection.py:114: UserWarning: Features [ 16  17  18  20  31  33  35  44  45  47  60  62  64  72  73  74  76  88\n",
      "  92  95 103 105 107 115 116 117 119 156 157 159 168 169 171 179 180 182] are constant.\n",
      "  UserWarning)\n",
      "/home/miriam/.local/anaconda3/lib/python3.7/site-packages/sklearn/feature_selection/univariate_selection.py:115: RuntimeWarning: invalid value encountered in true_divide\n",
      "  f = msb / msw\n",
      "/home/miriam/.local/anaconda3/lib/python3.7/site-packages/sklearn/feature_selection/univariate_selection.py:114: UserWarning: Features [ 16  17  18  20  31  33  35  44  45  47  60  62  64  72  73  74  76  88\n",
      "  92  95 103 105 107 115 116 117 119 156 157 159 168 169 171 179 180 182] are constant.\n",
      "  UserWarning)\n",
      "/home/miriam/.local/anaconda3/lib/python3.7/site-packages/sklearn/feature_selection/univariate_selection.py:115: RuntimeWarning: invalid value encountered in true_divide\n",
      "  f = msb / msw\n",
      "/home/miriam/.local/anaconda3/lib/python3.7/site-packages/sklearn/feature_selection/univariate_selection.py:114: UserWarning: Features [ 16  17  18  20  31  33  35  44  45  47  60  62  64  72  73  74  76  88\n",
      "  92  95 103 105 107 115 116 117 119 156 157 159 168 169 171 179 180 182] are constant.\n",
      "  UserWarning)\n",
      "/home/miriam/.local/anaconda3/lib/python3.7/site-packages/sklearn/feature_selection/univariate_selection.py:115: RuntimeWarning: invalid value encountered in true_divide\n",
      "  f = msb / msw\n",
      "/home/miriam/.local/anaconda3/lib/python3.7/site-packages/sklearn/feature_selection/univariate_selection.py:114: UserWarning: Features [ 16  17  18  20  31  33  35  44  45  47  60  62  64  72  73  74  76  88\n",
      "  92  95 103 105 107 115 116 117 119 156 157 159 168 169 171 179 180 182] are constant.\n",
      "  UserWarning)\n",
      "/home/miriam/.local/anaconda3/lib/python3.7/site-packages/sklearn/feature_selection/univariate_selection.py:115: RuntimeWarning: invalid value encountered in true_divide\n",
      "  f = msb / msw\n",
      "/home/miriam/.local/anaconda3/lib/python3.7/site-packages/sklearn/feature_selection/univariate_selection.py:114: UserWarning: Features [ 16  17  18  20  31  33  35  44  45  47  60  62  64  72  73  74  76  88\n",
      "  92  95 103 105 107 115 116 117 119 156 157 159 168 169 171 179 180 182] are constant.\n",
      "  UserWarning)\n",
      "/home/miriam/.local/anaconda3/lib/python3.7/site-packages/sklearn/feature_selection/univariate_selection.py:115: RuntimeWarning: invalid value encountered in true_divide\n",
      "  f = msb / msw\n",
      "/home/miriam/.local/anaconda3/lib/python3.7/site-packages/sklearn/feature_selection/univariate_selection.py:114: UserWarning: Features [ 16  17  18  20  31  33  35  44  45  47  60  62  64  72  73  74  76  88\n",
      "  92  95 103 105 107 115 116 117 119 156 157 159 168 169 171 179 180 182] are constant.\n",
      "  UserWarning)\n",
      "/home/miriam/.local/anaconda3/lib/python3.7/site-packages/sklearn/feature_selection/univariate_selection.py:115: RuntimeWarning: invalid value encountered in true_divide\n",
      "  f = msb / msw\n",
      "/home/miriam/.local/anaconda3/lib/python3.7/site-packages/sklearn/feature_selection/univariate_selection.py:114: UserWarning: Features [ 16  17  18  20  31  33  35  44  45  47  60  62  64  72  73  74  76  88\n",
      "  92  95 103 105 107 115 116 117 119 156 157 159 168 169 171 179 180 182] are constant.\n",
      "  UserWarning)\n",
      "/home/miriam/.local/anaconda3/lib/python3.7/site-packages/sklearn/feature_selection/univariate_selection.py:115: RuntimeWarning: invalid value encountered in true_divide\n",
      "  f = msb / msw\n",
      "/home/miriam/.local/anaconda3/lib/python3.7/site-packages/sklearn/feature_selection/univariate_selection.py:114: UserWarning: Features [ 16  17  18  20  31  33  35  44  45  47  60  62  64  72  73  74  76  88\n",
      "  92  95 103 105 107 115 116 117 119 156 157 159 168 169 171 179 180 182] are constant.\n",
      "  UserWarning)\n",
      "/home/miriam/.local/anaconda3/lib/python3.7/site-packages/sklearn/feature_selection/univariate_selection.py:115: RuntimeWarning: invalid value encountered in true_divide\n",
      "  f = msb / msw\n",
      "/home/miriam/.local/anaconda3/lib/python3.7/site-packages/sklearn/feature_selection/univariate_selection.py:114: UserWarning: Features [ 16  17  18  20  31  33  35  44  45  47  60  62  64  72  73  74  76  88\n",
      "  92  95 103 105 107 115 116 117 119 156 157 159 168 169 171 179 180 182] are constant.\n",
      "  UserWarning)\n",
      "/home/miriam/.local/anaconda3/lib/python3.7/site-packages/sklearn/feature_selection/univariate_selection.py:115: RuntimeWarning: invalid value encountered in true_divide\n",
      "  f = msb / msw\n",
      "/home/miriam/.local/anaconda3/lib/python3.7/site-packages/sklearn/feature_selection/univariate_selection.py:114: UserWarning: Features [ 16  17  18  20  31  33  35  44  45  47  60  62  64  72  73  74  76  88\n",
      "  92  95 103 105 107 115 116 117 119 156 157 159 168 169 171 179 180 182] are constant.\n",
      "  UserWarning)\n",
      "/home/miriam/.local/anaconda3/lib/python3.7/site-packages/sklearn/feature_selection/univariate_selection.py:115: RuntimeWarning: invalid value encountered in true_divide\n",
      "  f = msb / msw\n",
      "/home/miriam/.local/anaconda3/lib/python3.7/site-packages/sklearn/feature_selection/univariate_selection.py:114: UserWarning: Features [ 16  17  18  20  31  33  35  44  45  47  60  62  64  72  73  74  76  88\n",
      "  92  95 103 105 107 115 116 117 119 156 157 159 168 169 171 179 180 182] are constant.\n",
      "  UserWarning)\n",
      "/home/miriam/.local/anaconda3/lib/python3.7/site-packages/sklearn/feature_selection/univariate_selection.py:115: RuntimeWarning: invalid value encountered in true_divide\n",
      "  f = msb / msw\n"
     ]
    }
   ],
   "source": [
    "x_sel = []\n",
    "for i in k:\n",
    "    sel = SelectKBest(k=i) \n",
    "    x_sel.append(sel.fit_transform(x, y))\n",
    "    "
   ]
  },
  {
   "cell_type": "code",
   "execution_count": null,
   "metadata": {},
   "outputs": [],
   "source": []
  },
  {
   "cell_type": "markdown",
   "metadata": {},
   "source": [
    "**Außerdem Teilen in Trainings- und Testdatensatz**"
   ]
  },
  {
   "cell_type": "code",
   "execution_count": 86,
   "metadata": {},
   "outputs": [],
   "source": [
    "x_train = []\n",
    "y_train = []\n",
    "x_test = []\n",
    "y_test = []\n",
    "\n",
    "i = 0\n",
    "while i < len(k):\n",
    "    train_x, test_x, train_y, test_y = train_test_split(x_sel[i],y, test_size = 0.3, random_state = 42, stratify = y)\n",
    "    x_train.append(train_x)\n",
    "    y_train.append(train_y)\n",
    "    x_test.append(test_x)\n",
    "    y_test.append(test_y)\n",
    "    i = i+1\n",
    "    "
   ]
  },
  {
   "cell_type": "markdown",
   "metadata": {},
   "source": [
    "**Random-Forest-Lerner**"
   ]
  },
  {
   "cell_type": "code",
   "execution_count": 87,
   "metadata": {},
   "outputs": [],
   "source": [
    "RF = RandomForestClassifier(100)\n",
    "\n",
    "y_pred_RF = [] #Vorhergesagten Klassen\n",
    "accuracy_RF = [] #Reinheit\n",
    "efficiency_RF = [] #Effizienz\n",
    "jaccard_RF = [] #Jaccard-Index\n",
    "roc_auc_RF = [] #Fläche unter ROC-Kurve"
   ]
  },
  {
   "cell_type": "code",
   "execution_count": 88,
   "metadata": {},
   "outputs": [],
   "source": [
    "i = 0\n",
    "\n",
    "while i < len(k):   \n",
    "    #Lerner\n",
    "    RF.fit(x_train[i], y_train[i])\n",
    "    predict = RF.predict(x_test[i])\n",
    "    y_pred_RF.append(predict)\n",
    "    \n",
    "    #Berechnung und speichern der Qualitätsparameter\n",
    "    accuracy_RF.append(accuracy_score(y_test[i], y_pred_RF[i]))\n",
    "    efficiency_RF.append(precision_score(y_test[i], y_pred_RF[i]))\n",
    "    jaccard_RF.append(jaccard_similarity_score(y_test[i], y_pred_RF[i], normalize = True))\n",
    "    roc_auc_RF.append(roc_auc_score(y_test[i], y_pred_RF[i]))\n",
    "    \n",
    "    i = i+1"
   ]
  },
  {
   "cell_type": "code",
   "execution_count": null,
   "metadata": {},
   "outputs": [],
   "source": []
  },
  {
   "cell_type": "code",
   "execution_count": 103,
   "metadata": {},
   "outputs": [
    {
     "data": {
      "image/png": "[encoded data removed]",
      "text/plain": [
       "<Figure size 432x288 with 4 Axes>"
      ]
     },
     "metadata": {
      "needs_background": "light"
     },
     "output_type": "display_data"
    }
   ],
   "source": [
    "plt.subplot(2,2,1)\n",
    "plt.plot(k, accuracy_RF, marker = 'x', linestyle = '', color = 'forestgreen')\n",
    "plt.xlabel(r'Anzahl Features')\n",
    "plt.ylabel(r'Reinheit')\n",
    "\n",
    "plt.subplot(2,2,2)\n",
    "plt.plot(k, efficiency_RF, marker = 'x', linestyle = '', color = 'forestgreen')\n",
    "plt.xlabel(r'Anzahl Features')\n",
    "plt.ylabel(r'Effizienz')\n",
    "\n",
    "plt.subplot(2,2,3)\n",
    "plt.plot(k, jaccard_RF, marker = 'x', linestyle = '', color = 'forestgreen')\n",
    "plt.xlabel(r'Anzahl Features')\n",
    "plt.ylabel(r'Jaccard-Index')\n",
    "\n",
    "plt.subplot(2,2,4)\n",
    "plt.plot(k, roc_auc_RF, marker = 'x', linestyle = '', color = 'forestgreen')\n",
    "plt.xlabel(r'Anzahl Features')\n",
    "plt.ylabel(r'Fläche unter ROC-Kurve')\n",
    "\n",
    "plt.subplots_adjust(wspace = 0.5, hspace = 0.5)\n",
    "plt.savefig('RF_featurezahl.png')"
   ]
  },
  {
   "cell_type": "code",
   "execution_count": null,
   "metadata": {},
   "outputs": [],
   "source": []
  },
  {
   "cell_type": "markdown",
   "metadata": {},
   "source": [
    "Das selbe für verschiedene Baumtiefen"
   ]
  },
  {
   "cell_type": "code",
   "execution_count": 104,
   "metadata": {},
   "outputs": [],
   "source": [
    "tiefe = np.arange(10,100,10)\n",
    "\n",
    "y_pred_RF_anzahl = [] #Vorhergesagten Klassen\n",
    "accuracy_RF_anzahl = [] #Reinheit\n",
    "efficiency_RF_anzahl = [] #Effizienz\n",
    "jaccard_RF_anzahl = [] #Jaccard-Index\n",
    "roc_auc_RF_anzahl = [] #Fläche unter ROC-Kurve\n",
    "\n",
    "i = 0\n",
    "while i < len(tiefe):\n",
    "    RF = RandomForestClassifier(tiefe[i])\n",
    "    RF.fit(x_train[3], y_train[3])\n",
    "    predict = RF.predict(x_test[3])\n",
    "    y_pred_RF_anzahl.append(predict)\n",
    "    \n",
    "    #Berechnung und speichern der Qualitätsparameter\n",
    "    accuracy_RF_anzahl.append(accuracy_score(y_test[3], y_pred_RF_anzahl[i]))\n",
    "    efficiency_RF_anzahl.append(precision_score(y_test[3], y_pred_RF_anzahl[i]))\n",
    "    jaccard_RF_anzahl.append(jaccard_similarity_score(y_test[3], y_pred_RF_anzahl[i], normalize = True))\n",
    "    roc_auc_RF_anzahl.append(roc_auc_score(y_test[3], y_pred_RF_anzahl[i]))\n",
    "    \n",
    "    i = i+1"
   ]
  },
  {
   "cell_type": "code",
   "execution_count": 105,
   "metadata": {},
   "outputs": [
    {
     "data": {
      "image/png": "[encoded data removed]",
      "text/plain": [
       "<Figure size 432x288 with 4 Axes>"
      ]
     },
     "metadata": {
      "needs_background": "light"
     },
     "output_type": "display_data"
    }
   ],
   "source": [
    "plt.subplot(2,2,1)\n",
    "plt.plot(tiefe, accuracy_RF_anzahl, marker = 'x', linestyle = '', color = 'forestgreen')\n",
    "plt.xlabel(r'Baumtiefe')\n",
    "plt.ylabel(r'Reinheit')\n",
    "\n",
    "plt.subplot(2,2,2)\n",
    "plt.plot(tiefe, efficiency_RF_anzahl, marker = 'x', linestyle = '', color = 'forestgreen')\n",
    "plt.xlabel(r'Baumtiefe')\n",
    "plt.ylabel(r'Effizienz')\n",
    "\n",
    "plt.subplot(2,2,3)\n",
    "plt.plot(tiefe, jaccard_RF_anzahl, marker = 'x', linestyle = '', color = 'forestgreen')\n",
    "plt.xlabel(r'Baumtiefe')\n",
    "plt.ylabel(r'Jaccard-Index')\n",
    "\n",
    "plt.subplot(2,2,4)\n",
    "plt.plot(tiefe, roc_auc_RF_anzahl, marker = 'x', linestyle = '', color = 'forestgreen')\n",
    "plt.xlabel(r'Baumtiefe')\n",
    "plt.ylabel(r'Fläche unter ROC-Kurve')\n",
    "\n",
    "plt.subplots_adjust(wspace = 0.5, hspace = 0.5)\n",
    "plt.savefig('RF_baumtiefe.png')"
   ]
  },
  {
   "cell_type": "code",
   "execution_count": 106,
   "metadata": {},
   "outputs": [],
   "source": [
    "tiefe_best = 70 #entspricht tiefe[6]\n",
    "k_best_RF = 40 #entspricht k[3]"
   ]
  },
  {
   "cell_type": "markdown",
   "metadata": {},
   "source": [
    "Cross-Validation für den besten Fall <br>\n",
    "Um Rechenzeit zu sparen und weil die verschiedenen Baumtiefen kaum Unterschied machen, wird allerdings tiefe = 10 benutzt...\n"
   ]
  },
  {
   "cell_type": "code",
   "execution_count": 107,
   "metadata": {},
   "outputs": [
    {
     "name": "stdout",
     "output_type": "stream",
     "text": [
      "Random-Forest:\n",
      "Reinheit:\n",
      "[0.914    0.954625 0.961125 0.96025  0.96175 ]\n",
      "0.95035 pm 0.009175153268474586\n",
      "Effizienz:\n",
      "[0.88122251 0.97463768 0.98370137 0.98527865 0.9852554 ]\n",
      "0.9620191209954253 pm 0.02029577714863351\n",
      "Fläche unter ROC-Kurve:\n",
      "[0.97472725 0.9892505  0.99197147 0.99118572 0.99373516]\n",
      "0.98817401875 pm 0.003437961717238756\n"
     ]
    }
   ],
   "source": [
    "RF = RandomForestClassifier(10)\n",
    "print('Random-Forest:')\n",
    "\n",
    "#Der Funktion werden die nicht gesplitteten (wird ja in der Funktion gemacht) aber selektierten (ausgewählte Features) Daten übergeben\n",
    "#Funktion gibt Standartscore des Lerners zurück -> hier: Accuracy\n",
    "accuracy_RF_cross = cross_val_score(RF, x_sel[3], y, cv = 5)\n",
    "print('Reinheit:')\n",
    "print(accuracy_RF_cross)\n",
    "print(np.mean(accuracy_RF_cross), 'pm', (np.std(accuracy_RF_cross, ddof=1) / np.sqrt(len(accuracy_RF_cross))))\n",
    "\n",
    "#Für andere Parameter: Änderung durch scoring\n",
    "efficiency_RF_cross = cross_val_score(RF, x_sel[3], y, cv = 5, scoring = 'precision')\n",
    "print('Effizienz:')\n",
    "print(efficiency_RF_cross)\n",
    "print(np.mean(efficiency_RF_cross), 'pm', (np.std(efficiency_RF_cross, ddof=1) / np.sqrt(len(efficiency_RF_cross))))\n",
    "\n",
    "AUC_RF_cross = cross_val_score(RF, x_sel[3], y, cv = 5, scoring = 'roc_auc')\n",
    "print('Fläche unter ROC-Kurve:')\n",
    "print(AUC_RF_cross)\n",
    "print(np.mean(AUC_RF_cross), 'pm', (np.std(AUC_RF_cross, ddof=1) / np.sqrt(len(AUC_RF_cross))))"
   ]
  },
  {
   "cell_type": "markdown",
   "metadata": {},
   "source": [
    "Confusion-Matrix für besten Fall\n"
   ]
  },
  {
   "cell_type": "code",
   "execution_count": 112,
   "metadata": {},
   "outputs": [],
   "source": [
    "import itertools\n",
    "def plot_confusion_matrix(cm, classes,\n",
    "                          normalize=True,\n",
    "                          title='Confusion matrix',\n",
    "                          cmap=plt.cm.Blues):\n",
    "    \"\"\"\n",
    "    This function prints and plots the confusion matrix.\n",
    "    Normalization can be applied by setting `normalize=True`.\n",
    "    \"\"\"\n",
    "    plt.imshow(cm, interpolation='nearest', cmap=cmap)\n",
    "    plt.title(title)\n",
    "    plt.colorbar()\n",
    "    tick_marks = np.arange(len(classes))\n",
    "    plt.xticks(tick_marks, classes, rotation=45)\n",
    "    plt.yticks(tick_marks, classes)\n",
    "\n",
    "    if normalize:\n",
    "        cm = cm.astype('float') / cm.sum(axis=1)[:, np.newaxis]\n",
    "\n",
    "    # Loop over data dimensions and create text annotations.\n",
    "    fmt = '.2f' if normalize else 'd'\n",
    "    thresh = cm.max() / 2.\n",
    "    for i, j in itertools.product(range(cm.shape[0]), range(cm.shape[1])):\n",
    "        plt.text(j, i, format(cm[i, j], fmt),\n",
    "                 horizontalalignment=\"center\",\n",
    "                 color=\"white\" if cm[i, j] > thresh else \"black\")\n",
    "\n",
    "    plt.tight_layout()\n",
    "    plt.ylabel('True label')\n",
    "    plt.xlabel('Predicted label')"
   ]
  },
  {
   "cell_type": "code",
   "execution_count": 113,
   "metadata": {},
   "outputs": [
    {
     "data": {
      "image/png": "[encoded data removed]",
      "text/plain": [
       "<Figure size 432x288 with 2 Axes>"
      ]
     },
     "metadata": {
      "needs_background": "light"
     },
     "output_type": "display_data"
    }
   ],
   "source": [
    "confusion_mtx_RF = confusion_matrix(y_test[3], y_pred_RF[3])\n",
    "plot_confusion_matrix(confusion_mtx_RF, classes = range(2), cmap = plt.cm.Greens)\n",
    "plt.savefig('RF_confusion.png')"
   ]
  },
  {
   "cell_type": "code",
   "execution_count": null,
   "metadata": {},
   "outputs": [],
   "source": []
  },
  {
   "cell_type": "code",
   "execution_count": null,
   "metadata": {},
   "outputs": [],
   "source": []
  },
  {
   "cell_type": "code",
   "execution_count": null,
   "metadata": {},
   "outputs": [],
   "source": []
  },
  {
   "cell_type": "markdown",
   "metadata": {},
   "source": [
    "**kNN-Klassifikator**"
   ]
  },
  {
   "cell_type": "code",
   "execution_count": 114,
   "metadata": {},
   "outputs": [],
   "source": [
    "kNN = KNeighborsClassifier(10)\n",
    "\n",
    "y_pred_kNN = [] #Vorhergesagten Klassen\n",
    "accuracy_kNN = [] #Reinheit\n",
    "efficiency_kNN = [] #Effizienz\n",
    "jaccard_kNN = [] #Jaccard-Index\n",
    "roc_auc_kNN = [] #Fläche unter ROC-Kurve"
   ]
  },
  {
   "cell_type": "code",
   "execution_count": 115,
   "metadata": {},
   "outputs": [],
   "source": [
    "i = 0\n",
    "\n",
    "while i < len(k):   \n",
    "    #Lerner\n",
    "    kNN.fit(x_train[i], y_train[i])\n",
    "    predict = kNN.predict(x_test[i])\n",
    "    y_pred_kNN.append(predict)\n",
    "    \n",
    "    #Berechnung und speichern der Qualitätsparameter\n",
    "    accuracy_kNN.append(accuracy_score(y_test[i], y_pred_kNN[i]))\n",
    "    efficiency_kNN.append(precision_score(y_test[i], y_pred_kNN[i]))\n",
    "    jaccard_kNN.append(jaccard_similarity_score(y_test[i], y_pred_kNN[i], normalize = True))\n",
    "    roc_auc_kNN.append(roc_auc_score(y_test[i], y_pred_kNN[i]))\n",
    "    \n",
    "    i = i+1"
   ]
  },
  {
   "cell_type": "code",
   "execution_count": 118,
   "metadata": {},
   "outputs": [
    {
     "data": {
      "image/png": "[encoded data removed]",
      "text/plain": [
       "<Figure size 432x288 with 4 Axes>"
      ]
     },
     "metadata": {
      "needs_background": "light"
     },
     "output_type": "display_data"
    }
   ],
   "source": [
    "plt.subplot(2,2,1)\n",
    "plt.plot(k, accuracy_kNN, marker = 'x', linestyle = '', color = 'forestgreen')\n",
    "plt.xlabel(r'Anzahl Features')\n",
    "plt.ylabel(r'Reinheit')\n",
    "\n",
    "plt.subplot(2,2,2)\n",
    "plt.plot(k, efficiency_kNN, marker = 'x', linestyle = '', color = 'forestgreen')\n",
    "plt.xlabel(r'Anzahl Features')\n",
    "plt.ylabel(r'Effizienz')\n",
    "\n",
    "plt.subplot(2,2,3)\n",
    "plt.plot(k, jaccard_kNN, marker = 'x', linestyle = '', color = 'forestgreen')\n",
    "plt.xlabel(r'Anzahl Features')\n",
    "plt.ylabel(r'Jaccard-Index')\n",
    "\n",
    "plt.subplot(2,2,4)\n",
    "plt.plot(k, roc_auc_kNN, marker = 'x', linestyle = '', color = 'forestgreen')\n",
    "plt.xlabel(r'Anzahl Features')\n",
    "plt.ylabel(r'Fläche unter ROC-Kurve')\n",
    "\n",
    "plt.subplots_adjust(wspace = 0.5, hspace = 0.5)\n",
    "plt.savefig('kNN_featurezahl.png')"
   ]
  },
  {
   "cell_type": "code",
   "execution_count": null,
   "metadata": {},
   "outputs": [],
   "source": []
  },
  {
   "cell_type": "markdown",
   "metadata": {},
   "source": [
    "Das selbe für verschiedene Anzahl an Nachbarn"
   ]
  },
  {
   "cell_type": "code",
   "execution_count": 119,
   "metadata": {},
   "outputs": [],
   "source": [
    "nachbarn = np.arange(10,100,10)\n",
    "\n",
    "y_pred_kNN_anzahl = [] #Vorhergesagten Klassen\n",
    "accuracy_kNN_anzahl = [] #Reinheit\n",
    "efficiency_kNN_anzahl = [] #Effizienz\n",
    "jaccard_kNN_anzahl = [] #Jaccard-Index\n",
    "roc_auc_kNN_anzahl = [] #Fläche unter ROC-Kurve\n",
    "\n",
    "i = 0\n",
    "while i < len(nachbarn):\n",
    "    kNN = KNeighborsClassifier(nachbarn[i])\n",
    "    kNN.fit(x_train[4], y_train[4])\n",
    "    predict = kNN.predict(x_test[4])\n",
    "    y_pred_kNN_anzahl.append(predict)\n",
    "    \n",
    "    #Berechnung und speichern der Qualitätsparameter\n",
    "    accuracy_kNN_anzahl.append(accuracy_score(y_test[4], y_pred_kNN_anzahl[i]))\n",
    "    efficiency_kNN_anzahl.append(precision_score(y_test[4], y_pred_kNN_anzahl[i]))\n",
    "    jaccard_kNN_anzahl.append(jaccard_similarity_score(y_test[4], y_pred_kNN_anzahl[i], normalize = True))\n",
    "    roc_auc_kNN_anzahl.append(roc_auc_score(y_test[4], y_pred_kNN_anzahl[i]))\n",
    "    \n",
    "    i = i+1"
   ]
  },
  {
   "cell_type": "code",
   "execution_count": 120,
   "metadata": {},
   "outputs": [
    {
     "data": {
      "image/png": "[encoded data removed]",
      "text/plain": [
       "<Figure size 432x288 with 4 Axes>"
      ]
     },
     "metadata": {
      "needs_background": "light"
     },
     "output_type": "display_data"
    }
   ],
   "source": [
    "plt.subplot(2,2,1)\n",
    "plt.plot(nachbarn, accuracy_kNN_anzahl, marker = 'x', linestyle = '', color = 'forestgreen')\n",
    "plt.xlabel(r'Anzahl Nachbarn')\n",
    "plt.ylabel(r'Reinheit')\n",
    "\n",
    "plt.subplot(2,2,2)\n",
    "plt.plot(nachbarn, efficiency_kNN_anzahl, marker = 'x', linestyle = '', color = 'forestgreen')\n",
    "plt.xlabel(r'Anzahl Nachbarn')\n",
    "plt.ylabel(r'Effizienz')\n",
    "\n",
    "plt.subplot(2,2,3)\n",
    "plt.plot(nachbarn, jaccard_kNN_anzahl, marker = 'x', linestyle = '', color = 'forestgreen')\n",
    "plt.xlabel(r'Anzahl Nachbarn')\n",
    "plt.ylabel(r'Jaccard-Index')\n",
    "\n",
    "plt.subplot(2,2,4)\n",
    "plt.plot(nachbarn, roc_auc_kNN_anzahl, marker = 'x', linestyle = '', color = 'forestgreen')\n",
    "plt.xlabel(r'Anzahl Nachbarn')\n",
    "plt.ylabel(r'Fläche unter ROC-Kurve')\n",
    "\n",
    "plt.subplots_adjust(wspace = 0.5, hspace = 0.5)\n",
    "plt.savefig('kNN_nachbarzahl.png')"
   ]
  },
  {
   "cell_type": "code",
   "execution_count": 121,
   "metadata": {},
   "outputs": [],
   "source": [
    "nachbar_best = 10\n",
    "k_best_kNN = 50"
   ]
  },
  {
   "cell_type": "markdown",
   "metadata": {},
   "source": [
    "Cross-Validation"
   ]
  },
  {
   "cell_type": "code",
   "execution_count": 122,
   "metadata": {},
   "outputs": [
    {
     "name": "stdout",
     "output_type": "stream",
     "text": [
      "kNN-Klassifikator:\n",
      "Reinheit:\n",
      "[0.886375 0.944875 0.952875 0.952    0.952875]\n",
      "0.9378 pm 0.012943603632682819\n",
      "Effizienz:\n",
      "[0.85374228 0.95804376 0.97633447 0.97679325 0.97859974]\n",
      "0.9487026981385844 pm 0.024032440799445106\n",
      "Fläche unter ROC-Kurve:\n",
      "[0.96076325 0.98541272 0.98752938 0.98664166 0.98830653]\n",
      "0.9817307062499999 pm 0.005263909674620046\n"
     ]
    }
   ],
   "source": [
    "kNN = KNeighborsClassifier(10)\n",
    "print('kNN-Klassifikator:')\n",
    "\n",
    "#Der Funktion werden die nicht gesplitteten (wird ja in der Funktion gemacht) aber selektierten (ausgewählte Features) Daten übergeben\n",
    "#Funktion gibt Standartscore des Lerners zurück -> hier: Accuracy\n",
    "accuracy_kNN_cross = cross_val_score(kNN, x_sel[4], y, cv = 5)\n",
    "print('Reinheit:')\n",
    "print(accuracy_kNN_cross)\n",
    "print(np.mean(accuracy_kNN_cross), 'pm', (np.std(accuracy_kNN_cross, ddof=1) / np.sqrt(len(accuracy_kNN_cross))))\n",
    "\n",
    "#Für andere Parameter: Änderung durch scoring\n",
    "efficiency_kNN_cross = cross_val_score(kNN, x_sel[4], y, cv = 5, scoring = 'precision')\n",
    "print('Effizienz:')\n",
    "print(efficiency_kNN_cross)\n",
    "print(np.mean(efficiency_kNN_cross), 'pm', (np.std(efficiency_kNN_cross, ddof=1) / np.sqrt(len(efficiency_kNN_cross))))\n",
    "\n",
    "AUC_kNN_cross = cross_val_score(kNN, x_sel[4], y, cv = 5, scoring = 'roc_auc')\n",
    "print('Fläche unter ROC-Kurve:')\n",
    "print(AUC_kNN_cross)\n",
    "print(np.mean(AUC_kNN_cross), 'pm', (np.std(AUC_kNN_cross, ddof=1) / np.sqrt(len(AUC_kNN_cross))))"
   ]
  },
  {
   "cell_type": "markdown",
   "metadata": {},
   "source": [
    "Confusion-Matrix"
   ]
  },
  {
   "cell_type": "code",
   "execution_count": 123,
   "metadata": {},
   "outputs": [
    {
     "data": {
      "image/png": "[encoded data removed]",
      "text/plain": [
       "<Figure size 432x288 with 2 Axes>"
      ]
     },
     "metadata": {
      "needs_background": "light"
     },
     "output_type": "display_data"
    }
   ],
   "source": [
    "confusion_mtx_kNN = confusion_matrix(y_test[4], y_pred_kNN[4])\n",
    "plot_confusion_matrix(confusion_mtx_kNN, classes = range(2), cmap = plt.cm.Greens)\n",
    "plt.savefig('kNN_confusion.png')"
   ]
  },
  {
   "cell_type": "markdown",
   "metadata": {},
   "source": [
    "**Naive-Bayes-Lerner**"
   ]
  },
  {
   "cell_type": "code",
   "execution_count": 124,
   "metadata": {},
   "outputs": [],
   "source": [
    "NB = GaussianNB()\n",
    "\n",
    "y_pred_NB = [] #Vorhergesagten Klassen\n",
    "accuracy_NB = [] #Reinheit\n",
    "efficiency_NB = [] #Effizienz\n",
    "jaccard_NB = [] #Jaccard-Index\n",
    "roc_auc_NB = [] #Fläche unter ROC-Kurve"
   ]
  },
  {
   "cell_type": "code",
   "execution_count": 125,
   "metadata": {},
   "outputs": [],
   "source": [
    "i = 0\n",
    "\n",
    "while i < len(k):   \n",
    "    #Lerner\n",
    "    NB.fit(x_train[i], y_train[i])\n",
    "    predict = NB.predict(x_test[i])\n",
    "    y_pred_NB.append(predict)\n",
    "    \n",
    "    #Berechnung und speichern der Qualitätsparameter\n",
    "    accuracy_NB.append(accuracy_score(y_test[i], y_pred_NB[i]))\n",
    "    efficiency_NB.append(precision_score(y_test[i], y_pred_NB[i]))\n",
    "    jaccard_NB.append(jaccard_similarity_score(y_test[i], y_pred_NB[i], normalize = True))\n",
    "    roc_auc_NB.append(roc_auc_score(y_test[i], y_pred_NB[i]))\n",
    "    \n",
    "    i = i+1"
   ]
  },
  {
   "cell_type": "code",
   "execution_count": 126,
   "metadata": {},
   "outputs": [
    {
     "data": {
      "image/png": "[encoded data removed]",
      "text/plain": [
       "<Figure size 432x288 with 4 Axes>"
      ]
     },
     "metadata": {
      "needs_background": "light"
     },
     "output_type": "display_data"
    }
   ],
   "source": [
    "plt.subplot(2,2,1)\n",
    "plt.plot(k, accuracy_NB, marker = 'x', linestyle = '', color = 'forestgreen')\n",
    "plt.xlabel(r'Anzahl Features')\n",
    "plt.ylabel(r'Reinheit')\n",
    "\n",
    "plt.subplot(2,2,2)\n",
    "plt.plot(k, efficiency_NB, marker = 'x', linestyle = '', color = 'forestgreen')\n",
    "plt.xlabel(r'Anzahl Features')\n",
    "plt.ylabel(r'Effizienz')\n",
    "\n",
    "plt.subplot(2,2,3)\n",
    "plt.plot(k, jaccard_NB, marker = 'x', linestyle = '', color = 'forestgreen')\n",
    "plt.xlabel(r'Anzahl Features')\n",
    "plt.ylabel(r'Jaccard-Index')\n",
    "\n",
    "plt.subplot(2,2,4)\n",
    "plt.plot(k, roc_auc_NB, marker = 'x', linestyle = '', color = 'forestgreen')\n",
    "plt.xlabel(r'Anzahl Features')\n",
    "plt.ylabel(r'Fläche unter ROC-Kurve')\n",
    "\n",
    "plt.subplots_adjust(wspace = 0.5, hspace = 0.5)\n",
    "plt.savefig('NB_featurezahl.png')"
   ]
  },
  {
   "cell_type": "code",
   "execution_count": 127,
   "metadata": {},
   "outputs": [],
   "source": [
    "k_best_NB = 60"
   ]
  },
  {
   "cell_type": "markdown",
   "metadata": {},
   "source": [
    "Cross-Validation"
   ]
  },
  {
   "cell_type": "code",
   "execution_count": 128,
   "metadata": {},
   "outputs": [
    {
     "name": "stdout",
     "output_type": "stream",
     "text": [
      "Naive-Bayes-Lerner:\n",
      "Reinheit:\n",
      "[0.805125 0.795375 0.867125 0.86075  0.869875]\n",
      "0.83965 pm 0.0162263481720318\n",
      "Effizienz:\n",
      "[0.76400606 0.72014161 0.85548293 0.8442271  0.8668485 ]\n",
      "0.8101412391623096 pm 0.02886331371329807\n",
      "Fläche unter ROC-Kurve:\n",
      "[0.86190409 0.92239472 0.93798562 0.93526922 0.93891528]\n",
      "0.9192937875 pm 0.01465058861115689\n"
     ]
    }
   ],
   "source": [
    "NB = GaussianNB()\n",
    "print('Naive-Bayes-Lerner:')\n",
    "\n",
    "#Der Funktion werden die nicht gesplitteten (wird ja in der Funktion gemacht) aber selektierten (ausgewählte Features) Daten übergeben\n",
    "#Funktion gibt Standartscore des Lerners zurück -> hier: Accuracy\n",
    "accuracy_NB_cross = cross_val_score(NB, x_sel[5], y, cv = 5)\n",
    "print('Reinheit:')\n",
    "print(accuracy_NB_cross)\n",
    "print(np.mean(accuracy_NB_cross), 'pm', (np.std(accuracy_NB_cross, ddof=1) / np.sqrt(len(accuracy_NB_cross))))\n",
    "\n",
    "#Für andere Parameter: Änderung durch scoring\n",
    "efficiency_NB_cross = cross_val_score(NB, x_sel[5], y, cv = 5, scoring = 'precision')\n",
    "print('Effizienz:')\n",
    "print(efficiency_NB_cross)\n",
    "print(np.mean(efficiency_NB_cross), 'pm', (np.std(efficiency_NB_cross, ddof=1) / np.sqrt(len(efficiency_NB_cross))))\n",
    "\n",
    "AUC_NB_cross = cross_val_score(NB, x_sel[5], y, cv = 5, scoring = 'roc_auc')\n",
    "print('Fläche unter ROC-Kurve:')\n",
    "print(AUC_NB_cross)\n",
    "print(np.mean(AUC_NB_cross), 'pm', (np.std(AUC_NB_cross, ddof=1) / np.sqrt(len(AUC_NB_cross))))"
   ]
  },
  {
   "cell_type": "markdown",
   "metadata": {},
   "source": [
    "Confusion-Matrix"
   ]
  },
  {
   "cell_type": "code",
   "execution_count": 129,
   "metadata": {},
   "outputs": [
    {
     "data": {
      "image/png": "[encoded data removed]",
      "text/plain": [
       "<Figure size 432x288 with 2 Axes>"
      ]
     },
     "metadata": {
      "needs_background": "light"
     },
     "output_type": "display_data"
    }
   ],
   "source": [
    "confusion_mtx_NB = confusion_matrix(y_test[5], y_pred_NB[5])\n",
    "plot_confusion_matrix(confusion_mtx_NB, classes = range(2), cmap = plt.cm.Greens)\n",
    "plt.savefig('NB_confusion.png')"
   ]
  },
  {
   "cell_type": "code",
   "execution_count": null,
   "metadata": {},
   "outputs": [],
   "source": []
  },
  {
   "cell_type": "markdown",
   "metadata": {},
   "source": [
    "**Zusammenfassende ROC-Kurve für alle besten Lerner**"
   ]
  },
  {
   "cell_type": "code",
   "execution_count": 130,
   "metadata": {},
   "outputs": [
    {
     "data": {
      "image/png": "[encoded data removed]",
      "text/plain": [
       "<Figure size 432x288 with 1 Axes>"
      ]
     },
     "metadata": {
      "needs_background": "light"
     },
     "output_type": "display_data"
    }
   ],
   "source": [
    "roc_x_RF, roc_y_RF, _ = roc_curve(y_test[3], y_pred_RF[3], pos_label=1)\n",
    "plt.plot(roc_x_RF, roc_y_RF, color = 'forestgreen', label = 'Random-Forest')\n",
    "\n",
    "roc_x_kNN, roc_y_kNN, _ = roc_curve(y_test[4], y_pred_kNN[4], pos_label=1)\n",
    "plt.plot(roc_x_kNN, roc_y_kNN, color = 'indianred', label = 'kNN')\n",
    "\n",
    "roc_x_NB, roc_y_NB, _ = roc_curve(y_test[5], y_pred_NB[5], pos_label=1)\n",
    "plt.plot(roc_x_NB, roc_y_NB, color = 'slateblue', label = 'Naive-Bayes')\n",
    "\n",
    "plt.xlabel(r'FP-Rate')\n",
    "plt.ylabel(r'TP-Rate')\n",
    "plt.savefig('roc_kurve.png')"
   ]
  },
  {
   "cell_type": "code",
   "execution_count": null,
   "metadata": {},
   "outputs": [],
   "source": []
  }
 ],
 "metadata": {
  "kernelspec": {
   "display_name": "Python 3",
   "language": "python",
   "name": "python3"
  },
  "language_info": {
   "codemirror_mode": {
    "name": "ipython",
    "version": 3
   },
   "file_extension": ".py",
   "mimetype": "text/x-python",
   "name": "python",
   "nbconvert_exporter": "python",
   "pygments_lexer": "ipython3",
   "version": "3.7.1"
  }
 },
 "nbformat": 4,
 "nbformat_minor": 2
}
