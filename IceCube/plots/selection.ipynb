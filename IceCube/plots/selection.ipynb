{
 "cells": [
  {
   "cell_type": "code",
   "execution_count": 1,
   "metadata": {},
   "outputs": [],
   "source": [
    "import numpy as np\n",
    "import pandas as pd\n",
    "import matplotlib.pyplot as plt\n",
    "import sklearn\n",
    "from sklearn.model_selection import train_test_split\n",
    "from sklearn.feature_selection import SelectKBest\n",
    "from sklearn.ensemble import RandomForestClassifier\n",
    "from sklearn.metrics import accuracy_score\n",
    "from sklearn.metrics import precision_score\n",
    "from sklearn.metrics import roc_curve\n",
    "from sklearn.neighbors import KNeighborsClassifier\n",
    "from sklearn.naive_bayes import GaussianNB\n",
    "from sklearn.preprocessing import StandardScaler\n",
    "from sklearn.metrics import jaccard_similarity_score\n",
    "from sklearn.metrics import roc_auc_score\n",
    "from sklearn.model_selection import cross_val_score\n",
    "from sklearn.metrics import confusion_matrix\n",
    "from sklearn.utils.multiclass import unique_labels"
   ]
  },
  {
   "cell_type": "code",
   "execution_count": 2,
   "metadata": {},
   "outputs": [
    {
     "data": {
      "text/plain": [
       "(40000, 189)"
      ]
     },
     "execution_count": 2,
     "metadata": {},
     "output_type": "execute_result"
    }
   ],
   "source": [
    "daten = pd.read_hdf('../data/data.hdf5', key='Daten')\n",
    "daten.shape"
   ]
  },
  {
   "cell_type": "markdown",
   "metadata": {},
   "source": [
    "**Daten zu features (x) und Targetvektor (y) aufteilen**\n"
   ]
  },
  {
   "cell_type": "code",
   "execution_count": 3,
   "metadata": {},
   "outputs": [],
   "source": [
    "x = daten.iloc[:,:daten.shape[1]-3]\n",
    "y = daten['type'].values\n"
   ]
  },
  {
   "cell_type": "markdown",
   "metadata": {},
   "source": [
    "Da die Features auf unterschiedlichen Skalen sind, müssen sie skaliert werden"
   ]
  },
  {
   "cell_type": "code",
   "execution_count": 4,
   "metadata": {},
   "outputs": [],
   "source": [
    "# Noch andere Skaler ausprobieren...\n",
    "scaler = StandardScaler()\n",
    "x = scaler.fit_transform(x)"
   ]
  },
  {
   "cell_type": "markdown",
   "metadata": {},
   "source": [
    "**Definition der verschiedenen Featureanzahlen k** <br>\n",
    "Danach werden alle Schritte für jedes k durch geführt. Deshalb ist um alles eine while-Schlife rum, die alle k-Werte durchläuft"
   ]
  },
  {
   "cell_type": "code",
   "execution_count": 5,
   "metadata": {},
   "outputs": [],
   "source": [
    "k = np.arange(20, 150, 10)"
   ]
  },
  {
   "cell_type": "markdown",
   "metadata": {},
   "source": [
    "**Forward Selection mit SelectKBest** <br>\n",
    "Scorefunction ist standartisiert der T-Wert"
   ]
  },
  {
   "cell_type": "code",
   "execution_count": 6,
   "metadata": {},
   "outputs": [
    {
     "name": "stderr",
     "output_type": "stream",
     "text": [
      "/home/miriam/.local/anaconda3/lib/python3.7/site-packages/sklearn/feature_selection/univariate_selection.py:114: UserWarning: Features [ 16  17  18  20  31  33  35  44  45  47  60  62  64  72  73  74  76  88\n",
      "  92  95 103 105 107 115 116 117 119 156 157 159 168 169 171 179 180 182] are constant.\n",
      "  UserWarning)\n",
      "/home/miriam/.local/anaconda3/lib/python3.7/site-packages/sklearn/feature_selection/univariate_selection.py:115: RuntimeWarning: invalid value encountered in true_divide\n",
      "  f = msb / msw\n",
      "/home/miriam/.local/anaconda3/lib/python3.7/site-packages/sklearn/feature_selection/univariate_selection.py:114: UserWarning: Features [ 16  17  18  20  31  33  35  44  45  47  60  62  64  72  73  74  76  88\n",
      "  92  95 103 105 107 115 116 117 119 156 157 159 168 169 171 179 180 182] are constant.\n",
      "  UserWarning)\n",
      "/home/miriam/.local/anaconda3/lib/python3.7/site-packages/sklearn/feature_selection/univariate_selection.py:115: RuntimeWarning: invalid value encountered in true_divide\n",
      "  f = msb / msw\n",
      "/home/miriam/.local/anaconda3/lib/python3.7/site-packages/sklearn/feature_selection/univariate_selection.py:114: UserWarning: Features [ 16  17  18  20  31  33  35  44  45  47  60  62  64  72  73  74  76  88\n",
      "  92  95 103 105 107 115 116 117 119 156 157 159 168 169 171 179 180 182] are constant.\n",
      "  UserWarning)\n",
      "/home/miriam/.local/anaconda3/lib/python3.7/site-packages/sklearn/feature_selection/univariate_selection.py:115: RuntimeWarning: invalid value encountered in true_divide\n",
      "  f = msb / msw\n",
      "/home/miriam/.local/anaconda3/lib/python3.7/site-packages/sklearn/feature_selection/univariate_selection.py:114: UserWarning: Features [ 16  17  18  20  31  33  35  44  45  47  60  62  64  72  73  74  76  88\n",
      "  92  95 103 105 107 115 116 117 119 156 157 159 168 169 171 179 180 182] are constant.\n",
      "  UserWarning)\n",
      "/home/miriam/.local/anaconda3/lib/python3.7/site-packages/sklearn/feature_selection/univariate_selection.py:115: RuntimeWarning: invalid value encountered in true_divide\n",
      "  f = msb / msw\n",
      "/home/miriam/.local/anaconda3/lib/python3.7/site-packages/sklearn/feature_selection/univariate_selection.py:114: UserWarning: Features [ 16  17  18  20  31  33  35  44  45  47  60  62  64  72  73  74  76  88\n",
      "  92  95 103 105 107 115 116 117 119 156 157 159 168 169 171 179 180 182] are constant.\n",
      "  UserWarning)\n",
      "/home/miriam/.local/anaconda3/lib/python3.7/site-packages/sklearn/feature_selection/univariate_selection.py:115: RuntimeWarning: invalid value encountered in true_divide\n",
      "  f = msb / msw\n",
      "/home/miriam/.local/anaconda3/lib/python3.7/site-packages/sklearn/feature_selection/univariate_selection.py:114: UserWarning: Features [ 16  17  18  20  31  33  35  44  45  47  60  62  64  72  73  74  76  88\n",
      "  92  95 103 105 107 115 116 117 119 156 157 159 168 169 171 179 180 182] are constant.\n",
      "  UserWarning)\n",
      "/home/miriam/.local/anaconda3/lib/python3.7/site-packages/sklearn/feature_selection/univariate_selection.py:115: RuntimeWarning: invalid value encountered in true_divide\n",
      "  f = msb / msw\n",
      "/home/miriam/.local/anaconda3/lib/python3.7/site-packages/sklearn/feature_selection/univariate_selection.py:114: UserWarning: Features [ 16  17  18  20  31  33  35  44  45  47  60  62  64  72  73  74  76  88\n",
      "  92  95 103 105 107 115 116 117 119 156 157 159 168 169 171 179 180 182] are constant.\n",
      "  UserWarning)\n",
      "/home/miriam/.local/anaconda3/lib/python3.7/site-packages/sklearn/feature_selection/univariate_selection.py:115: RuntimeWarning: invalid value encountered in true_divide\n",
      "  f = msb / msw\n",
      "/home/miriam/.local/anaconda3/lib/python3.7/site-packages/sklearn/feature_selection/univariate_selection.py:114: UserWarning: Features [ 16  17  18  20  31  33  35  44  45  47  60  62  64  72  73  74  76  88\n",
      "  92  95 103 105 107 115 116 117 119 156 157 159 168 169 171 179 180 182] are constant.\n",
      "  UserWarning)\n",
      "/home/miriam/.local/anaconda3/lib/python3.7/site-packages/sklearn/feature_selection/univariate_selection.py:115: RuntimeWarning: invalid value encountered in true_divide\n",
      "  f = msb / msw\n",
      "/home/miriam/.local/anaconda3/lib/python3.7/site-packages/sklearn/feature_selection/univariate_selection.py:114: UserWarning: Features [ 16  17  18  20  31  33  35  44  45  47  60  62  64  72  73  74  76  88\n",
      "  92  95 103 105 107 115 116 117 119 156 157 159 168 169 171 179 180 182] are constant.\n",
      "  UserWarning)\n",
      "/home/miriam/.local/anaconda3/lib/python3.7/site-packages/sklearn/feature_selection/univariate_selection.py:115: RuntimeWarning: invalid value encountered in true_divide\n",
      "  f = msb / msw\n",
      "/home/miriam/.local/anaconda3/lib/python3.7/site-packages/sklearn/feature_selection/univariate_selection.py:114: UserWarning: Features [ 16  17  18  20  31  33  35  44  45  47  60  62  64  72  73  74  76  88\n",
      "  92  95 103 105 107 115 116 117 119 156 157 159 168 169 171 179 180 182] are constant.\n",
      "  UserWarning)\n",
      "/home/miriam/.local/anaconda3/lib/python3.7/site-packages/sklearn/feature_selection/univariate_selection.py:115: RuntimeWarning: invalid value encountered in true_divide\n",
      "  f = msb / msw\n",
      "/home/miriam/.local/anaconda3/lib/python3.7/site-packages/sklearn/feature_selection/univariate_selection.py:114: UserWarning: Features [ 16  17  18  20  31  33  35  44  45  47  60  62  64  72  73  74  76  88\n",
      "  92  95 103 105 107 115 116 117 119 156 157 159 168 169 171 179 180 182] are constant.\n",
      "  UserWarning)\n",
      "/home/miriam/.local/anaconda3/lib/python3.7/site-packages/sklearn/feature_selection/univariate_selection.py:115: RuntimeWarning: invalid value encountered in true_divide\n",
      "  f = msb / msw\n",
      "/home/miriam/.local/anaconda3/lib/python3.7/site-packages/sklearn/feature_selection/univariate_selection.py:114: UserWarning: Features [ 16  17  18  20  31  33  35  44  45  47  60  62  64  72  73  74  76  88\n",
      "  92  95 103 105 107 115 116 117 119 156 157 159 168 169 171 179 180 182] are constant.\n",
      "  UserWarning)\n",
      "/home/miriam/.local/anaconda3/lib/python3.7/site-packages/sklearn/feature_selection/univariate_selection.py:115: RuntimeWarning: invalid value encountered in true_divide\n",
      "  f = msb / msw\n",
      "/home/miriam/.local/anaconda3/lib/python3.7/site-packages/sklearn/feature_selection/univariate_selection.py:114: UserWarning: Features [ 16  17  18  20  31  33  35  44  45  47  60  62  64  72  73  74  76  88\n",
      "  92  95 103 105 107 115 116 117 119 156 157 159 168 169 171 179 180 182] are constant.\n",
      "  UserWarning)\n",
      "/home/miriam/.local/anaconda3/lib/python3.7/site-packages/sklearn/feature_selection/univariate_selection.py:115: RuntimeWarning: invalid value encountered in true_divide\n",
      "  f = msb / msw\n"
     ]
    },
    {
     "data": {
      "text/plain": [
       "(40000, 30)"
      ]
     },
     "execution_count": 6,
     "metadata": {},
     "output_type": "execute_result"
    }
   ],
   "source": [
    "x_sel = []\n",
    "for i in k:\n",
    "    sel = SelectKBest(k=i) \n",
    "    x_sel.append(sel.fit_transform(x, y))\n",
    "    \n",
    "x_sel[1].shape"
   ]
  },
  {
   "cell_type": "code",
   "execution_count": null,
   "metadata": {},
   "outputs": [],
   "source": []
  },
  {
   "cell_type": "markdown",
   "metadata": {},
   "source": [
    "**Außerdem Teilen in Trainings- und Testdatensatz**"
   ]
  },
  {
   "cell_type": "code",
   "execution_count": 7,
   "metadata": {},
   "outputs": [],
   "source": [
    "x_train = []\n",
    "y_train = []\n",
    "x_test = []\n",
    "y_test = []\n",
    "\n",
    "i = 0\n",
    "while i < len(k):\n",
    "    train_x, test_x, train_y, test_y = train_test_split(x_sel[i],y, test_size = 0.3, random_state = 42, stratify = y)\n",
    "    x_train.append(train_x)\n",
    "    y_train.append(train_y)\n",
    "    x_test.append(test_x)\n",
    "    y_test.append(test_y)\n",
    "    i = i+1\n",
    "    "
   ]
  },
  {
   "cell_type": "markdown",
   "metadata": {},
   "source": [
    "**Random-Forest-Lerner**"
   ]
  },
  {
   "cell_type": "code",
   "execution_count": 8,
   "metadata": {},
   "outputs": [],
   "source": [
    "RF = RandomForestClassifier(100)\n",
    "\n",
    "y_pred_RF = [] #Vorhergesagten Klassen\n",
    "accuracy_RF = [] #Reinheit\n",
    "efficiency_RF = [] #Effizienz\n",
    "jaccard_RF = [] #Jaccard-Index\n",
    "roc_auc_RF = [] #Fläche unter ROC-Kurve"
   ]
  },
  {
   "cell_type": "code",
   "execution_count": 9,
   "metadata": {},
   "outputs": [],
   "source": [
    "i = 0\n",
    "\n",
    "while i < len(k):   \n",
    "    #Lerner\n",
    "    RF.fit(x_train[i], y_train[i])\n",
    "    predict = RF.predict(x_test[i])\n",
    "    y_pred_RF.append(predict)\n",
    "    \n",
    "    #Berechnung und speichern der Qualitätsparameter\n",
    "    accuracy_RF.append(accuracy_score(y_test[i], y_pred_RF[i]))\n",
    "    efficiency_RF.append(precision_score(y_test[i], y_pred_RF[i]))\n",
    "    jaccard_RF.append(jaccard_similarity_score(y_test[i], y_pred_RF[i], normalize = True))\n",
    "    roc_auc_RF.append(roc_auc_score(y_test[i], y_pred_RF[i]))\n",
    "    \n",
    "    i = i+1"
   ]
  },
  {
   "cell_type": "code",
   "execution_count": null,
   "metadata": {},
   "outputs": [],
   "source": []
  },
  {
   "cell_type": "code",
   "execution_count": 10,
   "metadata": {},
   "outputs": [
    {
     "data": {
      "image/png": "[encoded data removed]",
      "text/plain": [
       "<Figure size 432x288 with 4 Axes>"
      ]
     },
     "metadata": {
      "needs_background": "light"
     },
     "output_type": "display_data"
    }
   ],
   "source": [
    "plt.subplot(2,2,1)\n",
    "plt.plot(k, accuracy_RF, marker = 'x', linestyle = '', color = 'forestgreen')\n",
    "plt.xlabel(r'Anzahl Features')\n",
    "plt.ylabel(r'Reinheit')\n",
    "\n",
    "plt.subplot(2,2,2)\n",
    "plt.plot(k, efficiency_RF, marker = 'x', linestyle = '', color = 'forestgreen')\n",
    "plt.xlabel(r'Anzahl Features')\n",
    "plt.ylabel(r'Effizienz')\n",
    "\n",
    "plt.subplot(2,2,3)\n",
    "plt.plot(k, jaccard_RF, marker = 'x', linestyle = '', color = 'forestgreen')\n",
    "plt.xlabel(r'Anzahl Features')\n",
    "plt.ylabel(r'Jaccard-Index')\n",
    "\n",
    "plt.subplot(2,2,4)\n",
    "plt.plot(k, roc_auc_RF, marker = 'x', linestyle = '', color = 'forestgreen')\n",
    "plt.xlabel(r'Anzahl Features')\n",
    "plt.ylabel(r'Fläche unter ROC-Kurve')\n",
    "\n",
    "plt.subplots_adjust(wspace = 0.5, hspace = 0.5)\n",
    "plt.savefig('RF_featurezahl.png')"
   ]
  },
  {
   "cell_type": "code",
   "execution_count": null,
   "metadata": {},
   "outputs": [],
   "source": []
  },
  {
   "cell_type": "markdown",
   "metadata": {},
   "source": [
    "Das selbe für verschiedene Baumtiefen"
   ]
  },
  {
   "cell_type": "code",
   "execution_count": 11,
   "metadata": {},
   "outputs": [],
   "source": [
    "tiefe = np.arange(10,100,10)\n",
    "\n",
    "y_pred_RF_anzahl = [] #Vorhergesagten Klassen\n",
    "accuracy_RF_anzahl = [] #Reinheit\n",
    "efficiency_RF_anzahl = [] #Effizienz\n",
    "jaccard_RF_anzahl = [] #Jaccard-Index\n",
    "roc_auc_RF_anzahl = [] #Fläche unter ROC-Kurve\n",
    "\n",
    "i = 0\n",
    "while i < len(tiefe):\n",
    "    RF = RandomForestClassifier(tiefe[i])\n",
    "    RF.fit(x_train[3], y_train[3])\n",
    "    predict = RF.predict(x_test[3])\n",
    "    y_pred_RF_anzahl.append(predict)\n",
    "    \n",
    "    #Berechnung und speichern der Qualitätsparameter\n",
    "    accuracy_RF_anzahl.append(accuracy_score(y_test[3], y_pred_RF_anzahl[i]))\n",
    "    efficiency_RF_anzahl.append(precision_score(y_test[3], y_pred_RF_anzahl[i]))\n",
    "    jaccard_RF_anzahl.append(jaccard_similarity_score(y_test[3], y_pred_RF_anzahl[i], normalize = True))\n",
    "    roc_auc_RF_anzahl.append(roc_auc_score(y_test[3], y_pred_RF_anzahl[i]))\n",
    "    \n",
    "    i = i+1"
   ]
  },
  {
   "cell_type": "code",
   "execution_count": 12,
   "metadata": {},
   "outputs": [
    {
     "data": {
      "image/png": "[encoded data removed]",
      "text/plain": [
       "<Figure size 432x288 with 4 Axes>"
      ]
     },
     "metadata": {
      "needs_background": "light"
     },
     "output_type": "display_data"
    }
   ],
   "source": [
    "plt.subplot(2,2,1)\n",
    "plt.plot(tiefe, accuracy_RF_anzahl, marker = 'x', linestyle = '', color = 'forestgreen')\n",
    "plt.xlabel(r'Baumanzahl')\n",
    "plt.ylabel(r'Reinheit')\n",
    "\n",
    "plt.subplot(2,2,2)\n",
    "plt.plot(tiefe, efficiency_RF_anzahl, marker = 'x', linestyle = '', color = 'forestgreen')\n",
    "plt.xlabel(r'Baumanzahl')\n",
    "plt.ylabel(r'Effizienz')\n",
    "\n",
    "plt.subplot(2,2,3)\n",
    "plt.plot(tiefe, jaccard_RF_anzahl, marker = 'x', linestyle = '', color = 'forestgreen')\n",
    "plt.xlabel(r'Baumanzahl')\n",
    "plt.ylabel(r'Jaccard-Index')\n",
    "\n",
    "plt.subplot(2,2,4)\n",
    "plt.plot(tiefe, roc_auc_RF_anzahl, marker = 'x', linestyle = '', color = 'forestgreen')\n",
    "plt.xlabel(r'Baumanzahl')\n",
    "plt.ylabel(r'Fläche unter ROC-Kurve')\n",
    "\n",
    "plt.subplots_adjust(wspace = 0.5, hspace = 0.5)\n",
    "plt.savefig('RF_baumtiefe.png')"
   ]
  },
  {
   "cell_type": "code",
   "execution_count": 13,
   "metadata": {},
   "outputs": [],
   "source": [
    "tiefe_best = 70 #entspricht tiefe[6]\n",
    "k_best_RF = 40 #entspricht k[3]"
   ]
  },
  {
   "cell_type": "markdown",
   "metadata": {},
   "source": [
    "Cross-Validation für den besten Fall <br>\n",
    "Um Rechenzeit zu sparen und weil die verschiedenen Baumtiefen kaum Unterschied machen, wird allerdings tiefe = 10 benutzt...\n"
   ]
  },
  {
   "cell_type": "code",
   "execution_count": 14,
   "metadata": {},
   "outputs": [
    {
     "name": "stdout",
     "output_type": "stream",
     "text": [
      "Random-Forest:\n",
      "Reinheit:\n",
      "[0.913125 0.9565   0.961375 0.960375 0.961375]\n",
      "0.95055 pm 0.009399268588565818\n",
      "Effizienz:\n",
      "[0.88413215 0.96676114 0.98762507 0.98607828 0.98376538]\n",
      "0.9616724049632628 pm 0.01974293874130167\n",
      "Fläche unter ROC-Kurve:\n",
      "[0.97480862 0.98884647 0.99306437 0.99028619 0.99282903]\n",
      "0.9879669375000001 pm 0.0033831753452199177\n"
     ]
    }
   ],
   "source": [
    "RF = RandomForestClassifier(10)\n",
    "print('Random-Forest:')\n",
    "\n",
    "#Der Funktion werden die nicht gesplitteten (wird ja in der Funktion gemacht) aber selektierten (ausgewählte Features) Daten übergeben\n",
    "#Funktion gibt Standartscore des Lerners zurück -> hier: Accuracy\n",
    "accuracy_RF_cross = cross_val_score(RF, x_sel[3], y, cv = 5)\n",
    "print('Reinheit:')\n",
    "print(accuracy_RF_cross)\n",
    "print(np.mean(accuracy_RF_cross), 'pm', (np.std(accuracy_RF_cross, ddof=1) / np.sqrt(len(accuracy_RF_cross))))\n",
    "\n",
    "#Für andere Parameter: Änderung durch scoring\n",
    "efficiency_RF_cross = cross_val_score(RF, x_sel[3], y, cv = 5, scoring = 'precision')\n",
    "print('Effizienz:')\n",
    "print(efficiency_RF_cross)\n",
    "print(np.mean(efficiency_RF_cross), 'pm', (np.std(efficiency_RF_cross, ddof=1) / np.sqrt(len(efficiency_RF_cross))))\n",
    "\n",
    "AUC_RF_cross = cross_val_score(RF, x_sel[3], y, cv = 5, scoring = 'roc_auc')\n",
    "print('Fläche unter ROC-Kurve:')\n",
    "print(AUC_RF_cross)\n",
    "print(np.mean(AUC_RF_cross), 'pm', (np.std(AUC_RF_cross, ddof=1) / np.sqrt(len(AUC_RF_cross))))"
   ]
  },
  {
   "cell_type": "markdown",
   "metadata": {},
   "source": [
    "Confusion-Matrix für besten Fall\n"
   ]
  },
  {
   "cell_type": "code",
   "execution_count": 15,
   "metadata": {},
   "outputs": [],
   "source": [
    "import itertools\n",
    "def plot_confusion_matrix(cm, classes,\n",
    "                          normalize=True,\n",
    "                          title='Confusion matrix',\n",
    "                          cmap=plt.cm.Blues):\n",
    "    \"\"\"\n",
    "    This function prints and plots the confusion matrix.\n",
    "    Normalization can be applied by setting `normalize=True`.\n",
    "    \"\"\"\n",
    "    plt.imshow(cm, interpolation='nearest', cmap=cmap)\n",
    "    plt.title(title)\n",
    "    plt.colorbar()\n",
    "    tick_marks = np.arange(len(classes))\n",
    "    plt.xticks(tick_marks, classes, rotation=45)\n",
    "    plt.yticks(tick_marks, classes)\n",
    "\n",
    "    if normalize:\n",
    "        cm = cm.astype('float') / cm.sum(axis=1)[:, np.newaxis]\n",
    "\n",
    "    # Loop over data dimensions and create text annotations.\n",
    "    fmt = '.2f' if normalize else 'd'\n",
    "    thresh = cm.max() / 2.\n",
    "    for i, j in itertools.product(range(cm.shape[0]), range(cm.shape[1])):\n",
    "        plt.text(j, i, format(cm[i, j], fmt),\n",
    "                 horizontalalignment=\"center\",\n",
    "                 color=\"white\" if cm[i, j] > thresh else \"black\")\n",
    "\n",
    "    plt.tight_layout()\n",
    "    plt.ylabel('True label')\n",
    "    plt.xlabel('Predicted label')"
   ]
  },
  {
   "cell_type": "code",
   "execution_count": 16,
   "metadata": {},
   "outputs": [
    {
     "data": {
      "image/png": "[encoded data removed]",
      "text/plain": [
       "<Figure size 432x288 with 2 Axes>"
      ]
     },
     "metadata": {
      "needs_background": "light"
     },
     "output_type": "display_data"
    }
   ],
   "source": [
    "confusion_mtx_RF = confusion_matrix(y_test[3], y_pred_RF[3])\n",
    "plot_confusion_matrix(confusion_mtx_RF, classes = range(2), cmap = plt.cm.Greens)\n",
    "plt.tight_layout()\n",
    "plt.savefig('RF_confusion.png')"
   ]
  },
  {
   "cell_type": "code",
   "execution_count": null,
   "metadata": {},
   "outputs": [],
   "source": []
  },
  {
   "cell_type": "code",
   "execution_count": null,
   "metadata": {},
   "outputs": [],
   "source": []
  },
  {
   "cell_type": "code",
   "execution_count": null,
   "metadata": {},
   "outputs": [],
   "source": []
  },
  {
   "cell_type": "markdown",
   "metadata": {},
   "source": [
    "**kNN-Klassifikator**"
   ]
  },
  {
   "cell_type": "code",
   "execution_count": 17,
   "metadata": {},
   "outputs": [],
   "source": [
    "kNN = KNeighborsClassifier(10)\n",
    "\n",
    "y_pred_kNN = [] #Vorhergesagten Klassen\n",
    "accuracy_kNN = [] #Reinheit\n",
    "efficiency_kNN = [] #Effizienz\n",
    "jaccard_kNN = [] #Jaccard-Index\n",
    "roc_auc_kNN = [] #Fläche unter ROC-Kurve"
   ]
  },
  {
   "cell_type": "code",
   "execution_count": 18,
   "metadata": {},
   "outputs": [],
   "source": [
    "i = 0\n",
    "\n",
    "while i < len(k):   \n",
    "    #Lerner\n",
    "    kNN.fit(x_train[i], y_train[i])\n",
    "    predict = kNN.predict(x_test[i])\n",
    "    y_pred_kNN.append(predict)\n",
    "    \n",
    "    #Berechnung und speichern der Qualitätsparameter\n",
    "    accuracy_kNN.append(accuracy_score(y_test[i], y_pred_kNN[i]))\n",
    "    efficiency_kNN.append(precision_score(y_test[i], y_pred_kNN[i]))\n",
    "    jaccard_kNN.append(jaccard_similarity_score(y_test[i], y_pred_kNN[i], normalize = True))\n",
    "    roc_auc_kNN.append(roc_auc_score(y_test[i], y_pred_kNN[i]))\n",
    "    \n",
    "    i = i+1"
   ]
  },
  {
   "cell_type": "code",
   "execution_count": 19,
   "metadata": {},
   "outputs": [
    {
     "data": {
      "image/png": "[encoded data removed]",
      "text/plain": [
       "<Figure size 432x288 with 4 Axes>"
      ]
     },
     "metadata": {
      "needs_background": "light"
     },
     "output_type": "display_data"
    }
   ],
   "source": [
    "plt.subplot(2,2,1)\n",
    "plt.plot(k, accuracy_kNN, marker = 'x', linestyle = '', color = 'forestgreen')\n",
    "plt.xlabel(r'Anzahl Features')\n",
    "plt.ylabel(r'Reinheit')\n",
    "\n",
    "plt.subplot(2,2,2)\n",
    "plt.plot(k, efficiency_kNN, marker = 'x', linestyle = '', color = 'forestgreen')\n",
    "plt.xlabel(r'Anzahl Features')\n",
    "plt.ylabel(r'Effizienz')\n",
    "\n",
    "plt.subplot(2,2,3)\n",
    "plt.plot(k, jaccard_kNN, marker = 'x', linestyle = '', color = 'forestgreen')\n",
    "plt.xlabel(r'Anzahl Features')\n",
    "plt.ylabel(r'Jaccard-Index')\n",
    "\n",
    "plt.subplot(2,2,4)\n",
    "plt.plot(k, roc_auc_kNN, marker = 'x', linestyle = '', color = 'forestgreen')\n",
    "plt.xlabel(r'Anzahl Features')\n",
    "plt.ylabel(r'Fläche unter ROC-Kurve')\n",
    "\n",
    "plt.subplots_adjust(wspace = 0.5, hspace = 0.5)\n",
    "plt.savefig('kNN_featurezahl.png')"
   ]
  },
  {
   "cell_type": "code",
   "execution_count": null,
   "metadata": {},
   "outputs": [],
   "source": []
  },
  {
   "cell_type": "markdown",
   "metadata": {},
   "source": [
    "Das selbe für verschiedene Anzahl an Nachbarn"
   ]
  },
  {
   "cell_type": "code",
   "execution_count": 20,
   "metadata": {},
   "outputs": [],
   "source": [
    "nachbarn = np.arange(10,100,10)\n",
    "\n",
    "y_pred_kNN_anzahl = [] #Vorhergesagten Klassen\n",
    "accuracy_kNN_anzahl = [] #Reinheit\n",
    "efficiency_kNN_anzahl = [] #Effizienz\n",
    "jaccard_kNN_anzahl = [] #Jaccard-Index\n",
    "roc_auc_kNN_anzahl = [] #Fläche unter ROC-Kurve\n",
    "\n",
    "i = 0\n",
    "while i < len(nachbarn):\n",
    "    kNN = KNeighborsClassifier(nachbarn[i])\n",
    "    kNN.fit(x_train[4], y_train[4])\n",
    "    predict = kNN.predict(x_test[4])\n",
    "    y_pred_kNN_anzahl.append(predict)\n",
    "    \n",
    "    #Berechnung und speichern der Qualitätsparameter\n",
    "    accuracy_kNN_anzahl.append(accuracy_score(y_test[4], y_pred_kNN_anzahl[i]))\n",
    "    efficiency_kNN_anzahl.append(precision_score(y_test[4], y_pred_kNN_anzahl[i]))\n",
    "    jaccard_kNN_anzahl.append(jaccard_similarity_score(y_test[4], y_pred_kNN_anzahl[i], normalize = True))\n",
    "    roc_auc_kNN_anzahl.append(roc_auc_score(y_test[4], y_pred_kNN_anzahl[i]))\n",
    "    \n",
    "    i = i+1"
   ]
  },
  {
   "cell_type": "code",
   "execution_count": 21,
   "metadata": {},
   "outputs": [
    {
     "data": {
      "image/png": "[encoded data removed]",
      "text/plain": [
       "<Figure size 432x288 with 4 Axes>"
      ]
     },
     "metadata": {
      "needs_background": "light"
     },
     "output_type": "display_data"
    }
   ],
   "source": [
    "plt.subplot(2,2,1)\n",
    "plt.plot(nachbarn, accuracy_kNN_anzahl, marker = 'x', linestyle = '', color = 'forestgreen')\n",
    "plt.xlabel(r'Anzahl Nachbarn')\n",
    "plt.ylabel(r'Reinheit')\n",
    "\n",
    "plt.subplot(2,2,2)\n",
    "plt.plot(nachbarn, efficiency_kNN_anzahl, marker = 'x', linestyle = '', color = 'forestgreen')\n",
    "plt.xlabel(r'Anzahl Nachbarn')\n",
    "plt.ylabel(r'Effizienz')\n",
    "\n",
    "plt.subplot(2,2,3)\n",
    "plt.plot(nachbarn, jaccard_kNN_anzahl, marker = 'x', linestyle = '', color = 'forestgreen')\n",
    "plt.xlabel(r'Anzahl Nachbarn')\n",
    "plt.ylabel(r'Jaccard-Index')\n",
    "\n",
    "plt.subplot(2,2,4)\n",
    "plt.plot(nachbarn, roc_auc_kNN_anzahl, marker = 'x', linestyle = '', color = 'forestgreen')\n",
    "plt.xlabel(r'Anzahl Nachbarn')\n",
    "plt.ylabel(r'Fläche unter ROC-Kurve')\n",
    "\n",
    "plt.subplots_adjust(wspace = 0.5, hspace = 0.5)\n",
    "plt.savefig('kNN_nachbarzahl.png')"
   ]
  },
  {
   "cell_type": "code",
   "execution_count": 22,
   "metadata": {},
   "outputs": [],
   "source": [
    "nachbar_best = 10\n",
    "k_best_kNN = 50"
   ]
  },
  {
   "cell_type": "markdown",
   "metadata": {},
   "source": [
    "Cross-Validation"
   ]
  },
  {
   "cell_type": "code",
   "execution_count": 23,
   "metadata": {},
   "outputs": [
    {
     "name": "stdout",
     "output_type": "stream",
     "text": [
      "kNN-Klassifikator:\n",
      "Reinheit:\n",
      "[0.886375 0.944875 0.952875 0.952    0.952875]\n",
      "0.9378 pm 0.012943603632682819\n",
      "Effizienz:\n",
      "[0.85374228 0.95804376 0.97633447 0.97679325 0.97859974]\n",
      "0.9487026981385844 pm 0.024032440799445106\n",
      "Fläche unter ROC-Kurve:\n",
      "[0.96076325 0.98541272 0.98752938 0.98664166 0.98830653]\n",
      "0.9817307062499999 pm 0.005263909674620046\n"
     ]
    }
   ],
   "source": [
    "kNN = KNeighborsClassifier(10)\n",
    "print('kNN-Klassifikator:')\n",
    "\n",
    "#Der Funktion werden die nicht gesplitteten (wird ja in der Funktion gemacht) aber selektierten (ausgewählte Features) Daten übergeben\n",
    "#Funktion gibt Standartscore des Lerners zurück -> hier: Accuracy\n",
    "accuracy_kNN_cross = cross_val_score(kNN, x_sel[4], y, cv = 5)\n",
    "print('Reinheit:')\n",
    "print(accuracy_kNN_cross)\n",
    "print(np.mean(accuracy_kNN_cross), 'pm', (np.std(accuracy_kNN_cross, ddof=1) / np.sqrt(len(accuracy_kNN_cross))))\n",
    "\n",
    "#Für andere Parameter: Änderung durch scoring\n",
    "efficiency_kNN_cross = cross_val_score(kNN, x_sel[4], y, cv = 5, scoring = 'precision')\n",
    "print('Effizienz:')\n",
    "print(efficiency_kNN_cross)\n",
    "print(np.mean(efficiency_kNN_cross), 'pm', (np.std(efficiency_kNN_cross, ddof=1) / np.sqrt(len(efficiency_kNN_cross))))\n",
    "\n",
    "AUC_kNN_cross = cross_val_score(kNN, x_sel[4], y, cv = 5, scoring = 'roc_auc')\n",
    "print('Fläche unter ROC-Kurve:')\n",
    "print(AUC_kNN_cross)\n",
    "print(np.mean(AUC_kNN_cross), 'pm', (np.std(AUC_kNN_cross, ddof=1) / np.sqrt(len(AUC_kNN_cross))))"
   ]
  },
  {
   "cell_type": "markdown",
   "metadata": {},
   "source": [
    "Confusion-Matrix"
   ]
  },
  {
   "cell_type": "code",
   "execution_count": 24,
   "metadata": {},
   "outputs": [
    {
     "data": {
      "image/png": "[encoded data removed]",
      "text/plain": [
       "<Figure size 432x288 with 2 Axes>"
      ]
     },
     "metadata": {
      "needs_background": "light"
     },
     "output_type": "display_data"
    }
   ],
   "source": [
    "confusion_mtx_kNN = confusion_matrix(y_test[4], y_pred_kNN[4])\n",
    "plot_confusion_matrix(confusion_mtx_kNN, classes = range(2), cmap = plt.cm.Greens)\n",
    "plt.tight_layout()\n",
    "plt.savefig('kNN_confusion.png')"
   ]
  },
  {
   "cell_type": "markdown",
   "metadata": {},
   "source": [
    "**Naive-Bayes-Lerner**"
   ]
  },
  {
   "cell_type": "code",
   "execution_count": 25,
   "metadata": {},
   "outputs": [],
   "source": [
    "NB = GaussianNB()\n",
    "\n",
    "y_pred_NB = [] #Vorhergesagten Klassen\n",
    "accuracy_NB = [] #Reinheit\n",
    "efficiency_NB = [] #Effizienz\n",
    "jaccard_NB = [] #Jaccard-Index\n",
    "roc_auc_NB = [] #Fläche unter ROC-Kurve"
   ]
  },
  {
   "cell_type": "code",
   "execution_count": 26,
   "metadata": {},
   "outputs": [],
   "source": [
    "i = 0\n",
    "\n",
    "while i < len(k):   \n",
    "    #Lerner\n",
    "    NB.fit(x_train[i], y_train[i])\n",
    "    predict = NB.predict(x_test[i])\n",
    "    y_pred_NB.append(predict)\n",
    "    \n",
    "    #Berechnung und speichern der Qualitätsparameter\n",
    "    accuracy_NB.append(accuracy_score(y_test[i], y_pred_NB[i]))\n",
    "    efficiency_NB.append(precision_score(y_test[i], y_pred_NB[i]))\n",
    "    jaccard_NB.append(jaccard_similarity_score(y_test[i], y_pred_NB[i], normalize = True))\n",
    "    roc_auc_NB.append(roc_auc_score(y_test[i], y_pred_NB[i]))\n",
    "    \n",
    "    i = i+1"
   ]
  },
  {
   "cell_type": "code",
   "execution_count": 27,
   "metadata": {},
   "outputs": [
    {
     "data": {
      "image/png": "[encoded data removed]",
      "text/plain": [
       "<Figure size 432x288 with 4 Axes>"
      ]
     },
     "metadata": {
      "needs_background": "light"
     },
     "output_type": "display_data"
    }
   ],
   "source": [
    "plt.subplot(2,2,1)\n",
    "plt.plot(k, accuracy_NB, marker = 'x', linestyle = '', color = 'forestgreen')\n",
    "plt.xlabel(r'Anzahl Features')\n",
    "plt.ylabel(r'Reinheit')\n",
    "\n",
    "plt.subplot(2,2,2)\n",
    "plt.plot(k, efficiency_NB, marker = 'x', linestyle = '', color = 'forestgreen')\n",
    "plt.xlabel(r'Anzahl Features')\n",
    "plt.ylabel(r'Effizienz')\n",
    "\n",
    "plt.subplot(2,2,3)\n",
    "plt.plot(k, jaccard_NB, marker = 'x', linestyle = '', color = 'forestgreen')\n",
    "plt.xlabel(r'Anzahl Features')\n",
    "plt.ylabel(r'Jaccard-Index')\n",
    "\n",
    "plt.subplot(2,2,4)\n",
    "plt.plot(k, roc_auc_NB, marker = 'x', linestyle = '', color = 'forestgreen')\n",
    "plt.xlabel(r'Anzahl Features')\n",
    "plt.ylabel(r'Fläche unter ROC-Kurve')\n",
    "\n",
    "plt.subplots_adjust(wspace = 0.5, hspace = 0.5)\n",
    "plt.savefig('NB_featurezahl.png')"
   ]
  },
  {
   "cell_type": "code",
   "execution_count": 28,
   "metadata": {},
   "outputs": [],
   "source": [
    "k_best_NB = 60"
   ]
  },
  {
   "cell_type": "markdown",
   "metadata": {},
   "source": [
    "Cross-Validation"
   ]
  },
  {
   "cell_type": "code",
   "execution_count": 29,
   "metadata": {},
   "outputs": [
    {
     "name": "stdout",
     "output_type": "stream",
     "text": [
      "Naive-Bayes-Lerner:\n",
      "Reinheit:\n",
      "[0.805125 0.795375 0.867125 0.86075  0.869875]\n",
      "0.83965 pm 0.0162263481720318\n",
      "Effizienz:\n",
      "[0.76400606 0.72014161 0.85548293 0.8442271  0.8668485 ]\n",
      "0.8101412391623096 pm 0.02886331371329807\n",
      "Fläche unter ROC-Kurve:\n",
      "[0.86190409 0.92239472 0.93798562 0.93526922 0.93891528]\n",
      "0.9192937875 pm 0.01465058861115689\n"
     ]
    }
   ],
   "source": [
    "NB = GaussianNB()\n",
    "print('Naive-Bayes-Lerner:')\n",
    "\n",
    "#Der Funktion werden die nicht gesplitteten (wird ja in der Funktion gemacht) aber selektierten (ausgewählte Features) Daten übergeben\n",
    "#Funktion gibt Standartscore des Lerners zurück -> hier: Accuracy\n",
    "accuracy_NB_cross = cross_val_score(NB, x_sel[5], y, cv = 5)\n",
    "print('Reinheit:')\n",
    "print(accuracy_NB_cross)\n",
    "print(np.mean(accuracy_NB_cross), 'pm', (np.std(accuracy_NB_cross, ddof=1) / np.sqrt(len(accuracy_NB_cross))))\n",
    "\n",
    "#Für andere Parameter: Änderung durch scoring\n",
    "efficiency_NB_cross = cross_val_score(NB, x_sel[5], y, cv = 5, scoring = 'precision')\n",
    "print('Effizienz:')\n",
    "print(efficiency_NB_cross)\n",
    "print(np.mean(efficiency_NB_cross), 'pm', (np.std(efficiency_NB_cross, ddof=1) / np.sqrt(len(efficiency_NB_cross))))\n",
    "\n",
    "AUC_NB_cross = cross_val_score(NB, x_sel[5], y, cv = 5, scoring = 'roc_auc')\n",
    "print('Fläche unter ROC-Kurve:')\n",
    "print(AUC_NB_cross)\n",
    "print(np.mean(AUC_NB_cross), 'pm', (np.std(AUC_NB_cross, ddof=1) / np.sqrt(len(AUC_NB_cross))))"
   ]
  },
  {
   "cell_type": "markdown",
   "metadata": {},
   "source": [
    "Confusion-Matrix"
   ]
  },
  {
   "cell_type": "code",
   "execution_count": 30,
   "metadata": {},
   "outputs": [
    {
     "data": {
      "image/png": "[encoded data removed]",
      "text/plain": [
       "<Figure size 432x288 with 2 Axes>"
      ]
     },
     "metadata": {
      "needs_background": "light"
     },
     "output_type": "display_data"
    }
   ],
   "source": [
    "confusion_mtx_NB = confusion_matrix(y_test[5], y_pred_NB[5])\n",
    "plot_confusion_matrix(confusion_mtx_NB, classes = range(2), cmap = plt.cm.Greens)\n",
    "plt.tight_layout()\n",
    "plt.savefig('NB_confusion.png')"
   ]
  },
  {
   "cell_type": "code",
   "execution_count": null,
   "metadata": {},
   "outputs": [],
   "source": []
  },
  {
   "cell_type": "markdown",
   "metadata": {},
   "source": [
    "**Zusammenfassende ROC-Kurve für alle besten Lerner**"
   ]
  },
  {
   "cell_type": "code",
   "execution_count": null,
   "metadata": {},
   "outputs": [],
   "source": []
  },
  {
   "cell_type": "code",
   "execution_count": 31,
   "metadata": {},
   "outputs": [],
   "source": [
    "RF = RandomForestClassifier(10)\n",
    "RF.fit(x_train[3], y_train[3])\n",
    "pred_RF_prob = RF.predict_proba(x_test[3])\n",
    "\n",
    "kNN = KNeighborsClassifier(10)\n",
    "kNN.fit(x_train[4], y_train[4])\n",
    "pred_kNN_prob = kNN.predict_proba(x_test[4])\n",
    "\n",
    "NB = GaussianNB()\n",
    "NB.fit(x_train[5], y_train[5])\n",
    "pred_NB_prob = NB.predict_proba(x_test[5])"
   ]
  },
  {
   "cell_type": "code",
   "execution_count": 32,
   "metadata": {},
   "outputs": [
    {
     "data": {
      "text/plain": [
       "(12000, 2)"
      ]
     },
     "execution_count": 32,
     "metadata": {},
     "output_type": "execute_result"
    }
   ],
   "source": [
    "pred_RF_prob.shape"
   ]
  },
  {
   "cell_type": "code",
   "execution_count": null,
   "metadata": {},
   "outputs": [],
   "source": []
  },
  {
   "cell_type": "code",
   "execution_count": 33,
   "metadata": {},
   "outputs": [
    {
     "name": "stdout",
     "output_type": "stream",
     "text": [
      "[0.         0.00216667 0.00416667 0.00916667 0.01716667 0.02916667\n",
      " 0.0455     0.07583333 0.12366667 0.20333333 0.3645     1.        ]\n",
      "[0.         0.73283333 0.83466667 0.8875     0.92016667 0.943\n",
      " 0.9575     0.971      0.98216667 0.98933333 0.9955     1.        ]\n"
     ]
    },
    {
     "data": {
      "image/png": "[encoded data removed]",
      "text/plain": [
       "<Figure size 432x288 with 1 Axes>"
      ]
     },
     "metadata": {
      "needs_background": "light"
     },
     "output_type": "display_data"
    }
   ],
   "source": [
    "roc_x_RF, roc_y_RF, _ = roc_curve(y_test[3], pred_RF_prob[:, 1], pos_label=1)\n",
    "print(roc_x_RF)\n",
    "print(roc_y_RF)\n",
    "plt.plot(roc_x_RF, roc_y_RF, color = 'forestgreen', label = 'Random-Forest')\n",
    "\n",
    "roc_x_kNN, roc_y_kNN, _ = roc_curve(y_test[4], pred_kNN_prob[:, 1], pos_label=1)\n",
    "plt.plot(roc_x_kNN, roc_y_kNN, color = 'indianred', label = 'kNN')\n",
    "\n",
    "roc_x_NB, roc_y_NB, _ = roc_curve(y_test[5], pred_NB_prob[:, 1], pos_label=1)\n",
    "plt.plot(roc_x_NB, roc_y_NB, color = 'slateblue', label = 'Naive-Bayes')\n",
    "\n",
    "plt.xlabel(r'FP-Rate')\n",
    "plt.ylabel(r'TP-Rate')\n",
    "plt.legend()\n",
    "plt.savefig('roc_kurve.png')"
   ]
  },
  {
   "cell_type": "markdown",
   "metadata": {},
   "source": [
    "**Konfidenzuntersuchung** <br>\n",
    "Keine Ahnung was man tun soll, ich probiere einfach ein bisschen rum..."
   ]
  },
  {
   "cell_type": "code",
   "execution_count": 36,
   "metadata": {},
   "outputs": [
    {
     "data": {
      "text/plain": [
       "array([1. , 1. , 0. , ..., 0. , 0.2, 1. ])"
      ]
     },
     "execution_count": 36,
     "metadata": {},
     "output_type": "execute_result"
    }
   ],
   "source": [
    "pred_RF_prob[:, 1]"
   ]
  },
  {
   "cell_type": "code",
   "execution_count": 39,
   "metadata": {},
   "outputs": [],
   "source": [
    "# Datenframe mit vorhergesagten Wahrscheinlichkeiten und jeweils zugehörigen Labels\n",
    "df_RF = pd.DataFrame(y_test[3], columns=[\"true\"])\n",
    "df_RF['proba']= pred_RF_prob[:, 1]\n",
    "df_RF['predict']= y_pred_RF[3]\n",
    "\n",
    "df_kNN = pd.DataFrame(y_test[4], columns=[\"true\"])\n",
    "df_kNN['proba']= pred_kNN_prob[:, 1]\n",
    "df_kNN['predict']= y_pred_kNN[4]\n",
    "\n",
    "df_NB = pd.DataFrame(y_test[5], columns=[\"true\"])\n",
    "df_NB['proba']= pred_NB_prob[:, 1]\n",
    "df_NB['predict']= y_pred_NB[5]"
   ]
  },
  {
   "cell_type": "code",
   "execution_count": 43,
   "metadata": {},
   "outputs": [],
   "source": [
    "# Vorhergesagten Wahrscheinlichkeiten zu den jeweils wahren Labels zuordnen und speichern\n",
    "prob_sig_RF = df_RF['proba'][df_RF[\"predict\"] == 1]\n",
    "prob_bg_RF = df_RF['proba'][df_RF[\"predict\"] == 0]\n",
    "\n",
    "prob_sig_kNN = df_kNN['proba'][df_kNN[\"predict\"] == 1]\n",
    "prob_bg_kNN = df_kNN['proba'][df_kNN[\"predict\"] == 0]\n",
    "\n",
    "prob_sig_NB = df_NB['proba'][df_NB[\"predict\"] == 1]\n",
    "prob_bg_NB = df_NB['proba'][df_NB[\"predict\"] == 0]"
   ]
  },
  {
   "cell_type": "code",
   "execution_count": 46,
   "metadata": {},
   "outputs": [
    {
     "data": {
      "text/plain": [
       "<matplotlib.legend.Legend at 0x7ff6f8bdebe0>"
      ]
     },
     "execution_count": 46,
     "metadata": {},
     "output_type": "execute_result"
    },
    {
     "data": {
      "image/png": "[encoded data removed]",
      "text/plain": [
       "<Figure size 720x720 with 3 Axes>"
      ]
     },
     "metadata": {
      "needs_background": "light"
     },
     "output_type": "display_data"
    }
   ],
   "source": [
    "plt.figure(figsize=(10,10))\n",
    "plt.subplot(1,3,1)\n",
    "plt.hist(prob_sig_RF, bins = 20, color = 'forestgreen', alpha = 0.4, density = True, label = r'Signal')\n",
    "plt.hist(prob_bg_RF, bins = 20, color = 'mediumseagreen', alpha = 0.4, density = True, label = r'Hintergrund')\n",
    "plt.yscale('log')\n",
    "plt.legend()\n",
    "\n",
    "plt.subplot(1,3,2)\n",
    "plt.hist(prob_sig_kNN, bins = 10, color = 'forestgreen', alpha = 0.4, density = True, label = r'Signal')\n",
    "plt.hist(prob_bg_kNN, bins = 10, color = 'mediumseagreen', alpha = 0.4, density = True, label = r'Hintergrund')\n",
    "plt.yscale('log')\n",
    "plt.legend()\n",
    "\n",
    "plt.subplot(1,3,3)\n",
    "plt.hist(prob_sig_NB, bins = 50, color = 'forestgreen', alpha = 0.4, density = True, label = r'Signal')\n",
    "plt.hist(prob_bg_NB, bins = 50, color = 'mediumseagreen', alpha = 0.4, density = True, label = r'Hintergrund')\n",
    "plt.yscale('log')\n",
    "plt.legend()"
   ]
  },
  {
   "cell_type": "code",
   "execution_count": null,
   "metadata": {},
   "outputs": [],
   "source": []
  },
  {
   "cell_type": "code",
   "execution_count": null,
   "metadata": {},
   "outputs": [],
   "source": []
  },
  {
   "cell_type": "code",
   "execution_count": null,
   "metadata": {},
   "outputs": [],
   "source": []
  },
  {
   "cell_type": "code",
   "execution_count": null,
   "metadata": {},
   "outputs": [],
   "source": []
  }
 ],
 "metadata": {
  "kernelspec": {
   "display_name": "Python 3",
   "language": "python",
   "name": "python3"
  },
  "language_info": {
   "codemirror_mode": {
    "name": "ipython",
    "version": 3
   },
   "file_extension": ".py",
   "mimetype": "text/x-python",
   "name": "python",
   "nbconvert_exporter": "python",
   "pygments_lexer": "ipython3",
   "version": "3.7.3"
  }
 },
 "nbformat": 4,
 "nbformat_minor": 2
}
