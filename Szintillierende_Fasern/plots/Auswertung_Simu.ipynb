{
 "cells": [
  {
   "cell_type": "code",
   "execution_count": 1,
   "metadata": {},
   "outputs": [],
   "source": [
    "import pandas as pd\n",
    "import numpy as np\n",
    "import matplotlib.pyplot as plt\n",
    "from scipy.optimize import curve_fit"
   ]
  },
  {
   "cell_type": "code",
   "execution_count": 3,
   "metadata": {},
   "outputs": [],
   "source": [
    "columnnames = ['y_exit', 'z_exit', 'x_start', 'y_start', 'z_start', 'px_start', 'py_start', 'pz_start', 'reflCoCl', 'reflClCl', 'wl','gpsPosX', 'length_core', 'length_clad', 'rayleighScatterings']\n",
    "\n",
    "daten = pd.DataFrame()\n",
    "\n",
    "for i in range(0,1199):\n",
    "    df_i = pd.read_csv('../data/Simulation/job_{}.txt'.format(i), sep='\\t', skiprows=1, names = columnnames)\n",
    "    df_i['jobnumber'] = i\n",
    "    daten = pd.concat([daten, df_i])\n",
    "daten.to_hdf('../data/data.hdf5', key='Daten')\n"
   ]
  },
  {
   "cell_type": "code",
   "execution_count": 4,
   "metadata": {},
   "outputs": [
    {
     "data": {
      "image/png": "[encoded data removed]",
      "text/plain": [
       "<Figure size 432x288 with 3 Axes>"
      ]
     },
     "metadata": {
      "needs_background": "light"
     },
     "output_type": "display_data"
    }
   ],
   "source": [
    "#Daten einlesen\n",
    "daten = pd.read_hdf('../data/data.hdf5', key='Daten')\n",
    "\n",
    "# ----Histogramm der Schnittvariablen----\n",
    "plt.subplot(1,3,1)\n",
    "plt.hist(daten['rayleighScatterings'], bins = 20, color = 'forestgreen', alpha=0.9)\n",
    "plt.xlabel(r'Rayleigh Streuung')\n",
    "plt.ylabel(r'Events')\n",
    "plt.yscale('log')\n",
    "plt.subplot(1,3,2)\n",
    "plt.hist(daten['length_clad'], bins = 20, color = 'forestgreen', alpha=0.9)\n",
    "plt.xlabel(r'Wegstrecke Mantel')\n",
    "#plt.ylabel(r'Events')\n",
    "plt.yscale('log')\n",
    "plt.subplot(1,3,3)\n",
    "plt.hist(daten['reflClCl'], bins = 20, color = 'forestgreen', alpha=0.9)\n",
    "plt.xlabel(r'Reflektion Mantel-Mantel')\n",
    "#plt.ylabel(r'Events')\n",
    "plt.yscale('log')\n",
    "\n",
    "plt.subplots_adjust(wspace = 0.35)\n",
    "plt.savefig('../plots/cuts_sim.pdf')"
   ]
  },
  {
   "cell_type": "code",
   "execution_count": null,
   "metadata": {},
   "outputs": [],
   "source": [
    "#-----Selektion---------\n",
    "#Rayleigh\n",
    "daten = daten.loc[daten['rayleighScatterings']==0]\n",
    "\n",
    "#Kern\n",
    "data = daten.loc[daten['length_clad']==0]\n",
    "data = data.loc[data['reflClCl']==0]\n",
    "data.head(10)\n",
    "\n",
    "#Mantel\n",
    "data_clad = daten.loc[daten['length_clad']>0]\n"
   ]
  },
  {
   "cell_type": "code",
   "execution_count": null,
   "metadata": {},
   "outputs": [],
   "source": [
    "#------Theta berechnen und histogrammieren (für Mantel und Kern)----\n",
    "data['theta']= np.arccos(data['px_start'])\n",
    "data_clad['theta']= np.arccos(data_clad['px_start'])\n",
    "\n",
    "plt.subplot(1,2,1)\n",
    "array_m, bins_m, patches_m = plt.hist(data_clad['theta']*(360/2/np.pi), bins = 50, color ='forestgreen', alpha = 0.7)\n",
    "plt.title(r'Mantelphotonen')\n",
    "plt.xlabel(r'$\\theta\\;$[°]')\n",
    "plt.ylabel(r'Anzahl')\n",
    "plt.yscale('log')\n",
    "\n",
    "plt.subplot(1,2,2)\n",
    "array_c, bins_c, patches_c = plt.hist(data['theta']*(360/2/np.pi), bins = 50, color = 'forestgreen', alpha = 0.7)\n",
    "plt.title(r'Kernphotonen')\n",
    "plt.xlabel(r'$\\theta\\;$[°]')\n",
    "plt.yscale('log')\n",
    "\n",
    "plt.subplots_adjust(wspace = 0.5)\n",
    "plt.savefig('../plots/theta_sim.pdf')\n",
    "\n",
    "#Winkel_Mantel = array_m[np.argmax(bins_m)]\n",
    "#print(Winkel_Mantel)\n",
    "Haeuf_Winkel_m = bins_m[np.argmax(array_m)]\n",
    "Haeuf_Winkel_k = bins_c[np.argmax(array_c)]\n",
    "print('häufigster Winkel Mantel:', Haeuf_Winkel_m)\n",
    "print('häufigster Winkel Kern:', Haeuf_Winkel_k)\n"
   ]
  },
  {
   "cell_type": "code",
   "execution_count": null,
   "metadata": {},
   "outputs": [],
   "source": [
    "#----R_min berechnen und histogrammieren------\n",
    "data['r_min'] = (np.abs(data['pz_start']*data['y_start']-data['py_start']*data['z_start']))/np.sqrt(data['pz_start']**2 + data['py_start']**2)\n",
    "plt.hist(data['r_min'], color='forestgreen',alpha=0.7, bins=100)\n",
    "plt.xlabel(r'$r_\\mathrm{min}\\;$[mm]')\n",
    "plt.ylabel(r'events')\n",
    "plt.xlim(-0.01, 0.5)\n",
    "plt.savefig('../plots/rmin_sim.pdf')"
   ]
  },
  {
   "cell_type": "code",
   "execution_count": null,
   "metadata": {},
   "outputs": [],
   "source": [
    "#Zuschnitt auf r_min innerhalb des Kernes?\n",
    "data = data.loc[data['r_min']<0.11]"
   ]
  },
  {
   "cell_type": "code",
   "execution_count": null,
   "metadata": {},
   "outputs": [],
   "source": [
    "#---- Histogramm r_min, theta zur Mittelwertberechnung ---------\n",
    "matrix_r, theta_r, r_min_r, image = plt.hist2d(data['theta']*(360/2/np.pi), data['r_min'], cmap='viridis', bins=100)\n",
    "plt.ylabel(r'$r_\\mathrm{min}\\;$[mm]')\n",
    "plt.xlabel(r'$\\theta\\;$[°]')\n",
    "#plt.xscale('log')\n",
    "#plt.yscale('log')\n",
    "plt.colorbar()\n",
    "plt.savefig('../plots/hist_rmin_sim.pdf')"
   ]
  },
  {
   "cell_type": "code",
   "execution_count": null,
   "metadata": {},
   "outputs": [],
   "source": [
    "#-----------Mittelwertberechnung von r_min pro Winkel--------\n",
    "mean_r_min = []\n",
    "for i in range(0,len(theta_r)-1):\n",
    "    sum = 0.0\n",
    "    ctr = 0.0\n",
    "    for j in range(0,len(r_min_r)-1):\n",
    "        sum += matrix_r[i,j]*r_min_r[j]\n",
    "        ctr += matrix_r[i,j]\n",
    "    mean_r_min.append(sum/ctr)\n",
    "#mean_r_min"
   ]
  },
  {
   "cell_type": "code",
   "execution_count": null,
   "metadata": {},
   "outputs": [],
   "source": [
    "#---------Mittelwerte plotten-------\n",
    "plt.plot(theta_r[:len(theta_r)-1], mean_r_min, color = 'darkgreen', linestyle='', marker ='x', label = r'Mittelwerte')\n",
    "plt.ylabel(r'$r_\\mathrm{min}\\;$[mm]')\n",
    "plt.xlabel(r'$\\theta\\;$[°]')\n",
    "\n",
    "#--------Mittelwerte fitten----------\n",
    "def fit(t, a, b, c):\n",
    "    return a*np.arctan(b+c*t)\n",
    "\n",
    "params, cov = curve_fit(fit, theta_r[53:len(theta_r)-1],  mean_r_min[53:],)\n",
    "error = np.sqrt(np.diag(cov))\n",
    "\n",
    "plt.plot(theta_r[53:len(theta_r)-1], fit(theta_r[53:len(theta_r)-1], *params), color = 'darkred', label =r'Fit')\n",
    "plt.legend()\n",
    "plt.savefig('../plots/rmin_mean_sim.pdf')\n",
    "print('a', params[0], error[0])\n",
    "print('b', params[1], error[1])\n",
    "print('c', params[2], error[2])\n",
    "#print('d', params[3], error[3])"
   ]
  },
  {
   "cell_type": "code",
   "execution_count": null,
   "metadata": {},
   "outputs": [],
   "source": [
    "print(theta_r[:len(theta_r)-1][0])\n",
    "mean_r_min[0]"
   ]
  },
  {
   "cell_type": "code",
   "execution_count": null,
   "metadata": {},
   "outputs": [],
   "source": [
    "#---------Berechnung theta_refl----------\n",
    "r_Kern = 110 #Mikrometer\n",
    "data['theta_refl'] = np.arcsin(np.sqrt(1-((data['r_min']**2)/(r_Kern**2)))*np.sin(data['theta']))\n",
    "\n",
    "#--------Histogramm zur Mittelwertberechnung von theta_refl pro Winkel-------------\n",
    "matrix, theta, theta_refl, image = plt.hist2d(data['theta']*(360/2/np.pi), data['theta_refl']*(360/2/np.pi),cmap='viridis', bins=50)\n",
    "plt.ylabel(r'$\\theta_\\mathrm{refl}\\;$[°]')\n",
    "plt.xlabel(r'$\\theta\\;$[°]')\n",
    "#plt.xscale('log')\n",
    "#plt.yscale('log')\n",
    "plt.colorbar()\n",
    "plt.savefig('../plots/Theta_refl_sim.pdf')"
   ]
  },
  {
   "cell_type": "code",
   "execution_count": null,
   "metadata": {},
   "outputs": [],
   "source": [
    "#-------Mittelwertberechnung von theta_refl pro Winkel--------\n",
    "mean_theta_refl = []\n",
    "for i in range(0,len(theta)-1):\n",
    "    sum = 0.0\n",
    "    ctr = 0.0\n",
    "    for j in range(0,len(theta_refl)-1):\n",
    "        sum += matrix[i,j]*theta_refl[j]\n",
    "        ctr += matrix[i,j]\n",
    "    mean_theta_refl.append(sum/ctr)\n"
   ]
  },
  {
   "cell_type": "code",
   "execution_count": null,
   "metadata": {},
   "outputs": [],
   "source": [
    "#-------Mittelwerte plotten----------\n",
    "plt.plot(theta[:len(theta)-1], mean_theta_refl, color = 'forestgreen', linestyle='', marker ='x')\n",
    "plt.ylabel(r'$\\theta_\\mathrm{refl}\\;$[°]')\n",
    "plt.xlabel(r'$\\theta\\;$[°]')\n",
    "plt.savefig('../plots/Theta_refl_mean_sim.pdf')"
   ]
  },
  {
   "cell_type": "code",
   "execution_count": null,
   "metadata": {},
   "outputs": [],
   "source": [
    "#-----Verhältniss Mantelphotonen zu Kernphotonen pro Winkel----\n",
    "ratio = [] \n",
    "for i in range(0, len(bins_c)-1):\n",
    "    ratio.append(array_m[i]/array_c[i])\n",
    "\n"
   ]
  },
  {
   "cell_type": "code",
   "execution_count": null,
   "metadata": {},
   "outputs": [],
   "source": [
    "#----------------Größte Winkel mit nur Kernphotonen------------\n",
    "#Nur Kernphotonen -> # Mantelphotonen = 0 -> Ratio = 0\n",
    "theta_just_core = []\n",
    "y = [] #Zum plotten\n",
    "for i in range(0, len(ratio)-1):\n",
    "    if ratio[i] == 0:\n",
    "        theta_just_core.append(bins_c[i])\n",
    "        y.append(0)\n",
    "        \n",
    "theta_just_core_max = np.max(theta_just_core)\n",
    "print(theta_just_core_max)\n"
   ]
  },
  {
   "cell_type": "code",
   "execution_count": null,
   "metadata": {},
   "outputs": [],
   "source": [
    "#---Verhältnis und Kernphotonen plotten-------\n",
    "plt.plot(bins_c[:len(bins_c)-1], ratio, marker = 'x', linestyle = '', color = 'seagreen', label = r'Verhältnis')\n",
    "plt.plot(theta_just_core, y, marker = 'x', linestyle = '', color = 'firebrick', label = r'Kernphotonen')\n",
    "plt.xlabel(r'$\\theta\\;$[°]')\n",
    "plt.ylabel(r'$\\frac{\\# \\; Mantel}{\\# \\; Kern}$')\n",
    "plt.legend()\n",
    "plt.savefig('../plots/ratio_sim.pdf')"
   ]
  },
  {
   "cell_type": "code",
   "execution_count": 17,
   "metadata": {},
   "outputs": [],
   "source": [
    "#------Größter Winkel unter dem noch Photonen auftreten in Abhängigkeit von r_min-----\n",
    "#Nutze Histogramm zur Mittelwertbestimmung von r_min\n",
    "r_min_max = []\n",
    "theta_max = []\n",
    "for i in range(0, len(r_min_r)-1):\n",
    "    for j in range(0, len(theta_r)-1):\n",
    "        if matrix_r[i,j] <130:\n",
    "            theta_max.append(theta_r[j-1])\n",
    "            r_min_max.append(r_min_r[i])\n",
    "            break"
   ]
  },
  {
   "cell_type": "code",
   "execution_count": 18,
   "metadata": {},
   "outputs": [
    {
     "data": {
      "image/png": "[encoded data removed]",
      "text/plain": [
       "<Figure size 432x288 with 1 Axes>"
      ]
     },
     "metadata": {
      "needs_background": "light"
     },
     "output_type": "display_data"
    }
   ],
   "source": [
    "#------ Plot der maximalen Winkel in Abhängigkeit von r_min----------\n",
    "plt.plot(r_min_max, theta_max, color = 'forestgreen', marker = 'x', linestyle = '')\n",
    "plt.xlabel(r'$r_\\mathrm{min}\\;$[mm]')\n",
    "plt.ylabel(r'$\\theta_\\mathrm{max}\\;$[°]')\n",
    "plt.savefig('../plots/theta_max_sim.pdf')"
   ]
  },
  {
   "cell_type": "code",
   "execution_count": 19,
   "metadata": {},
   "outputs": [
    {
     "data": {
      "text/plain": [
       "array([[ 25.,  27.,  18., ...,   4.,   3.,   3.],\n",
       "       [ 59.,  72.,  67., ...,  15.,  12.,   7.],\n",
       "       [103.,  96., 131., ...,  24.,  28.,  14.],\n",
       "       ...,\n",
       "       [ 12.,  12.,  11., ..., 367., 290., 162.],\n",
       "       [  1.,   6.,   5., ..., 185., 153.,  88.],\n",
       "       [  1.,   0.,   2., ...,   8.,  14.,  12.]])"
      ]
     },
     "execution_count": 19,
     "metadata": {},
     "output_type": "execute_result"
    }
   ],
   "source": [
    "matrix_r"
   ]
  },
  {
   "cell_type": "markdown",
   "metadata": {},
   "source": [
    "Austrittswinkel alpha (Zum Vergleich mit Messwerten)(Punkt 5)"
   ]
  },
  {
   "cell_type": "code",
   "execution_count": 23,
   "metadata": {},
   "outputs": [
    {
     "name": "stderr",
     "output_type": "stream",
     "text": [
      "/home/miriam/.local/anaconda3/lib/python3.7/site-packages/ipykernel_launcher.py:2: SettingWithCopyWarning: \n",
      "A value is trying to be set on a copy of a slice from a DataFrame.\n",
      "Try using .loc[row_indexer,col_indexer] = value instead\n",
      "\n",
      "See the caveats in the documentation: http://pandas.pydata.org/pandas-docs/stable/indexing.html#indexing-view-versus-copy\n",
      "  \n"
     ]
    }
   ],
   "source": [
    "data['Austrittswinkel'] = np.arcsin(np.sin(data['theta'])*(1.6/3.882))\n",
    "data_clad['Austrittswinkel'] = np.arcsin(np.sin(data_clad['theta'])*(1.6/3.882))\n",
    "#arcsin returns radiant"
   ]
  },
  {
   "cell_type": "code",
   "execution_count": null,
   "metadata": {},
   "outputs": [],
   "source": []
  },
  {
   "cell_type": "code",
   "execution_count": 24,
   "metadata": {},
   "outputs": [
    {
     "data": {
      "image/png": "[encoded data removed]",
      "text/plain": [
       "<Figure size 432x288 with 2 Axes>"
      ]
     },
     "metadata": {
      "needs_background": "light"
     },
     "output_type": "display_data"
    }
   ],
   "source": [
    "plt.subplot(1,2,1)\n",
    "plt.hist(data_clad['Austrittswinkel']*(360/2/np.pi), bins = 50, color ='forestgreen', alpha = 0.7)\n",
    "plt.title(r'Mantelphotonen')\n",
    "plt.xlabel(r'$\\alpha\\;$[°]')\n",
    "plt.ylabel(r'Anzahl')\n",
    "plt.yscale('log')\n",
    "\n",
    "plt.subplot(1,2,2)\n",
    "plt.hist(data['Austrittswinkel']*(360/2/np.pi), bins = 50, color = 'forestgreen', alpha = 0.7)\n",
    "plt.title(r'Kernphotonen')\n",
    "plt.xlabel(r'$\\alpha\\;$[°]')\n",
    "plt.yscale('log')\n",
    "\n",
    "plt.subplots_adjust(wspace = 0.5)"
   ]
  },
  {
   "cell_type": "markdown",
   "metadata": {},
   "source": [
    "Winkelabhängige Abschwächung (Zum Vergleich mit Messdaten)(Punkt 6)"
   ]
  },
  {
   "cell_type": "code",
   "execution_count": 35,
   "metadata": {},
   "outputs": [
    {
     "data": {
      "text/html": [
       "<div>\n",
       "<style scoped>\n",
       "    .dataframe tbody tr th:only-of-type {\n",
       "        vertical-align: middle;\n",
       "    }\n",
       "\n",
       "    .dataframe tbody tr th {\n",
       "        vertical-align: top;\n",
       "    }\n",
       "\n",
       "    .dataframe thead th {\n",
       "        text-align: right;\n",
       "    }\n",
       "</style>\n",
       "<table border=\"1\" class=\"dataframe\">\n",
       "  <thead>\n",
       "    <tr style=\"text-align: right;\">\n",
       "      <th></th>\n",
       "      <th>y_exit</th>\n",
       "      <th>z_exit</th>\n",
       "      <th>x_start</th>\n",
       "      <th>y_start</th>\n",
       "      <th>z_start</th>\n",
       "      <th>px_start</th>\n",
       "      <th>py_start</th>\n",
       "      <th>pz_start</th>\n",
       "      <th>reflCoCl</th>\n",
       "      <th>reflClCl</th>\n",
       "      <th>wl</th>\n",
       "      <th>gpsPosX</th>\n",
       "      <th>length_core</th>\n",
       "      <th>length_clad</th>\n",
       "      <th>rayleighScatterings</th>\n",
       "      <th>jobnumber</th>\n",
       "      <th>theta</th>\n",
       "      <th>r_min</th>\n",
       "      <th>theta_refl</th>\n",
       "      <th>Austrittswinkel</th>\n",
       "    </tr>\n",
       "  </thead>\n",
       "  <tbody>\n",
       "    <tr>\n",
       "      <th>0</th>\n",
       "      <td>-0.026978</td>\n",
       "      <td>-0.061619</td>\n",
       "      <td>2400.019897</td>\n",
       "      <td>-0.051878</td>\n",
       "      <td>0.096635</td>\n",
       "      <td>0.948434</td>\n",
       "      <td>0.162628</td>\n",
       "      <td>-0.272077</td>\n",
       "      <td>3649.0</td>\n",
       "      <td>0.0</td>\n",
       "      <td>472.743103</td>\n",
       "      <td>2400.0</td>\n",
       "      <td>2530.557861</td>\n",
       "      <td>0.0</td>\n",
       "      <td>0.0</td>\n",
       "      <td>0</td>\n",
       "      <td>0.322539</td>\n",
       "      <td>0.005049</td>\n",
       "      <td>0.322539</td>\n",
       "      <td>0.131019</td>\n",
       "    </tr>\n",
       "    <tr>\n",
       "      <th>1</th>\n",
       "      <td>-0.055254</td>\n",
       "      <td>0.050902</td>\n",
       "      <td>2400.000732</td>\n",
       "      <td>0.085666</td>\n",
       "      <td>0.015889</td>\n",
       "      <td>0.977825</td>\n",
       "      <td>-0.139056</td>\n",
       "      <td>-0.156593</td>\n",
       "      <td>2674.0</td>\n",
       "      <td>0.0</td>\n",
       "      <td>504.521210</td>\n",
       "      <td>2400.0</td>\n",
       "      <td>2454.456055</td>\n",
       "      <td>0.0</td>\n",
       "      <td>0.0</td>\n",
       "      <td>0</td>\n",
       "      <td>0.210985</td>\n",
       "      <td>0.053506</td>\n",
       "      <td>0.210985</td>\n",
       "      <td>0.086423</td>\n",
       "    </tr>\n",
       "    <tr>\n",
       "      <th>4</th>\n",
       "      <td>0.050591</td>\n",
       "      <td>0.043467</td>\n",
       "      <td>2400.000977</td>\n",
       "      <td>-0.004035</td>\n",
       "      <td>-0.069628</td>\n",
       "      <td>0.971248</td>\n",
       "      <td>-0.103995</td>\n",
       "      <td>-0.214154</td>\n",
       "      <td>2757.0</td>\n",
       "      <td>0.0</td>\n",
       "      <td>489.916565</td>\n",
       "      <td>2400.0</td>\n",
       "      <td>2470.986084</td>\n",
       "      <td>0.0</td>\n",
       "      <td>0.0</td>\n",
       "      <td>0</td>\n",
       "      <td>0.240377</td>\n",
       "      <td>0.026786</td>\n",
       "      <td>0.240377</td>\n",
       "      <td>0.098280</td>\n",
       "    </tr>\n",
       "    <tr>\n",
       "      <th>5</th>\n",
       "      <td>0.016537</td>\n",
       "      <td>0.030342</td>\n",
       "      <td>2487.261475</td>\n",
       "      <td>0.037348</td>\n",
       "      <td>0.037756</td>\n",
       "      <td>0.947609</td>\n",
       "      <td>0.023118</td>\n",
       "      <td>0.318594</td>\n",
       "      <td>4014.0</td>\n",
       "      <td>0.0</td>\n",
       "      <td>527.115417</td>\n",
       "      <td>2400.0</td>\n",
       "      <td>2624.865234</td>\n",
       "      <td>0.0</td>\n",
       "      <td>0.0</td>\n",
       "      <td>0</td>\n",
       "      <td>0.325130</td>\n",
       "      <td>0.034518</td>\n",
       "      <td>0.325130</td>\n",
       "      <td>0.132040</td>\n",
       "    </tr>\n",
       "    <tr>\n",
       "      <th>6</th>\n",
       "      <td>0.074679</td>\n",
       "      <td>-0.021847</td>\n",
       "      <td>2400.000244</td>\n",
       "      <td>0.095372</td>\n",
       "      <td>0.006802</td>\n",
       "      <td>0.933133</td>\n",
       "      <td>-0.234433</td>\n",
       "      <td>-0.272586</td>\n",
       "      <td>5341.0</td>\n",
       "      <td>0.0</td>\n",
       "      <td>483.546570</td>\n",
       "      <td>2400.0</td>\n",
       "      <td>2571.967773</td>\n",
       "      <td>0.0</td>\n",
       "      <td>0.0</td>\n",
       "      <td>0</td>\n",
       "      <td>0.367764</td>\n",
       "      <td>0.067873</td>\n",
       "      <td>0.367764</td>\n",
       "      <td>0.148731</td>\n",
       "    </tr>\n",
       "  </tbody>\n",
       "</table>\n",
       "</div>"
      ],
      "text/plain": [
       "     y_exit    z_exit      x_start   y_start   z_start  px_start  py_start  \\\n",
       "0 -0.026978 -0.061619  2400.019897 -0.051878  0.096635  0.948434  0.162628   \n",
       "1 -0.055254  0.050902  2400.000732  0.085666  0.015889  0.977825 -0.139056   \n",
       "4  0.050591  0.043467  2400.000977 -0.004035 -0.069628  0.971248 -0.103995   \n",
       "5  0.016537  0.030342  2487.261475  0.037348  0.037756  0.947609  0.023118   \n",
       "6  0.074679 -0.021847  2400.000244  0.095372  0.006802  0.933133 -0.234433   \n",
       "\n",
       "   pz_start  reflCoCl  reflClCl          wl  gpsPosX  length_core  \\\n",
       "0 -0.272077    3649.0       0.0  472.743103   2400.0  2530.557861   \n",
       "1 -0.156593    2674.0       0.0  504.521210   2400.0  2454.456055   \n",
       "4 -0.214154    2757.0       0.0  489.916565   2400.0  2470.986084   \n",
       "5  0.318594    4014.0       0.0  527.115417   2400.0  2624.865234   \n",
       "6 -0.272586    5341.0       0.0  483.546570   2400.0  2571.967773   \n",
       "\n",
       "   length_clad  rayleighScatterings  jobnumber     theta     r_min  \\\n",
       "0          0.0                  0.0          0  0.322539  0.005049   \n",
       "1          0.0                  0.0          0  0.210985  0.053506   \n",
       "4          0.0                  0.0          0  0.240377  0.026786   \n",
       "5          0.0                  0.0          0  0.325130  0.034518   \n",
       "6          0.0                  0.0          0  0.367764  0.067873   \n",
       "\n",
       "   theta_refl  Austrittswinkel  \n",
       "0    0.322539         0.131019  \n",
       "1    0.210985         0.086423  \n",
       "4    0.240377         0.098280  \n",
       "5    0.325130         0.132040  \n",
       "6    0.367764         0.148731  "
      ]
     },
     "execution_count": 35,
     "metadata": {},
     "output_type": "execute_result"
    }
   ],
   "source": [
    "data.head()"
   ]
  },
  {
   "cell_type": "code",
   "execution_count": 39,
   "metadata": {},
   "outputs": [
    {
     "data": {
      "text/html": [
       "<div>\n",
       "<style scoped>\n",
       "    .dataframe tbody tr th:only-of-type {\n",
       "        vertical-align: middle;\n",
       "    }\n",
       "\n",
       "    .dataframe tbody tr th {\n",
       "        vertical-align: top;\n",
       "    }\n",
       "\n",
       "    .dataframe thead th {\n",
       "        text-align: right;\n",
       "    }\n",
       "</style>\n",
       "<table border=\"1\" class=\"dataframe\">\n",
       "  <thead>\n",
       "    <tr style=\"text-align: right;\">\n",
       "      <th></th>\n",
       "      <th>y_exit</th>\n",
       "      <th>z_exit</th>\n",
       "      <th>x_start</th>\n",
       "      <th>y_start</th>\n",
       "      <th>z_start</th>\n",
       "      <th>px_start</th>\n",
       "      <th>py_start</th>\n",
       "      <th>pz_start</th>\n",
       "      <th>reflCoCl</th>\n",
       "      <th>reflClCl</th>\n",
       "      <th>wl</th>\n",
       "      <th>gpsPosX</th>\n",
       "      <th>length_core</th>\n",
       "      <th>length_clad</th>\n",
       "      <th>rayleighScatterings</th>\n",
       "      <th>jobnumber</th>\n",
       "      <th>theta</th>\n",
       "      <th>Austrittswinkel</th>\n",
       "    </tr>\n",
       "  </thead>\n",
       "  <tbody>\n",
       "    <tr>\n",
       "      <th>2</th>\n",
       "      <td>0.049212</td>\n",
       "      <td>0.065583</td>\n",
       "      <td>2399.990967</td>\n",
       "      <td>0.006511</td>\n",
       "      <td>-0.025208</td>\n",
       "      <td>0.917937</td>\n",
       "      <td>-0.225034</td>\n",
       "      <td>0.326729</td>\n",
       "      <td>0.0</td>\n",
       "      <td>3894.0</td>\n",
       "      <td>442.621185</td>\n",
       "      <td>2400.0</td>\n",
       "      <td>2204.132568</td>\n",
       "      <td>381.522583</td>\n",
       "      <td>0.0</td>\n",
       "      <td>0</td>\n",
       "      <td>0.407948</td>\n",
       "      <td>0.164252</td>\n",
       "    </tr>\n",
       "    <tr>\n",
       "      <th>3</th>\n",
       "      <td>-0.018177</td>\n",
       "      <td>-0.106197</td>\n",
       "      <td>2400.062012</td>\n",
       "      <td>-0.043234</td>\n",
       "      <td>-0.098842</td>\n",
       "      <td>0.885576</td>\n",
       "      <td>0.074564</td>\n",
       "      <td>-0.458470</td>\n",
       "      <td>0.0</td>\n",
       "      <td>5517.0</td>\n",
       "      <td>484.213989</td>\n",
       "      <td>2400.0</td>\n",
       "      <td>2210.260498</td>\n",
       "      <td>466.030212</td>\n",
       "      <td>0.0</td>\n",
       "      <td>0</td>\n",
       "      <td>0.483063</td>\n",
       "      <td>0.192634</td>\n",
       "    </tr>\n",
       "    <tr>\n",
       "      <th>7</th>\n",
       "      <td>-0.053192</td>\n",
       "      <td>0.130051</td>\n",
       "      <td>2400.111084</td>\n",
       "      <td>-0.218732</td>\n",
       "      <td>0.190087</td>\n",
       "      <td>0.802544</td>\n",
       "      <td>0.382174</td>\n",
       "      <td>-0.458113</td>\n",
       "      <td>0.0</td>\n",
       "      <td>9070.0</td>\n",
       "      <td>440.189850</td>\n",
       "      <td>2400.0</td>\n",
       "      <td>2463.961426</td>\n",
       "      <td>489.392395</td>\n",
       "      <td>0.0</td>\n",
       "      <td>0</td>\n",
       "      <td>0.639250</td>\n",
       "      <td>0.248439</td>\n",
       "    </tr>\n",
       "    <tr>\n",
       "      <th>10</th>\n",
       "      <td>0.013535</td>\n",
       "      <td>-0.060351</td>\n",
       "      <td>2400.030518</td>\n",
       "      <td>-0.058757</td>\n",
       "      <td>-0.067561</td>\n",
       "      <td>0.867744</td>\n",
       "      <td>0.492441</td>\n",
       "      <td>0.067252</td>\n",
       "      <td>0.0</td>\n",
       "      <td>6301.0</td>\n",
       "      <td>483.165436</td>\n",
       "      <td>2400.0</td>\n",
       "      <td>2340.157471</td>\n",
       "      <td>396.860046</td>\n",
       "      <td>0.0</td>\n",
       "      <td>0</td>\n",
       "      <td>0.520152</td>\n",
       "      <td>0.206308</td>\n",
       "    </tr>\n",
       "    <tr>\n",
       "      <th>11</th>\n",
       "      <td>0.022486</td>\n",
       "      <td>-0.008039</td>\n",
       "      <td>2400.009399</td>\n",
       "      <td>0.066679</td>\n",
       "      <td>-0.011046</td>\n",
       "      <td>0.909303</td>\n",
       "      <td>-0.408518</td>\n",
       "      <td>-0.079252</td>\n",
       "      <td>0.0</td>\n",
       "      <td>4392.0</td>\n",
       "      <td>456.205414</td>\n",
       "      <td>2400.0</td>\n",
       "      <td>2267.832764</td>\n",
       "      <td>345.799469</td>\n",
       "      <td>0.0</td>\n",
       "      <td>0</td>\n",
       "      <td>0.429190</td>\n",
       "      <td>0.172366</td>\n",
       "    </tr>\n",
       "  </tbody>\n",
       "</table>\n",
       "</div>"
      ],
      "text/plain": [
       "      y_exit    z_exit      x_start   y_start   z_start  px_start  py_start  \\\n",
       "2   0.049212  0.065583  2399.990967  0.006511 -0.025208  0.917937 -0.225034   \n",
       "3  -0.018177 -0.106197  2400.062012 -0.043234 -0.098842  0.885576  0.074564   \n",
       "7  -0.053192  0.130051  2400.111084 -0.218732  0.190087  0.802544  0.382174   \n",
       "10  0.013535 -0.060351  2400.030518 -0.058757 -0.067561  0.867744  0.492441   \n",
       "11  0.022486 -0.008039  2400.009399  0.066679 -0.011046  0.909303 -0.408518   \n",
       "\n",
       "    pz_start  reflCoCl  reflClCl          wl  gpsPosX  length_core  \\\n",
       "2   0.326729       0.0    3894.0  442.621185   2400.0  2204.132568   \n",
       "3  -0.458470       0.0    5517.0  484.213989   2400.0  2210.260498   \n",
       "7  -0.458113       0.0    9070.0  440.189850   2400.0  2463.961426   \n",
       "10  0.067252       0.0    6301.0  483.165436   2400.0  2340.157471   \n",
       "11 -0.079252       0.0    4392.0  456.205414   2400.0  2267.832764   \n",
       "\n",
       "    length_clad  rayleighScatterings  jobnumber     theta  Austrittswinkel  \n",
       "2    381.522583                  0.0          0  0.407948         0.164252  \n",
       "3    466.030212                  0.0          0  0.483063         0.192634  \n",
       "7    489.392395                  0.0          0  0.639250         0.248439  \n",
       "10   396.860046                  0.0          0  0.520152         0.206308  \n",
       "11   345.799469                  0.0          0  0.429190         0.172366  "
      ]
     },
     "execution_count": 39,
     "metadata": {},
     "output_type": "execute_result"
    }
   ],
   "source": [
    "data_clad.head()"
   ]
  },
  {
   "cell_type": "code",
   "execution_count": null,
   "metadata": {},
   "outputs": [],
   "source": []
  },
  {
   "cell_type": "code",
   "execution_count": null,
   "metadata": {},
   "outputs": [],
   "source": []
  },
  {
   "cell_type": "code",
   "execution_count": null,
   "metadata": {},
   "outputs": [],
   "source": []
  },
  {
   "cell_type": "code",
   "execution_count": null,
   "metadata": {},
   "outputs": [],
   "source": []
  }
 ],
 "metadata": {
  "kernelspec": {
   "display_name": "Python 3",
   "language": "python",
   "name": "python3"
  },
  "language_info": {
   "codemirror_mode": {
    "name": "ipython",
    "version": 3
   },
   "file_extension": ".py",
   "mimetype": "text/x-python",
   "name": "python",
   "nbconvert_exporter": "python",
   "pygments_lexer": "ipython3",
   "version": "3.7.2"
  }
 },
 "nbformat": 4,
 "nbformat_minor": 2
}
