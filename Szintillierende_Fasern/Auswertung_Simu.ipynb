{
 "cells": [
  {
   "cell_type": "code",
   "execution_count": 2,
   "metadata": {},
   "outputs": [],
   "source": [
    "import pandas as pd\n",
    "import numpy as np\n",
    "import matplotlib.pyplot as plt"
   ]
  },
  {
   "cell_type": "code",
   "execution_count": null,
   "metadata": {},
   "outputs": [],
   "source": []
  },
  {
   "cell_type": "code",
   "execution_count": 3,
   "metadata": {},
   "outputs": [
    {
     "data": {
      "text/html": [
       "<div>\n",
       "<style scoped>\n",
       "    .dataframe tbody tr th:only-of-type {\n",
       "        vertical-align: middle;\n",
       "    }\n",
       "\n",
       "    .dataframe tbody tr th {\n",
       "        vertical-align: top;\n",
       "    }\n",
       "\n",
       "    .dataframe thead th {\n",
       "        text-align: right;\n",
       "    }\n",
       "</style>\n",
       "<table border=\"1\" class=\"dataframe\">\n",
       "  <thead>\n",
       "    <tr style=\"text-align: right;\">\n",
       "      <th></th>\n",
       "      <th>y_exit</th>\n",
       "      <th>z_exit</th>\n",
       "      <th>x_start</th>\n",
       "      <th>y_start</th>\n",
       "      <th>z_start</th>\n",
       "      <th>px_start</th>\n",
       "      <th>py_start</th>\n",
       "      <th>pz_start</th>\n",
       "      <th>reflCoCl</th>\n",
       "      <th>reflClCl</th>\n",
       "      <th>wl</th>\n",
       "      <th>gpsPosX</th>\n",
       "      <th>length_core</th>\n",
       "      <th>length_clad</th>\n",
       "      <th>rayleighScatterings</th>\n",
       "      <th>jobnumber</th>\n",
       "    </tr>\n",
       "  </thead>\n",
       "  <tbody>\n",
       "    <tr>\n",
       "      <th>0</th>\n",
       "      <td>-0.026978</td>\n",
       "      <td>-0.061619</td>\n",
       "      <td>2400.019897</td>\n",
       "      <td>-0.051878</td>\n",
       "      <td>0.096635</td>\n",
       "      <td>0.948434</td>\n",
       "      <td>0.162628</td>\n",
       "      <td>-0.272077</td>\n",
       "      <td>3649.0</td>\n",
       "      <td>0.0</td>\n",
       "      <td>472.743103</td>\n",
       "      <td>2400.0</td>\n",
       "      <td>2530.557861</td>\n",
       "      <td>0.000000</td>\n",
       "      <td>0.0</td>\n",
       "      <td>0</td>\n",
       "    </tr>\n",
       "    <tr>\n",
       "      <th>1</th>\n",
       "      <td>-0.055254</td>\n",
       "      <td>0.050902</td>\n",
       "      <td>2400.000732</td>\n",
       "      <td>0.085666</td>\n",
       "      <td>0.015889</td>\n",
       "      <td>0.977825</td>\n",
       "      <td>-0.139056</td>\n",
       "      <td>-0.156593</td>\n",
       "      <td>2674.0</td>\n",
       "      <td>0.0</td>\n",
       "      <td>504.521210</td>\n",
       "      <td>2400.0</td>\n",
       "      <td>2454.456055</td>\n",
       "      <td>0.000000</td>\n",
       "      <td>0.0</td>\n",
       "      <td>0</td>\n",
       "    </tr>\n",
       "    <tr>\n",
       "      <th>2</th>\n",
       "      <td>0.049212</td>\n",
       "      <td>0.065583</td>\n",
       "      <td>2399.990967</td>\n",
       "      <td>0.006511</td>\n",
       "      <td>-0.025208</td>\n",
       "      <td>0.917937</td>\n",
       "      <td>-0.225034</td>\n",
       "      <td>0.326729</td>\n",
       "      <td>0.0</td>\n",
       "      <td>3894.0</td>\n",
       "      <td>442.621185</td>\n",
       "      <td>2400.0</td>\n",
       "      <td>2204.132568</td>\n",
       "      <td>381.522583</td>\n",
       "      <td>0.0</td>\n",
       "      <td>0</td>\n",
       "    </tr>\n",
       "    <tr>\n",
       "      <th>3</th>\n",
       "      <td>-0.018177</td>\n",
       "      <td>-0.106197</td>\n",
       "      <td>2400.062012</td>\n",
       "      <td>-0.043234</td>\n",
       "      <td>-0.098842</td>\n",
       "      <td>0.885576</td>\n",
       "      <td>0.074564</td>\n",
       "      <td>-0.458470</td>\n",
       "      <td>0.0</td>\n",
       "      <td>5517.0</td>\n",
       "      <td>484.213989</td>\n",
       "      <td>2400.0</td>\n",
       "      <td>2210.260498</td>\n",
       "      <td>466.030212</td>\n",
       "      <td>0.0</td>\n",
       "      <td>0</td>\n",
       "    </tr>\n",
       "    <tr>\n",
       "      <th>4</th>\n",
       "      <td>0.050591</td>\n",
       "      <td>0.043467</td>\n",
       "      <td>2400.000977</td>\n",
       "      <td>-0.004035</td>\n",
       "      <td>-0.069628</td>\n",
       "      <td>0.971248</td>\n",
       "      <td>-0.103995</td>\n",
       "      <td>-0.214154</td>\n",
       "      <td>2757.0</td>\n",
       "      <td>0.0</td>\n",
       "      <td>489.916565</td>\n",
       "      <td>2400.0</td>\n",
       "      <td>2470.986084</td>\n",
       "      <td>0.000000</td>\n",
       "      <td>0.0</td>\n",
       "      <td>0</td>\n",
       "    </tr>\n",
       "    <tr>\n",
       "      <th>5</th>\n",
       "      <td>0.016537</td>\n",
       "      <td>0.030342</td>\n",
       "      <td>2487.261475</td>\n",
       "      <td>0.037348</td>\n",
       "      <td>0.037756</td>\n",
       "      <td>0.947609</td>\n",
       "      <td>0.023118</td>\n",
       "      <td>0.318594</td>\n",
       "      <td>4014.0</td>\n",
       "      <td>0.0</td>\n",
       "      <td>527.115417</td>\n",
       "      <td>2400.0</td>\n",
       "      <td>2624.865234</td>\n",
       "      <td>0.000000</td>\n",
       "      <td>0.0</td>\n",
       "      <td>0</td>\n",
       "    </tr>\n",
       "    <tr>\n",
       "      <th>6</th>\n",
       "      <td>0.074679</td>\n",
       "      <td>-0.021847</td>\n",
       "      <td>2400.000244</td>\n",
       "      <td>0.095372</td>\n",
       "      <td>0.006802</td>\n",
       "      <td>0.933133</td>\n",
       "      <td>-0.234433</td>\n",
       "      <td>-0.272586</td>\n",
       "      <td>5341.0</td>\n",
       "      <td>0.0</td>\n",
       "      <td>483.546570</td>\n",
       "      <td>2400.0</td>\n",
       "      <td>2571.967773</td>\n",
       "      <td>0.000000</td>\n",
       "      <td>0.0</td>\n",
       "      <td>0</td>\n",
       "    </tr>\n",
       "    <tr>\n",
       "      <th>7</th>\n",
       "      <td>-0.053192</td>\n",
       "      <td>0.130051</td>\n",
       "      <td>2400.111084</td>\n",
       "      <td>-0.218732</td>\n",
       "      <td>0.190087</td>\n",
       "      <td>0.802544</td>\n",
       "      <td>0.382174</td>\n",
       "      <td>-0.458113</td>\n",
       "      <td>0.0</td>\n",
       "      <td>9070.0</td>\n",
       "      <td>440.189850</td>\n",
       "      <td>2400.0</td>\n",
       "      <td>2463.961426</td>\n",
       "      <td>489.392395</td>\n",
       "      <td>0.0</td>\n",
       "      <td>0</td>\n",
       "    </tr>\n",
       "    <tr>\n",
       "      <th>8</th>\n",
       "      <td>-0.190717</td>\n",
       "      <td>-0.006167</td>\n",
       "      <td>2399.867798</td>\n",
       "      <td>-0.329062</td>\n",
       "      <td>0.064007</td>\n",
       "      <td>0.941782</td>\n",
       "      <td>0.242314</td>\n",
       "      <td>0.233088</td>\n",
       "      <td>5993.0</td>\n",
       "      <td>0.0</td>\n",
       "      <td>453.063904</td>\n",
       "      <td>2400.0</td>\n",
       "      <td>2548.252441</td>\n",
       "      <td>0.000000</td>\n",
       "      <td>0.0</td>\n",
       "      <td>0</td>\n",
       "    </tr>\n",
       "    <tr>\n",
       "      <th>9</th>\n",
       "      <td>-0.044855</td>\n",
       "      <td>-0.030424</td>\n",
       "      <td>2411.614746</td>\n",
       "      <td>-0.035966</td>\n",
       "      <td>0.083363</td>\n",
       "      <td>0.956600</td>\n",
       "      <td>-0.195042</td>\n",
       "      <td>0.216504</td>\n",
       "      <td>3463.0</td>\n",
       "      <td>0.0</td>\n",
       "      <td>456.884094</td>\n",
       "      <td>2400.0</td>\n",
       "      <td>2521.028564</td>\n",
       "      <td>0.000000</td>\n",
       "      <td>0.0</td>\n",
       "      <td>0</td>\n",
       "    </tr>\n",
       "  </tbody>\n",
       "</table>\n",
       "</div>"
      ],
      "text/plain": [
       "     y_exit    z_exit      x_start   y_start   z_start  px_start  py_start  \\\n",
       "0 -0.026978 -0.061619  2400.019897 -0.051878  0.096635  0.948434  0.162628   \n",
       "1 -0.055254  0.050902  2400.000732  0.085666  0.015889  0.977825 -0.139056   \n",
       "2  0.049212  0.065583  2399.990967  0.006511 -0.025208  0.917937 -0.225034   \n",
       "3 -0.018177 -0.106197  2400.062012 -0.043234 -0.098842  0.885576  0.074564   \n",
       "4  0.050591  0.043467  2400.000977 -0.004035 -0.069628  0.971248 -0.103995   \n",
       "5  0.016537  0.030342  2487.261475  0.037348  0.037756  0.947609  0.023118   \n",
       "6  0.074679 -0.021847  2400.000244  0.095372  0.006802  0.933133 -0.234433   \n",
       "7 -0.053192  0.130051  2400.111084 -0.218732  0.190087  0.802544  0.382174   \n",
       "8 -0.190717 -0.006167  2399.867798 -0.329062  0.064007  0.941782  0.242314   \n",
       "9 -0.044855 -0.030424  2411.614746 -0.035966  0.083363  0.956600 -0.195042   \n",
       "\n",
       "   pz_start  reflCoCl  reflClCl          wl  gpsPosX  length_core  \\\n",
       "0 -0.272077    3649.0       0.0  472.743103   2400.0  2530.557861   \n",
       "1 -0.156593    2674.0       0.0  504.521210   2400.0  2454.456055   \n",
       "2  0.326729       0.0    3894.0  442.621185   2400.0  2204.132568   \n",
       "3 -0.458470       0.0    5517.0  484.213989   2400.0  2210.260498   \n",
       "4 -0.214154    2757.0       0.0  489.916565   2400.0  2470.986084   \n",
       "5  0.318594    4014.0       0.0  527.115417   2400.0  2624.865234   \n",
       "6 -0.272586    5341.0       0.0  483.546570   2400.0  2571.967773   \n",
       "7 -0.458113       0.0    9070.0  440.189850   2400.0  2463.961426   \n",
       "8  0.233088    5993.0       0.0  453.063904   2400.0  2548.252441   \n",
       "9  0.216504    3463.0       0.0  456.884094   2400.0  2521.028564   \n",
       "\n",
       "   length_clad  rayleighScatterings  jobnumber  \n",
       "0     0.000000                  0.0          0  \n",
       "1     0.000000                  0.0          0  \n",
       "2   381.522583                  0.0          0  \n",
       "3   466.030212                  0.0          0  \n",
       "4     0.000000                  0.0          0  \n",
       "5     0.000000                  0.0          0  \n",
       "6     0.000000                  0.0          0  \n",
       "7   489.392395                  0.0          0  \n",
       "8     0.000000                  0.0          0  \n",
       "9     0.000000                  0.0          0  "
      ]
     },
     "execution_count": 3,
     "metadata": {},
     "output_type": "execute_result"
    }
   ],
   "source": [
    "columnnames = ['y_exit', 'z_exit', 'x_start', 'y_start', 'z_start', 'px_start', 'py_start', 'pz_start', 'reflCoCl', 'reflClCl', 'wl','gpsPosX', 'length_core', 'length_clad', 'rayleighScatterings']\n",
    "\n",
    "data = pd.DataFrame()\n",
    "\n",
    "for i in range(0,1199):\n",
    "    df_i = pd.read_csv('Daten/job_{}.txt'.format(i), sep='\\t', skiprows=1, names = columnnames)\n",
    "    df_i['jobnumber'] = i\n",
    "    data = pd.concat([data, df_i])\n",
    "data.head(10)"
   ]
  },
  {
   "cell_type": "code",
   "execution_count": 4,
   "metadata": {},
   "outputs": [
    {
     "data": {
      "text/plain": [
       "(-0.1, 55)"
      ]
     },
     "execution_count": 4,
     "metadata": {},
     "output_type": "execute_result"
    },
    {
     "data": {
      "image/png": "[encoded data removed]",
      "text/plain": [
       "<Figure size 432x288 with 1 Axes>"
      ]
     },
     "metadata": {
      "needs_background": "light"
     },
     "output_type": "display_data"
    }
   ],
   "source": [
    "data['theta']= np.arccos(data['px_start'])\n",
    "plt.hist(data['theta']*(360/2/np.pi), color='darkturquoise', bins=100)\n",
    "plt.xlabel(r'$\\theta\\;$[°]')\n",
    "plt.ylabel(r'events')\n",
    "plt.xlim(-0.1, 55)"
   ]
  },
  {
   "cell_type": "code",
   "execution_count": 5,
   "metadata": {},
   "outputs": [
    {
     "data": {
      "text/plain": [
       "(-0.01, 0.5)"
      ]
     },
     "execution_count": 5,
     "metadata": {},
     "output_type": "execute_result"
    },
    {
     "data": {
      "image/png": "[encoded data removed]",
      "text/plain": [
       "<Figure size 432x288 with 1 Axes>"
      ]
     },
     "metadata": {
      "needs_background": "light"
     },
     "output_type": "display_data"
    }
   ],
   "source": [
    "data['r_min'] = (np.abs(data['pz_start']*data['y_start']-data['py_start']*data['z_start']))/np.sqrt(data['pz_start']**2 + data['py_start']**2)\n",
    "plt.hist(data['r_min'], color='cornflowerblue', bins=100)\n",
    "plt.xlabel(r'$r_\\mathrm{min}\\;$[mm]')\n",
    "plt.ylabel(r'events')\n",
    "plt.xlim(-0.01, 0.5)"
   ]
  },
  {
   "cell_type": "code",
   "execution_count": 94,
   "metadata": {},
   "outputs": [
    {
     "data": {
      "text/plain": [
       "<matplotlib.colorbar.Colorbar at 0x7fd035ccbe10>"
      ]
     },
     "execution_count": 94,
     "metadata": {},
     "output_type": "execute_result"
    },
    {
     "data": {
      "image/png": "[encoded data removed]",
      "text/plain": [
       "<Figure size 432x288 with 2 Axes>"
      ]
     },
     "metadata": {
      "needs_background": "light"
     },
     "output_type": "display_data"
    }
   ],
   "source": [
    "matrix_r, theta_r, r_min, image = plt.hist2d(data['theta']*(360/2/np.pi), data['r_min'], cmap='viridis', bins=[\n",
    "                                             np.logspace(np.log10(1),np.log10(60),30),\n",
    "                                             np.logspace(np.log10(0.01),np.log10(0.3),30),\n",
    "                                         ])\n",
    "plt.ylabel(r'$r_\\mathrm{min}\\;$[mm]')\n",
    "plt.xlabel(r'$\\theta\\;$[°]')\n",
    "#plt.xscale('log')\n",
    "#plt.yscale('log')\n",
    "plt.colorbar()"
   ]
  },
  {
   "cell_type": "code",
   "execution_count": 37,
   "metadata": {},
   "outputs": [],
   "source": [
    "#matrix_r.shape"
   ]
  },
  {
   "cell_type": "code",
   "execution_count": 95,
   "metadata": {},
   "outputs": [],
   "source": [
    "mean_r_min = []\n",
    "for i in range(0,len(theta_r)-1):\n",
    "    sum = 0.0\n",
    "    ctr = 0.0\n",
    "    for j in range(0,len(r_min)-1):\n",
    "        sum += matrix_r[i,j]*r_min[j]\n",
    "        ctr += matrix_r[i,j]\n",
    "    mean_r_min.append(sum/ctr)\n",
    "#mean_r_min"
   ]
  },
  {
   "cell_type": "code",
   "execution_count": null,
   "metadata": {},
   "outputs": [],
   "source": []
  },
  {
   "cell_type": "code",
   "execution_count": 101,
   "metadata": {},
   "outputs": [
    {
     "data": {
      "text/plain": [
       "Text(0.5, 0, '$\\\\theta\\\\;$[°]')"
      ]
     },
     "execution_count": 101,
     "metadata": {},
     "output_type": "execute_result"
    },
    {
     "data": {
      "image/png": "[encoded data removed]",
      "text/plain": [
       "<Figure size 432x288 with 1 Axes>"
      ]
     },
     "metadata": {
      "needs_background": "light"
     },
     "output_type": "display_data"
    }
   ],
   "source": [
    "plt.plot(theta_r[:len(theta_r)-1], mean_r_min, color = 'darkgreen', linestyle='', marker ='x')\n",
    "plt.ylabel(r'$r_\\mathrm{min}\\;$[mm]')\n",
    "plt.xlabel(r'$\\theta\\;$[°]')"
   ]
  },
  {
   "cell_type": "code",
   "execution_count": 90,
   "metadata": {},
   "outputs": [
    {
     "data": {
      "text/plain": [
       "<matplotlib.colorbar.Colorbar at 0x7fd1444f76d8>"
      ]
     },
     "execution_count": 90,
     "metadata": {},
     "output_type": "execute_result"
    },
    {
     "data": {
      "image/png": "[encoded data removed]",
      "text/plain": [
       "<Figure size 432x288 with 2 Axes>"
      ]
     },
     "metadata": {
      "needs_background": "light"
     },
     "output_type": "display_data"
    }
   ],
   "source": [
    "r_Kern = 110 #Mikrometer\n",
    "data['theta_refl'] = np.arcsin(np.sqrt(1-((data['r_min']**2)/(r_Kern**2)))*np.sin(data['theta']))\n",
    "matrix, theta, theta_refl, image = plt.hist2d(data['theta']*(360/2/np.pi), data['theta_refl']*(360/2/np.pi),cmap='viridis', bins=[\n",
    "                                             np.logspace(np.log10(1),np.log10(60),20),\n",
    "                                             np.logspace(np.log10(1),np.log10(50),30),\n",
    "                                         ])\n",
    "plt.ylabel(r'$\\theta_\\mathrm{refl}\\;$[°]')\n",
    "plt.xlabel(r'$\\theta\\;$[°]')\n",
    "#plt.xscale('log')\n",
    "#plt.yscale('log')\n",
    "plt.colorbar()"
   ]
  },
  {
   "cell_type": "code",
   "execution_count": 102,
   "metadata": {},
   "outputs": [],
   "source": [
    "mean_theta_refl = []\n",
    "for i in range(0,len(theta)-1):\n",
    "    sum = 0.0\n",
    "    ctr = 0.0\n",
    "    for j in range(0,len(theta_refl)-1):\n",
    "        sum += matrix[i,j]*theta_refl[j]\n",
    "        ctr += matrix[i,j]\n",
    "    mean_theta_refl.append(sum/ctr)\n"
   ]
  },
  {
   "cell_type": "code",
   "execution_count": 103,
   "metadata": {},
   "outputs": [
    {
     "data": {
      "text/plain": [
       "Text(0.5, 0, '$\\\\theta\\\\;$[°]')"
      ]
     },
     "execution_count": 103,
     "metadata": {},
     "output_type": "execute_result"
    },
    {
     "data": {
      "image/png": "[encoded data removed]",
      "text/plain": [
       "<Figure size 432x288 with 1 Axes>"
      ]
     },
     "metadata": {
      "needs_background": "light"
     },
     "output_type": "display_data"
    }
   ],
   "source": [
    "plt.plot(theta[:len(theta)-1], mean_theta_refl, color = 'rebeccapurple', linestyle='', marker ='x')\n",
    "plt.ylabel(r'$\\theta_\\mathrm{refl}\\;$[°]')\n",
    "plt.xlabel(r'$\\theta\\;$[°]')"
   ]
  },
  {
   "cell_type": "code",
   "execution_count": 104,
   "metadata": {},
   "outputs": [
    {
     "data": {
      "image/png": "[encoded data removed]",
      "text/plain": [
       "<Figure size 432x288 with 2 Axes>"
      ]
     },
     "metadata": {
      "needs_background": "light"
     },
     "output_type": "display_data"
    }
   ],
   "source": [
    "photon_mantel = data.loc[data['length_clad']>0]\n",
    "photon_kern = data.loc[data['length_clad']==0]\n",
    "plt.subplot(1,2,1)\n",
    "array_m, bins_m, patches_m = plt.hist(photon_mantel['theta']*(360/2/np.pi), bins = 50, color ='mediumpurple')\n",
    "plt.title(r'Mantelphotonen')\n",
    "plt.xlabel(r'$\\theta\\;$[°]')\n",
    "plt.ylabel(r'Anzahl')\n",
    "plt.yscale('log')\n",
    "\n",
    "plt.subplot(1,2,2)\n",
    "array_c, bins_c, patches_c = plt.hist(photon_kern['theta']*(360/2/np.pi), bins = 50, color = 'mediumpurple')\n",
    "plt.title(r'Kernphotonen')\n",
    "plt.xlabel(r'$\\theta\\;$[°]')\n",
    "plt.yscale('log')\n",
    "\n",
    "plt.subplots_adjust(wspace = 0.5)"
   ]
  },
  {
   "cell_type": "code",
   "execution_count": null,
   "metadata": {},
   "outputs": [],
   "source": [
    "#----------------Größte Winkel mit nur Kernphotonen------------"
   ]
  },
  {
   "cell_type": "code",
   "execution_count": 31,
   "metadata": {},
   "outputs": [],
   "source": [
    "#theta_photon_just_core = []\n",
    "#photon_core_theta = photon_kern['theta'].values\n",
    "#photon_mantel_theta = photon_mantel['theta'].values\n",
    "#for i in range(0, len(photon_kern)-1):\n",
    " #   if (photon_core_theta[i] in photon_mantel_theta):\n",
    " #       continue\n",
    "  #  else:\n",
    "   #     theta_photon_just_core.append(photon_core_theta[i])\n",
    "#theta_photon_just_core_max = np.max(theta_photon_just_core)\n",
    "#theta_photon_just_core_max"
   ]
  },
  {
   "cell_type": "code",
   "execution_count": 105,
   "metadata": {},
   "outputs": [
    {
     "data": {
      "text/plain": [
       "Text(0.5, 0, '$\\\\theta\\\\;$[°]')"
      ]
     },
     "execution_count": 105,
     "metadata": {},
     "output_type": "execute_result"
    },
    {
     "data": {
      "image/png": "[encoded data removed]",
      "text/plain": [
       "<Figure size 432x288 with 1 Axes>"
      ]
     },
     "metadata": {
      "needs_background": "light"
     },
     "output_type": "display_data"
    }
   ],
   "source": [
    "#Gleicher Plot wie vorher nur mit anderem binning?\n",
    "matrix_r, theta_r, r_min, image = plt.hist2d(data['theta']*(360/2/np.pi), data['r_min'], cmap='viridis', bins=100)\n",
    "plt.ylabel(r'$r_\\mathrm{min}\\;$[mm]')\n",
    "plt.xlabel(r'$\\theta\\;$[°]')"
   ]
  },
  {
   "cell_type": "code",
   "execution_count": 106,
   "metadata": {},
   "outputs": [],
   "source": [
    "r_min_max = []\n",
    "theta_max = []\n",
    "for i in range(0, len(r_min)-1):\n",
    "    for j in range(0, len(theta_r)-1):\n",
    "        if matrix_r[j,i] ==0:\n",
    "            theta_max.append(theta_r[j-1])\n",
    "            r_min_max.append(i)\n",
    "            break"
   ]
  },
  {
   "cell_type": "code",
   "execution_count": 107,
   "metadata": {},
   "outputs": [
    {
     "data": {
      "text/plain": [
       "Text(0, 0.5, '$\\\\theta_\\\\mathrm{max}\\\\;$[°]')"
      ]
     },
     "execution_count": 107,
     "metadata": {},
     "output_type": "execute_result"
    },
    {
     "data": {
      "image/png": "[encoded data removed]",
      "text/plain": [
       "<Figure size 432x288 with 1 Axes>"
      ]
     },
     "metadata": {
      "needs_background": "light"
     },
     "output_type": "display_data"
    }
   ],
   "source": [
    "plt.plot(r_min_max, theta_max, color = 'firebrick', marker = 'x', linestyle = '')\n",
    "plt.xlabel(r'$r_\\mathrm{min}\\;$[mm]')\n",
    "plt.ylabel(r'$\\theta_\\mathrm{max}\\;$[°]')\n"
   ]
  },
  {
   "cell_type": "code",
   "execution_count": null,
   "metadata": {},
   "outputs": [],
   "source": []
  }
 ],
 "metadata": {
  "kernelspec": {
   "display_name": "Python 3",
   "language": "python",
   "name": "python3"
  },
  "language_info": {
   "codemirror_mode": {
    "name": "ipython",
    "version": 3
   },
   "file_extension": ".py",
   "mimetype": "text/x-python",
   "name": "python",
   "nbconvert_exporter": "python",
   "pygments_lexer": "ipython3",
   "version": "3.7.1"
  }
 },
 "nbformat": 4,
 "nbformat_minor": 2
}
