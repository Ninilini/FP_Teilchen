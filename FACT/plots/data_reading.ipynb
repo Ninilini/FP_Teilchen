{
 "cells": [
  {
   "cell_type": "markdown",
   "metadata": {},
   "source": [
    "# Einlesen der FACT Daten\n",
    "\n",
    "\n",
    "Die Daten sind im HDF5 Format gespeichert und können mit dem Python-Modul h5py eingelesen werden.\n",
    "\n",
    "Das Python-Modul `pyfact` bietet eine nützliche Funktion, um diese Daten direkt in ein `pandas.DataFrame` einzulesen.\n",
    "\n",
    "```\n",
    "$ pip install pyfact\n",
    "```"
   ]
  },
  {
   "cell_type": "code",
   "execution_count": 167,
   "metadata": {},
   "outputs": [],
   "source": [
    "from fact.io import read_h5py\n",
    "import h5py\n",
    "import matplotlib.pyplot as plt\n",
    "import numpy as np\n",
    "import pandas as pd\n",
    "\n",
    "%matplotlib inline"
   ]
  },
  {
   "cell_type": "markdown",
   "metadata": {},
   "source": [
    "# Einlesen mit h5py"
   ]
  },
  {
   "cell_type": "code",
   "execution_count": 168,
   "metadata": {},
   "outputs": [
    {
     "name": "stdout",
     "output_type": "stream",
     "text": [
      "Tables:\n",
      "events runs\n",
      "\n",
      "Columns in events table\n",
      "dec_prediction disp_prediction event_num gamma_energy_prediction gamma_prediction index night pointing_position_az pointing_position_zd ra_prediction run_id theta_deg theta_deg_off_1 theta_deg_off_2 theta_deg_off_3 theta_deg_off_4 theta_deg_off_5 timestamp\n",
      "\n",
      "Columns in runs table\n",
      "azimuth declination index night ontime right_ascension run_id run_start run_stop source zenith\n"
     ]
    }
   ],
   "source": [
    "f = h5py.File('../data/open_crab_sample_dl3.hdf5')\n",
    "\n",
    "print('Tables:')\n",
    "print(*f)\n",
    "\n",
    "print()\n",
    "print('Columns in events table')\n",
    "print(*f['events'])\n",
    "\n",
    "print()\n",
    "print('Columns in runs table')\n",
    "print(*f['runs'])\n",
    "f.close()"
   ]
  },
  {
   "cell_type": "code",
   "execution_count": 169,
   "metadata": {},
   "outputs": [],
   "source": [
    "#theta_deg = f['events/theta_deg'][:]\n",
    "\n",
    "#plt.hist(theta_deg**2, bins=30, range=[0, 0.1])\n",
    "#None"
   ]
  },
  {
   "cell_type": "markdown",
   "metadata": {},
   "source": [
    "## Daten einlesen mit pyfact"
   ]
  },
  {
   "cell_type": "code",
   "execution_count": 170,
   "metadata": {},
   "outputs": [],
   "source": [
    "gammas = read_h5py('../data/gamma_test_dl3.hdf5', key='events', columns=[\n",
    "    'gamma_energy_prediction',\n",
    "    'gamma_prediction',\n",
    "    'theta_deg',\n",
    "    'corsika_event_header_event_number',\n",
    "    'corsika_event_header_total_energy',\n",
    "])\n",
    "#Testdatensatz aus simulierten Daten\n",
    "\n",
    "\n",
    "gammas_corsika = read_h5py(\n",
    "    '../data/gamma_corsika_events_1.1.2.hdf5',\n",
    "    key='corsika_events',\n",
    "    columns=['total_energy'],\n",
    ")\n",
    "# Infos über simulierten Daten\n",
    "\n",
    "\n",
    "crab_events = read_h5py('../data/open_crab_sample_dl3.hdf5', key='events', columns=[\n",
    "    'gamma_prediction',\n",
    "    'gamma_energy_prediction',\n",
    "    'theta_deg',\n",
    "    'theta_deg_off_1',\n",
    "    'theta_deg_off_2',\n",
    "    'theta_deg_off_3',\n",
    "    'theta_deg_off_4',\n",
    "    'theta_deg_off_5',\n",
    "])\n",
    "#Messdaten\n",
    "\n",
    "crab_runs = read_h5py('../data/open_crab_sample_dl3.hdf5', key='runs')"
   ]
  },
  {
   "cell_type": "code",
   "execution_count": 171,
   "metadata": {},
   "outputs": [],
   "source": [
    "#crab_events.head()"
   ]
  },
  {
   "cell_type": "markdown",
   "metadata": {},
   "source": [
    "# Limits für theata^2 - Plot"
   ]
  },
  {
   "cell_type": "code",
   "execution_count": 172,
   "metadata": {},
   "outputs": [],
   "source": [
    "limit_theta = np.sqrt(0.025)\n",
    "crab_events_pred = crab_events[crab_events.gamma_prediction>0.8]\n",
    "crab_events_sel = crab_events_pred[crab_events_pred.theta_deg<limit_theta]\n",
    "\n",
    "gammas_pred = gammas[gammas.gamma_prediction>0.8]\n",
    "gammas_sel = gammas_pred[gammas_pred.theta_deg < limit_theta]"
   ]
  },
  {
   "cell_type": "code",
   "execution_count": 173,
   "metadata": {},
   "outputs": [],
   "source": [
    "# Mit diesem limit werden alle events für den theta^2 plot ausgewählt (theta^2 < 0.3)\n",
    "# Für Berechnungen weiterhin crab_events_sel bzw bkg verwenden\n",
    "limit_theta_plot = np.sqrt(0.3)\n",
    "crab_events_pred_1 = crab_events_pred[crab_events_pred.theta_deg_off_1 < limit_theta_plot]\n",
    "crab_events_pred_2 = crab_events_pred[crab_events_pred.theta_deg_off_2 < limit_theta_plot]\n",
    "crab_events_pred_3 = crab_events_pred[crab_events_pred.theta_deg_off_3 < limit_theta_plot]\n",
    "crab_events_pred_4 = crab_events_pred[crab_events_pred.theta_deg_off_4 < limit_theta_plot]\n",
    "crab_events_pred_5 = crab_events_pred[crab_events_pred.theta_deg_off_5 < limit_theta_plot]\n",
    "\n",
    "crab_events_sel_plot= crab_events_pred[crab_events_pred.theta_deg < limit_theta_plot]"
   ]
  },
  {
   "cell_type": "code",
   "execution_count": 174,
   "metadata": {},
   "outputs": [],
   "source": [
    "crab_events_sel_1 = crab_events_pred[crab_events_pred.theta_deg_off_1 < limit_theta]\n",
    "crab_events_sel_2 = crab_events_pred[crab_events_pred.theta_deg_off_2 < limit_theta]\n",
    "crab_events_sel_3 = crab_events_pred[crab_events_pred.theta_deg_off_3 < limit_theta]\n",
    "crab_events_sel_4 = crab_events_pred[crab_events_pred.theta_deg_off_4 < limit_theta]\n",
    "crab_events_sel_5 = crab_events_pred[crab_events_pred.theta_deg_off_5 < limit_theta]\n",
    "# mask = (crab_events_pred.theta_deg_off_1 < limit_theta) | (crab_events_pred.theta_deg_off_2 < limit_theta) | (crab_events_pred.theta_deg_off_3 < limit_theta) | (crab_events_pred.theta_deg_off_4 < limit_theta) | (crab_events_pred.theta_deg_off_5 < limit_theta)\n",
    "# crab_events_sel_all = crab_events_pred[mask]\n",
    "bkg = pd.concat([crab_events_sel_1, crab_events_sel_2, crab_events_sel_3, crab_events_sel_4, crab_events_sel_5])"
   ]
  },
  {
   "cell_type": "markdown",
   "metadata": {},
   "source": [
    "# Histogramm der Abstandswinkel"
   ]
  },
  {
   "cell_type": "code",
   "execution_count": 175,
   "metadata": {},
   "outputs": [],
   "source": [
    "theta_deg_off = []\n",
    "for i in [1, 2, 3, 4, 5]:\n",
    "    exec('x = crab_events_pred_{}.theta_deg_off_{}.values'.format(i, i))\n",
    "    for el in x:\n",
    "        theta_deg_off.append(el)"
   ]
  },
  {
   "cell_type": "code",
   "execution_count": 176,
   "metadata": {},
   "outputs": [
    {
     "name": "stdout",
     "output_type": "stream",
     "text": [
      "250\n"
     ]
    },
    {
     "data": {
      "image/png": "[encoded data removed]",
      "text/plain": [
       "<Figure size 432x288 with 1 Axes>"
      ]
     },
     "metadata": {
      "needs_background": "light"
     },
     "output_type": "display_data"
    }
   ],
   "source": [
    "crab_events_sel_on = np.array(crab_events_sel_plot.theta_deg.values)\n",
    "plt.hist((crab_events_sel_on)**2, bins =40, histtype='step', color='blue', label='On-events')\n",
    "\n",
    "plt.hist(np.array(theta_deg_off)**2, bins=40, histtype='step', color='g', label='Off-events', weights=np.array([0.2 for el in theta_deg_off]))\n",
    "plt.vlines(0.025, color='c', linestyle='-.', ymin=0, ymax=400, label=r'$\\theta^{2}-cut$')\n",
    "plt.xlabel(r'$\\theta^2$ / $\\deg^2$')\n",
    "plt.legend()\n",
    "plt.text(0.06, 350,\n",
    "         r'''Source: Crab, $t_\\mathrm{{obs}}$ = 17.7h\n",
    "        $N_\\mathrm{{on}}$ = {non}, $N_\\mathrm{{off}}$ = {noff}, $\\alpha$ = 0.2'''.format(non=len(crab_events_sel), noff=len(bkg)))\n",
    "\n",
    "print(len(crab_events_sel_1.theta_deg_off_1.values))"
   ]
  },
  {
   "cell_type": "markdown",
   "metadata": {},
   "source": [
    "# 2D-Scatterplot der Energien"
   ]
  },
  {
   "cell_type": "code",
   "execution_count": 248,
   "metadata": {
    "scrolled": true
   },
   "outputs": [
    {
     "data": {
      "text/plain": [
       "<matplotlib.image.AxesImage at 0x122cb1d30>"
      ]
     },
     "execution_count": 248,
     "metadata": {},
     "output_type": "execute_result"
    },
    {
     "data": {
      "image/png": "[encoded data removed]",
      "text/plain": [
       "<Figure size 288x691.2 with 1 Axes>"
      ]
     },
     "metadata": {
      "needs_background": "light"
     },
     "output_type": "display_data"
    }
   ],
   "source": [
    "matrix, xedge, yedge = np.histogram2d(\n",
    "    gammas_sel['gamma_energy_prediction'],\n",
    "    gammas_sel['corsika_event_header_total_energy'], \n",
    "                                         bins=[\n",
    "                                             np.logspace(np.log10(200),np.log10(50e3),13),\n",
    "                                             np.logspace(np.log10(200),np.log10(50e3),6),\n",
    "                                         ],\n",
    "                                         normed='True')\n",
    "plt.matshow(matrix)"
   ]
  },
  {
   "cell_type": "code",
   "execution_count": 244,
   "metadata": {},
   "outputs": [
    {
     "data": {
      "text/plain": [
       "Text(0, 0.5, 'gamma\\\\_true\\\\_energy')"
      ]
     },
     "execution_count": 244,
     "metadata": {},
     "output_type": "execute_result"
    },
    {
     "data": {
      "image/png": "[encoded data removed]",
      "text/plain": [
       "<Figure size 432x288 with 1 Axes>"
      ]
     },
     "metadata": {
      "needs_background": "light"
     },
     "output_type": "display_data"
    }
   ],
   "source": [
    "# definiere Grenzquantile für plot\n",
    "up = np.quantile(gammas['corsika_event_header_total_energy'], 0.9)\n",
    "low = np.quantile(gammas['corsika_event_header_total_energy'], 0.1)\n",
    "\n",
    "plt.hist2d(gammas_sel['gamma_energy_prediction'],\n",
    "                                         gammas_sel['corsika_event_header_total_energy'], \n",
    "                                         bins=40, \n",
    "                                         normed='True',\n",
    "                                         range=[[low, up],[low, up]])\n",
    "plt.xscale('log')\n",
    "plt.yscale('log')\n",
    "plt.xlabel('gamma\\_energy\\_prediction') \n",
    "plt.ylabel('gamma\\_true\\_energy')"
   ]
  },
  {
   "cell_type": "code",
   "execution_count": 249,
   "metadata": {},
   "outputs": [
    {
     "data": {
      "image/png": "[encoded data removed]",
      "text/plain": [
       "<Figure size 432x288 with 1 Axes>"
      ]
     },
     "metadata": {
      "needs_background": "light"
     },
     "output_type": "display_data"
    }
   ],
   "source": [
    "# Untergrund binnen\n",
    "b, bins, p = plt.hist(bkg['gamma_energy_prediction'], bins=xedge)"
   ]
  },
  {
   "cell_type": "code",
   "execution_count": 250,
   "metadata": {},
   "outputs": [
    {
     "data": {
      "image/png": "[encoded data removed]",
      "text/plain": [
       "<Figure size 432x288 with 1 Axes>"
      ]
     },
     "metadata": {
      "needs_background": "light"
     },
     "output_type": "display_data"
    }
   ],
   "source": [
    "# Signal binnen\n",
    "g, bins, p = plt.hist(crab_events_sel['gamma_energy_prediction'], bins=xedge)"
   ]
  },
  {
   "cell_type": "code",
   "execution_count": 251,
   "metadata": {},
   "outputs": [
    {
     "name": "stdout",
     "output_type": "stream",
     "text": [
      "[[0.00000000e+00 0.00000000e+00 0.00000000e+00 0.00000000e+00\n",
      "  0.00000000e+00]\n",
      " [0.00000000e+00 0.00000000e+00 0.00000000e+00 0.00000000e+00\n",
      "  0.00000000e+00]\n",
      " [9.71103120e-08 1.19228172e-07 3.34215405e-11 0.00000000e+00\n",
      "  0.00000000e+00]\n",
      " [4.75471810e-08 4.82695225e-07 3.72131737e-09 1.39842804e-12\n",
      "  0.00000000e+00]\n",
      " [1.62424148e-09 2.24989025e-07 3.18036421e-08 3.26597994e-11\n",
      "  0.00000000e+00]\n",
      " [3.06039481e-11 1.54029622e-08 3.74681320e-08 1.79406976e-10\n",
      "  0.00000000e+00]\n",
      " [0.00000000e+00 4.38582897e-10 1.26415614e-08 6.26352825e-10\n",
      "  5.82823593e-13]\n",
      " [0.00000000e+00 1.81863397e-11 1.34687366e-09 1.08107481e-09\n",
      "  2.57517549e-12]\n",
      " [0.00000000e+00 0.00000000e+00 2.57879185e-11 3.95977592e-10\n",
      "  1.04029969e-11]\n",
      " [0.00000000e+00 0.00000000e+00 5.33688834e-13 6.53603783e-11\n",
      "  1.76473138e-11]\n",
      " [0.00000000e+00 0.00000000e+00 0.00000000e+00 7.81573491e-13\n",
      "  7.25337031e-12]\n",
      " [0.00000000e+00 0.00000000e+00 0.00000000e+00 0.00000000e+00\n",
      "  3.73745031e-13]]\n"
     ]
    }
   ],
   "source": [
    "print(matrix)"
   ]
  },
  {
   "cell_type": "code",
   "execution_count": 252,
   "metadata": {},
   "outputs": [
    {
     "name": "stdout",
     "output_type": "stream",
     "text": [
      "[[-9.69566177e-10 -2.10438452e-10  1.12588553e+07 -1.89539976e+06\n",
      "  -2.02202547e+06  1.77167739e+06  4.10369753e+05 -4.31627789e+05\n",
      "  -1.15934096e+05  9.62415898e+04  5.22497899e+04  2.71189644e+03]\n",
      " [ 3.45067531e-10  8.28231189e-11 -1.00917331e+06  2.03927861e+06\n",
      "   6.53145870e+05 -7.08431351e+05 -1.59647751e+05  1.73090410e+05\n",
      "   4.62849291e+04 -3.86342530e+04 -2.09552797e+04 -1.08760932e+03]\n",
      " [-2.97283189e-09 -1.86332071e-09  2.87479070e+06 -6.24771369e+06\n",
      "   1.06870884e+07  1.73487005e+07  3.12545395e+06 -4.63187404e+06\n",
      "  -1.19110754e+06  1.04343652e+06  5.61483396e+05  2.91365259e+04]\n",
      " [-8.47540052e-08  3.87126957e-08 -2.42485290e+07  5.28735946e+07\n",
      "  -9.67642485e+07 -6.66463925e+07  3.51436041e+08  6.92176282e+08\n",
      "   1.44839615e+08 -1.63114168e+08 -8.46364746e+07 -4.38823732e+06]\n",
      " [-7.78364022e-08  1.66569901e-06  3.60280979e+08 -7.85966754e+08\n",
      "   1.45295124e+09  7.69886888e+08 -5.03487637e+09 -6.68935655e+09\n",
      "   1.91825631e+10  3.96567928e+10  1.66058978e+10  8.56126362e+08]]\n"
     ]
    }
   ],
   "source": [
    "# Penrose-Moore Pseudoinverse ausrechnen wegen Singularität\n",
    "inv = np.linalg.pinv(matrix)\n",
    "print(inv)"
   ]
  },
  {
   "cell_type": "code",
   "execution_count": 253,
   "metadata": {},
   "outputs": [
    {
     "name": "stdout",
     "output_type": "stream",
     "text": [
      "Unfolded: [-9.09674281e+08 -2.74138942e+08 -1.35394369e+09  8.24912273e+09\n",
      " -2.22862373e+10]\n",
      " shape (5,)\n"
     ]
    },
    {
     "data": {
      "text/plain": [
       "[<matplotlib.lines.Line2D at 0x129c8ff28>]"
      ]
     },
     "execution_count": 253,
     "metadata": {},
     "output_type": "execute_result"
    },
    {
     "data": {
      "image/png": "[encoded data removed]",
      "text/plain": [
       "<Figure size 432x288 with 1 Axes>"
      ]
     },
     "metadata": {
      "needs_background": "light"
     },
     "output_type": "display_data"
    }
   ],
   "source": [
    "# Naive Entfaltung\n",
    "ev = g-b\n",
    "print('Unfolded: {}\\n shape {}'.format(inv.dot(ev), np.shape(inv.dot(ev))))\n",
    "plt.plot(yedge[:-1], inv.dot(ev), 'k.')"
   ]
  },
  {
   "cell_type": "code",
   "execution_count": null,
   "metadata": {},
   "outputs": [],
   "source": []
  }
 ],
 "metadata": {
  "kernelspec": {
   "display_name": "Python 3",
   "language": "python",
   "name": "python3"
  },
  "language_info": {
   "codemirror_mode": {
    "name": "ipython",
    "version": 3
   },
   "file_extension": ".py",
   "mimetype": "text/x-python",
   "name": "python",
   "nbconvert_exporter": "python",
   "pygments_lexer": "ipython3",
   "version": "3.7.2"
  }
 },
 "nbformat": 4,
 "nbformat_minor": 2
}
