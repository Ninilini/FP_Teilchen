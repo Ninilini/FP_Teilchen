{
 "cells": [
  {
   "cell_type": "markdown",
   "metadata": {},
   "source": [
    "# Einlesen der FACT Daten\n",
    "\n",
    "\n",
    "Die Daten sind im HDF5 Format gespeichert und können mit dem Python-Modul h5py eingelesen werden.\n",
    "\n",
    "Das Python-Modul `pyfact` bietet eine nützliche Funktion, um diese Daten direkt in ein `pandas.DataFrame` einzulesen.\n",
    "\n",
    "```\n",
    "$ pip install pyfact\n",
    "```"
   ]
  },
  {
   "cell_type": "code",
   "execution_count": 2,
   "metadata": {},
   "outputs": [],
   "source": [
    "from fact.io import read_h5py\n",
    "import h5py\n",
    "import matplotlib.pyplot as plt\n",
    "import numpy as np\n",
    "import pandas as pd\n",
    "\n",
    "%matplotlib inline"
   ]
  },
  {
   "cell_type": "markdown",
   "metadata": {},
   "source": [
    "# Einlesen mit h5py"
   ]
  },
  {
   "cell_type": "code",
   "execution_count": 4,
   "metadata": {},
   "outputs": [
    {
     "name": "stdout",
     "output_type": "stream",
     "text": [
      "Tables:\n",
      "events runs\n",
      "\n",
      "Columns in events table\n",
      "dec_prediction disp_prediction event_num gamma_energy_prediction gamma_prediction index night pointing_position_az pointing_position_zd ra_prediction run_id theta_deg theta_deg_off_1 theta_deg_off_2 theta_deg_off_3 theta_deg_off_4 theta_deg_off_5 timestamp\n",
      "\n",
      "Columns in runs table\n",
      "azimuth declination index night ontime right_ascension run_id run_start run_stop source zenith\n"
     ]
    }
   ],
   "source": [
    "f = h5py.File('../data/open_crab_sample_dl3.hdf5')\n",
    "\n",
    "print('Tables:')\n",
    "print(*f)\n",
    "\n",
    "print()\n",
    "print('Columns in events table')\n",
    "print(*f['events'])\n",
    "\n",
    "print()\n",
    "print('Columns in runs table')\n",
    "print(*f['runs'])\n",
    "f.close()"
   ]
  },
  {
   "cell_type": "code",
   "execution_count": 3,
   "metadata": {},
   "outputs": [],
   "source": [
    "#theta_deg = f['events/theta_deg'][:]\n",
    "\n",
    "#plt.hist(theta_deg**2, bins=30, range=[0, 0.1])\n",
    "#None\n"
   ]
  },
  {
   "cell_type": "markdown",
   "metadata": {},
   "source": [
    "## Daten einlesen mit pyfact"
   ]
  },
  {
   "cell_type": "code",
   "execution_count": 5,
   "metadata": {},
   "outputs": [
    {
     "data": {
      "text/html": [
       "<div>\n",
       "<style scoped>\n",
       "    .dataframe tbody tr th:only-of-type {\n",
       "        vertical-align: middle;\n",
       "    }\n",
       "\n",
       "    .dataframe tbody tr th {\n",
       "        vertical-align: top;\n",
       "    }\n",
       "\n",
       "    .dataframe thead th {\n",
       "        text-align: right;\n",
       "    }\n",
       "</style>\n",
       "<table border=\"1\" class=\"dataframe\">\n",
       "  <thead>\n",
       "    <tr style=\"text-align: right;\">\n",
       "      <th></th>\n",
       "      <th>gamma_prediction</th>\n",
       "      <th>gamma_energy_prediction</th>\n",
       "      <th>theta_deg</th>\n",
       "      <th>theta_deg_off_1</th>\n",
       "      <th>theta_deg_off_2</th>\n",
       "      <th>theta_deg_off_3</th>\n",
       "      <th>theta_deg_off_4</th>\n",
       "      <th>theta_deg_off_5</th>\n",
       "    </tr>\n",
       "  </thead>\n",
       "  <tbody>\n",
       "    <tr>\n",
       "      <th>0</th>\n",
       "      <td>0.053490</td>\n",
       "      <td>900.409597</td>\n",
       "      <td>2.998553</td>\n",
       "      <td>3.334691</td>\n",
       "      <td>3.161481</td>\n",
       "      <td>2.596387</td>\n",
       "      <td>2.147755</td>\n",
       "      <td>2.395359</td>\n",
       "    </tr>\n",
       "    <tr>\n",
       "      <th>1</th>\n",
       "      <td>0.763826</td>\n",
       "      <td>3066.336771</td>\n",
       "      <td>1.249202</td>\n",
       "      <td>0.646134</td>\n",
       "      <td>0.606390</td>\n",
       "      <td>1.208694</td>\n",
       "      <td>1.613697</td>\n",
       "      <td>1.629050</td>\n",
       "    </tr>\n",
       "    <tr>\n",
       "      <th>2</th>\n",
       "      <td>0.016127</td>\n",
       "      <td>885.460576</td>\n",
       "      <td>1.875420</td>\n",
       "      <td>2.267059</td>\n",
       "      <td>2.206321</td>\n",
       "      <td>1.724483</td>\n",
       "      <td>1.162611</td>\n",
       "      <td>1.274096</td>\n",
       "    </tr>\n",
       "    <tr>\n",
       "      <th>3</th>\n",
       "      <td>0.640739</td>\n",
       "      <td>574.241283</td>\n",
       "      <td>1.031180</td>\n",
       "      <td>0.432483</td>\n",
       "      <td>0.457356</td>\n",
       "      <td>1.052426</td>\n",
       "      <td>1.408521</td>\n",
       "      <td>1.400642</td>\n",
       "    </tr>\n",
       "    <tr>\n",
       "      <th>4</th>\n",
       "      <td>0.061178</td>\n",
       "      <td>1349.901793</td>\n",
       "      <td>2.703792</td>\n",
       "      <td>2.592317</td>\n",
       "      <td>3.109998</td>\n",
       "      <td>3.635254</td>\n",
       "      <td>3.715596</td>\n",
       "      <td>3.294397</td>\n",
       "    </tr>\n",
       "  </tbody>\n",
       "</table>\n",
       "</div>"
      ],
      "text/plain": [
       "   gamma_prediction  gamma_energy_prediction  theta_deg  theta_deg_off_1  \\\n",
       "0          0.053490               900.409597   2.998553         3.334691   \n",
       "1          0.763826              3066.336771   1.249202         0.646134   \n",
       "2          0.016127               885.460576   1.875420         2.267059   \n",
       "3          0.640739               574.241283   1.031180         0.432483   \n",
       "4          0.061178              1349.901793   2.703792         2.592317   \n",
       "\n",
       "   theta_deg_off_2  theta_deg_off_3  theta_deg_off_4  theta_deg_off_5  \n",
       "0         3.161481         2.596387         2.147755         2.395359  \n",
       "1         0.606390         1.208694         1.613697         1.629050  \n",
       "2         2.206321         1.724483         1.162611         1.274096  \n",
       "3         0.457356         1.052426         1.408521         1.400642  \n",
       "4         3.109998         3.635254         3.715596         3.294397  "
      ]
     },
     "execution_count": 5,
     "metadata": {},
     "output_type": "execute_result"
    }
   ],
   "source": [
    "gammas = read_h5py('../data/gamma_test_dl3.hdf5', key='events', columns=[\n",
    "    'gamma_energy_prediction',\n",
    "    'gamma_prediction',\n",
    "    'theta_deg',\n",
    "    'corsika_event_header_event_number',\n",
    "    'corsika_event_header_total_energy',\n",
    "])\n",
    "#Testdatensatz aus simulierten Daten\n",
    "\n",
    "\n",
    "gammas_corsika = read_h5py(\n",
    "    '../data/gamma_corsika_events_1.1.2.hdf5',\n",
    "    key='corsika_events',\n",
    "    columns=['total_energy'],\n",
    ")\n",
    "# Infos über simulierten Daten\n",
    "\n",
    "\n",
    "crab_events = read_h5py('../data/open_crab_sample_dl3.hdf5', key='events', columns=[\n",
    "    'gamma_prediction',\n",
    "    'gamma_energy_prediction',\n",
    "    'theta_deg',\n",
    "    'theta_deg_off_1',\n",
    "    'theta_deg_off_2',\n",
    "    'theta_deg_off_3',\n",
    "    'theta_deg_off_4',\n",
    "    'theta_deg_off_5',\n",
    "])\n",
    "#Messdaten\n",
    "\n",
    "crab_runs = read_h5py('../data/open_crab_sample_dl3.hdf5', key='runs')"
   ]
  },
  {
   "cell_type": "markdown",
   "metadata": {},
   "source": [
    "# Limits für theata^2 - Plot"
   ]
  },
  {
   "cell_type": "code",
   "execution_count": 5,
   "metadata": {},
   "outputs": [],
   "source": [
    "limit_theta = np.sqrt(0.025)\n",
    "crab_events_pred = crab_events[crab_events.gamma_prediction>0.8]\n",
    "crab_events_sel = crab_events_pred[crab_events_pred.theta_deg<limit_theta]\n",
    "\n",
    "gammas_pred = gammas[gammas.gamma_prediction>0.8]\n",
    "gammas_sel = gammas_pred[gammas_pred.theta_deg < limit_theta]"
   ]
  },
  {
   "cell_type": "code",
   "execution_count": 6,
   "metadata": {},
   "outputs": [],
   "source": [
    "# Mit diesem limit werden alle events für den theta^2 plot ausgewählt (theta^2 < 0.3)\n",
    "# Für Berechnungen weiterhin crab_events_sel bzw bkg verwenden\n",
    "limit_theta_plot = np.sqrt(0.3)\n",
    "crab_events_pred_1 = crab_events_pred[crab_events_pred.theta_deg_off_1 < limit_theta_plot]\n",
    "crab_events_pred_2 = crab_events_pred[crab_events_pred.theta_deg_off_2 < limit_theta_plot]\n",
    "crab_events_pred_3 = crab_events_pred[crab_events_pred.theta_deg_off_3 < limit_theta_plot]\n",
    "crab_events_pred_4 = crab_events_pred[crab_events_pred.theta_deg_off_4 < limit_theta_plot]\n",
    "crab_events_pred_5 = crab_events_pred[crab_events_pred.theta_deg_off_5 < limit_theta_plot]\n",
    "\n",
    "crab_events_sel_plot= crab_events_pred[crab_events_pred.theta_deg < limit_theta_plot]"
   ]
  },
  {
   "cell_type": "code",
   "execution_count": 7,
   "metadata": {},
   "outputs": [],
   "source": [
    "crab_events_sel_1 = crab_events_pred[crab_events_pred.theta_deg_off_1 < limit_theta]\n",
    "crab_events_sel_2 = crab_events_pred[crab_events_pred.theta_deg_off_2 < limit_theta]\n",
    "crab_events_sel_3 = crab_events_pred[crab_events_pred.theta_deg_off_3 < limit_theta]\n",
    "crab_events_sel_4 = crab_events_pred[crab_events_pred.theta_deg_off_4 < limit_theta]\n",
    "crab_events_sel_5 = crab_events_pred[crab_events_pred.theta_deg_off_5 < limit_theta]\n",
    "bkg = pd.concat([crab_events_sel_1, crab_events_sel_2, crab_events_sel_3, crab_events_sel_4, crab_events_sel_5])"
   ]
  },
  {
   "cell_type": "markdown",
   "metadata": {},
   "source": [
    "# Histogramm der Abstandswinkel"
   ]
  },
  {
   "cell_type": "code",
   "execution_count": 8,
   "metadata": {},
   "outputs": [],
   "source": [
    "theta_deg_off = []\n",
    "for i in [1, 2, 3, 4, 5]:\n",
    "    exec('x = crab_events_pred_{}.theta_deg_off_{}.values'.format(i, i))\n",
    "    for el in x:\n",
    "        theta_deg_off.append(el)"
   ]
  },
  {
   "cell_type": "code",
   "execution_count": 9,
   "metadata": {},
   "outputs": [
    {
     "name": "stdout",
     "output_type": "stream",
     "text": [
      "250\n"
     ]
    },
    {
     "data": {
      "image/png": "[encoded data removed]",
      "text/plain": [
       "<Figure size 432x288 with 1 Axes>"
      ]
     },
     "metadata": {
      "needs_background": "light"
     },
     "output_type": "display_data"
    }
   ],
   "source": [
    "crab_events_sel_on = np.array(crab_events_sel_plot.theta_deg.values)\n",
    "plt.hist((crab_events_sel_on)**2, bins =40, histtype='step', color='blue', label='On-events')\n",
    "\n",
    "plt.hist(np.array(theta_deg_off)**2, bins=40, histtype='step', color='g', label='Off-events', weights=np.array([0.2 for el in theta_deg_off]))\n",
    "plt.vlines(0.025, color='c', linestyle='-.', ymin=0, ymax=400, label=r'$\\theta^{2}-cut$')\n",
    "plt.xlabel(r'$\\theta^2$ / $\\deg^2$')\n",
    "plt.legend()\n",
    "plt.text(0.06, 350,\n",
    "         r'''Source: Crab, $t_\\mathrm{{obs}}$ = 17.7h\n",
    "        $N_\\mathrm{{on}}$ = {non}, $N_\\mathrm{{off}}$ = {noff}, $\\alpha$ = 0.2'''.format(non=len(crab_events_sel), noff=len(bkg)))\n",
    "plt.savefig('On_Off.pdf')\n",
    "print(len(crab_events_sel_1.theta_deg_off_1.values))"
   ]
  },
  {
   "cell_type": "markdown",
   "metadata": {},
   "source": [
    "# 2D-Scatterplot der Energien"
   ]
  },
  {
   "cell_type": "code",
   "execution_count": 10,
   "metadata": {
    "scrolled": false
   },
   "outputs": [
    {
     "data": {
      "image/png": "[encoded data removed]",
      "text/plain": [
       "<Figure size 288x576 with 2 Axes>"
      ]
     },
     "metadata": {
      "needs_background": "light"
     },
     "output_type": "display_data"
    }
   ],
   "source": [
    "matrix, xedge, yedge = np.histogram2d(\n",
    "    gammas_sel['gamma_energy_prediction'],\n",
    "    gammas_sel['corsika_event_header_total_energy'], \n",
    "                                         bins=[\n",
    "                                             np.logspace(np.log10(500),np.log10(35e3),11),\n",
    "                                             np.logspace(np.log10(500),np.log10(35e3),6),\n",
    "                                         ])\n",
    "matrix = matrix/np.sum(matrix,axis=0) #hier erfolgt die Normierung\n",
    "plt.matshow(matrix)\n",
    "plt.xlabel('gamma\\_energy\\_prediction')\n",
    "plt.ylabel('corsika\\_event\\_header\\_total\\_energy')\n",
    "plt.title('Energie-Migrationsmatrix $A$')\n",
    "plt.colorbar()\n",
    "plt.savefig('Matrix.pdf')"
   ]
  },
  {
   "cell_type": "code",
   "execution_count": 21,
   "metadata": {},
   "outputs": [
    {
     "data": {
      "image/png": "[encoded data removed]",
      "text/plain": [
       "<Figure size 432x288 with 2 Axes>"
      ]
     },
     "metadata": {
      "needs_background": "light"
     },
     "output_type": "display_data"
    }
   ],
   "source": [
    "# Untergrund binnen\n",
    "plt.subplot(1,2,1)\n",
    "a = np.full_like(bkg['gamma_energy_prediction'], 0.2)\n",
    "b, bins_b, p = plt.hist(bkg['gamma_energy_prediction'], bins=xedge, weights=a, color='g', label='Off-Events')\n",
    "plt.xscale('log')\n",
    "plt.yscale('log')\n",
    "plt.xlabel('Energie [GeV]')\n",
    "plt.ylabel('Anzahl an Ereignissen')\n",
    "plt.legend()\n",
    "plt.title('Energieverteilung')\n",
    "plt.subplot(1,2,2)\n",
    "g, bins_g, p = plt.hist(crab_events_sel['gamma_energy_prediction'], bins=xedge, color='blue', label='On-Events')\n",
    "plt.xscale('log')\n",
    "plt.yscale('log')\n",
    "plt.xlabel('Energie [GeV]')\n",
    "plt.legend()\n",
    "plt.title('Energieverteilung')\n",
    "plt.savefig('Energieverteilung_UG_SIG.pdf')"
   ]
  },
  {
   "cell_type": "code",
   "execution_count": 12,
   "metadata": {},
   "outputs": [
    {
     "name": "stdout",
     "output_type": "stream",
     "text": [
      "[[ 0.33643297  1.50110774 -0.15533712 -0.36192728  0.14070553  0.0768276\n",
      "  -0.05509724 -0.0155591   0.02137087  0.00555307]\n",
      " [-0.18152643 -0.43832761  1.54091908  1.02353716 -0.4754592  -0.24584186\n",
      "   0.17909449  0.05039439 -0.06939215 -0.01802729]\n",
      " [ 0.06161268  0.12998681 -0.50560533  0.38330731  1.72793777  0.62372859\n",
      "  -0.58607351 -0.15582958  0.22598696  0.05847763]\n",
      " [-0.02198782 -0.0460539   0.18006029 -0.16551888 -0.4715683   0.74473224\n",
      "   1.7909648   0.33847285 -0.70243549 -0.17781335]\n",
      " [ 0.00720985  0.01509793 -0.05905771  0.05532326  0.14818446 -0.26576238\n",
      "  -0.35419594  0.89254786  1.61903826  0.36845907]]\n"
     ]
    }
   ],
   "source": [
    "# Penrose-Moore Pseudoinverse ausrechnen (nicht quadratisch)\n",
    "inv = np.linalg.pinv(matrix)\n",
    "print(inv)"
   ]
  },
  {
   "cell_type": "code",
   "execution_count": 13,
   "metadata": {},
   "outputs": [
    {
     "name": "stdout",
     "output_type": "stream",
     "text": [
      "Unfolded: [282.90780839 227.4783874   89.66708523  33.4244511   -0.42520451]\n",
      " shape (5,)\n"
     ]
    },
    {
     "data": {
      "image/png": "[encoded data removed]",
      "text/plain": [
       "<Figure size 432x288 with 1 Axes>"
      ]
     },
     "metadata": {
      "needs_background": "light"
     },
     "output_type": "display_data"
    }
   ],
   "source": [
    "# Naive Entfaltung\n",
    "ev = g-b\n",
    "print('Unfolded: {}\\n shape {}'.format(inv.dot(ev), np.shape(inv.dot(ev))))\n",
    "plt.plot(yedge[:-1], inv.dot(ev), 'k.')\n",
    "plt.xscale('log')\n",
    "plt.yscale('log')\n",
    "plt.xlabel('Energie [GeV]')\n",
    "plt.ylabel('Anzahl an Ereignissen')\n",
    "plt.title('entfaltete Energieverteilung des Krebsnebels')\n",
    "plt.savefig('Entfaltung_1.pdf')\n",
    "fNSVD = inv@ev"
   ]
  },
  {
   "cell_type": "code",
   "execution_count": 16,
   "metadata": {},
   "outputs": [
    {
     "name": "stdout",
     "output_type": "stream",
     "text": [
      "[ 5458.         34365.2        38409.         28183.8\n",
      " 15652.4039267   8907.23141361  4240.42513089  2059.46753927\n",
      "   826.07696335   149.19502618]\n",
      "(5,)\n",
      "\n",
      "    i = 0 g[i] = 74.0 lam[i] = 5458.0 -ln(L) = 5064.51085910913\n",
      "    \n",
      "\n",
      "    i = 1 g[i] = 317.0 lam[i] = 34365.200000000004 -ln(L) = 37625.32096597344\n",
      "    \n",
      "\n",
      "    i = 2 g[i] = 232.0 lam[i] = 38408.99999999999 -ln(L) = 74615.15704126401\n",
      "    \n",
      "\n",
      "    i = 3 g[i] = 141.0 lam[i] = 28183.8 -ln(L) = 101909.42046545917\n",
      "    \n",
      "\n",
      "    i = 4 g[i] = 73.0 lam[i] = 15652.40392670157 -ln(L) = 117095.74105707354\n",
      "    \n",
      "\n",
      "    i = 5 g[i] = 40.0 lam[i] = 8907.231413612564 -ln(L) = 125745.81948117915\n",
      "    \n",
      "\n",
      "    i = 6 g[i] = 24.0 lam[i] = 4240.425130890052 -ln(L) = 129837.39323619887\n",
      "    \n",
      "\n",
      "    i = 7 g[i] = 4.0 lam[i] = 2059.467539267016 -ln(L) = 131868.131723926\n",
      "    \n",
      "\n",
      "    i = 8 g[i] = 3.0 lam[i] = 826.0769633507853 -ln(L) = 132674.7517706219\n",
      "    \n",
      "\n",
      "    i = 9 g[i] = 0.0 lam[i] = 149.19502617801047 -ln(L) = 132823.9467967999\n",
      "    \n",
      "0\n"
     ]
    }
   ],
   "source": [
    "#negative Log-Likelihood-Entfaltung\n",
    "f, bins = np.histogram(gammas_sel['corsika_event_header_total_energy'], bins=yedge)\n",
    "lam = matrix@f+b \n",
    "print(lam)\n",
    "#hier wurden die physikalischen Werte für f eingesetzt aus der Simulation\n",
    "#es muss eigentlich ein allgemeiner Vektor f (dim 5) eingesetzt werden\n",
    "\n",
    "negLog = 0\n",
    "print(np.shape(f))\n",
    "for i in range(len(g)):\n",
    "    negLog += - g[i]*np.log(lam[i]) + lam[i]\n",
    "    for val in range(1, int(g[i]), 1):\n",
    "        negLog += np.log(val)\n",
    "    \n",
    "    print('''\n",
    "    i = {} g[i] = {} lam[i] = {} -ln(L) = {}\n",
    "    '''.format(i, g[i], lam[i], negLog)\n",
    "         )\n",
    "fent = np.argmin(negLog)\n",
    "print(fent)"
   ]
  },
  {
   "cell_type": "code",
   "execution_count": 47,
   "metadata": {},
   "outputs": [],
   "source": [
    "def fluss(f, A, dE, t):\n",
    "    return f/(A*dE*t)\n",
    "\n",
    "t_obs = 17.7 *60 * 60 # 17.7h Observationszeit laut Anleitung "
   ]
  },
  {
   "cell_type": "code",
   "execution_count": 20,
   "metadata": {},
   "outputs": [
    {
     "data": {
      "text/plain": [
       "array([  264.68013532,   404.79128339,   619.07170672,   946.78367294,\n",
       "        1447.97333429,  2214.47289042,  3386.72685903,  5179.52550573,\n",
       "        7921.36052925, 12114.6140829 ])"
      ]
     },
     "execution_count": 20,
     "metadata": {},
     "output_type": "execute_result"
    }
   ],
   "source": [
    "#Breite des Energie-bins \n",
    "#-> aus 2D-Diagramm (ich finde es komisch, dass es yedge ist, aber die Binanzahl passt zu der x-Achse...)\n",
    "Delta_E = np.diff(yedge)\n",
    "Delta_E"
   ]
  },
  {
   "cell_type": "code",
   "execution_count": 43,
   "metadata": {},
   "outputs": [],
   "source": [
    "# Detektorfläche für A_eff\n",
    "A = np.pi * 270**2 "
   ]
  },
  {
   "cell_type": "code",
   "execution_count": 40,
   "metadata": {},
   "outputs": [
    {
     "data": {
      "text/plain": [
       "[40463, 66517, 24533, 6300, 1082]"
      ]
     },
     "execution_count": 40,
     "metadata": {},
     "output_type": "execute_result"
    }
   ],
   "source": [
    "#N_sel (Die selektierten Simulationsdaten?)\n",
    "#(Zählen, wie viele Ereignisse im jeweiligen Energiebereich vorhanden)\n",
    "N_sel = [0]*len(f_naiv)\n",
    "for i in gammas_sel['gamma_energy_prediction']:\n",
    "    if (i > yedge[0] and i < yedge[1]):\n",
    "        N_sel[0] += 1\n",
    "    elif (i > yedge[1] and i < yedge[2]):\n",
    "        N_sel[1] += 1\n",
    "    elif (i > yedge[2] and i < yedge[3]):\n",
    "        N_sel[2] += 1\n",
    "    elif (i > yedge[3] and i < yedge[4]):\n",
    "        N_sel[3] += 1\n",
    "    elif (i > yedge[4] and i < yedge[5]):\n",
    "        N_sel[4] += 1\n",
    "N_sel"
   ]
  },
  {
   "cell_type": "code",
   "execution_count": 41,
   "metadata": {},
   "outputs": [
    {
     "data": {
      "text/plain": [
       "[489551, 191167, 62584, 17908, 4524]"
      ]
     },
     "execution_count": 41,
     "metadata": {},
     "output_type": "execute_result"
    }
   ],
   "source": [
    "#N_simuliert (Zählen, wie viele Ereignisse im jeweiligen Energiebereich vorhanden)\n",
    "N_sim = [0]*len(f_naiv)\n",
    "for i in gammas['gamma_energy_prediction']:\n",
    "    if (i > yedge[0] and i < yedge[1]):\n",
    "        N_sim[0] += 1\n",
    "    elif (i > yedge[1] and i < yedge[2]):\n",
    "        N_sim[1] += 1\n",
    "    elif (i > yedge[2] and i < yedge[3]):\n",
    "        N_sim[2] += 1\n",
    "    elif (i > yedge[3] and i < yedge[4]):\n",
    "        N_sim[3] += 1\n",
    "    elif (i > yedge[4] and i < yedge[5]):\n",
    "        N_sim[4] += 1\n",
    "N_sim"
   ]
  },
  {
   "cell_type": "code",
   "execution_count": 50,
   "metadata": {},
   "outputs": [],
   "source": [
    "#Berechnung A_eff\n",
    "A_eff = []\n",
    "i = 0\n",
    "while i < len(N_sel):\n",
    "    A_eff.append(A*N_sel[i]/N_sim[i])\n",
    "    i = i+1"
   ]
  },
  {
   "cell_type": "code",
   "execution_count": 51,
   "metadata": {},
   "outputs": [],
   "source": [
    "f_naiv = inv.dot(ev)\n",
    "#f_likeli = ..."
   ]
  },
  {
   "cell_type": "code",
   "execution_count": 52,
   "metadata": {},
   "outputs": [],
   "source": [
    "#Berechnung des Flusswertes\n",
    "i = 0\n",
    "phi_naiv = []\n",
    "while i < len(f_naiv):\n",
    "    phi_naiv.append(fluss(f_naiv[i], A_eff[i], Delta_E[i], t_obs))\n",
    "    i=i+1"
   ]
  },
  {
   "cell_type": "code",
   "execution_count": 57,
   "metadata": {},
   "outputs": [
    {
     "data": {
      "text/plain": [
       "Text(0, 0.5, '$\\\\phi$')"
      ]
     },
     "execution_count": 57,
     "metadata": {},
     "output_type": "execute_result"
    },
    {
     "data": {
      "image/png": "[encoded data removed]",
      "text/plain": [
       "<Figure size 432x288 with 1 Axes>"
      ]
     },
     "metadata": {
      "needs_background": "light"
     },
     "output_type": "display_data"
    }
   ],
   "source": [
    "plt.plot(yedge[:-1], phi_naiv, linestyle = '', marker ='x', color = 'forestgreen')\n",
    "plt.xlabel(r'Energie')\n",
    "plt.ylabel(r'$\\phi$')"
   ]
  }
 ],
 "metadata": {
  "kernelspec": {
   "display_name": "Python 3",
   "language": "python",
   "name": "python3"
  },
  "language_info": {
   "codemirror_mode": {
    "name": "ipython",
    "version": 3
   },
   "file_extension": ".py",
   "mimetype": "text/x-python",
   "name": "python",
   "nbconvert_exporter": "python",
   "pygments_lexer": "ipython3",
   "version": "3.7.2"
  }
 },
 "nbformat": 4,
 "nbformat_minor": 2
}
