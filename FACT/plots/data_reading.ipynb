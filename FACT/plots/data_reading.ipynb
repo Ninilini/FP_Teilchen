{
 "cells": [
  {
   "cell_type": "markdown",
   "metadata": {},
   "source": [
    "# Einlesen der FACT Daten\n",
    "\n",
    "\n",
    "Die Daten sind im HDF5 Format gespeichert und können mit dem Python-Modul h5py eingelesen werden.\n",
    "\n",
    "Das Python-Modul `pyfact` bietet eine nützliche Funktion, um diese Daten direkt in ein `pandas.DataFrame` einzulesen.\n",
    "\n",
    "```\n",
    "$ pip install pyfact\n",
    "```"
   ]
  },
  {
   "cell_type": "code",
   "execution_count": 117,
   "metadata": {},
   "outputs": [],
   "source": [
    "from fact.io import read_h5py\n",
    "import h5py\n",
    "import matplotlib.pyplot as plt\n",
    "import numpy as np\n",
    "\n",
    "%matplotlib inline"
   ]
  },
  {
   "cell_type": "markdown",
   "metadata": {},
   "source": [
    "# Einlesen mit h5py"
   ]
  },
  {
   "cell_type": "code",
   "execution_count": 118,
   "metadata": {},
   "outputs": [
    {
     "name": "stdout",
     "output_type": "stream",
     "text": [
      "Tables:\n",
      "events runs\n",
      "\n",
      "Columns in events table\n",
      "dec_prediction disp_prediction event_num gamma_energy_prediction gamma_prediction index night pointing_position_az pointing_position_zd ra_prediction run_id theta_deg theta_deg_off_1 theta_deg_off_2 theta_deg_off_3 theta_deg_off_4 theta_deg_off_5 timestamp\n",
      "\n",
      "Columns in runs table\n",
      "azimuth declination index night ontime right_ascension run_id run_start run_stop source zenith\n"
     ]
    }
   ],
   "source": [
    "f = h5py.File('open_crab_sample_dl3.hdf5')\n",
    "\n",
    "print('Tables:')\n",
    "print(*f)\n",
    "\n",
    "print()\n",
    "print('Columns in events table')\n",
    "print(*f['events'])\n",
    "\n",
    "print()\n",
    "print('Columns in runs table')\n",
    "print(*f['runs'])\n",
    "f.close()"
   ]
  },
  {
   "cell_type": "code",
   "execution_count": 164,
   "metadata": {},
   "outputs": [],
   "source": [
    "#theta_deg = f['events/theta_deg'][:]\n",
    "\n",
    "#plt.hist(theta_deg**2, bins=30, range=[0, 0.1])\n",
    "#None"
   ]
  },
  {
   "cell_type": "markdown",
   "metadata": {},
   "source": [
    "## Daten einlesen mit pyfact"
   ]
  },
  {
   "cell_type": "code",
   "execution_count": 119,
   "metadata": {},
   "outputs": [],
   "source": [
    "gammas = read_h5py('gamma_test_dl3.hdf5', key='events', columns=[\n",
    "    'gamma_energy_prediction',\n",
    "    'gamma_prediction',\n",
    "    'theta_deg',\n",
    "    'corsika_event_header_event_number',\n",
    "    'corsika_event_header_total_energy',\n",
    "])\n",
    "#Testdatensatz aus simulierten Daten\n",
    "\n",
    "\n",
    "gammas_corsika = read_h5py(\n",
    "    'gamma_corsika_events_1.1.2.hdf5',\n",
    "    key='corsika_events',\n",
    "    columns=['total_energy'],\n",
    ")\n",
    "# Infos über simulierten Daten\n",
    "\n",
    "\n",
    "crab_events = read_h5py('open_crab_sample_dl3.hdf5', key='events', columns=[\n",
    "    'gamma_prediction',\n",
    "    'gamma_energy_prediction',\n",
    "    'theta_deg',\n",
    "    'theta_deg_off_1',\n",
    "    'theta_deg_off_2',\n",
    "    'theta_deg_off_3',\n",
    "    'theta_deg_off_4',\n",
    "    'theta_deg_off_5',\n",
    "])\n",
    "#Messdaten\n",
    "\n",
    "crab_runs = read_h5py('open_crab_sample_dl3.hdf5', key='runs')"
   ]
  },
  {
   "cell_type": "code",
   "execution_count": 120,
   "metadata": {},
   "outputs": [
    {
     "data": {
      "text/html": [
       "<div>\n",
       "<style scoped>\n",
       "    .dataframe tbody tr th:only-of-type {\n",
       "        vertical-align: middle;\n",
       "    }\n",
       "\n",
       "    .dataframe tbody tr th {\n",
       "        vertical-align: top;\n",
       "    }\n",
       "\n",
       "    .dataframe thead th {\n",
       "        text-align: right;\n",
       "    }\n",
       "</style>\n",
       "<table border=\"1\" class=\"dataframe\">\n",
       "  <thead>\n",
       "    <tr style=\"text-align: right;\">\n",
       "      <th></th>\n",
       "      <th>gamma_energy_prediction</th>\n",
       "      <th>gamma_prediction</th>\n",
       "      <th>theta_deg</th>\n",
       "      <th>corsika_event_header_event_number</th>\n",
       "      <th>corsika_event_header_total_energy</th>\n",
       "    </tr>\n",
       "  </thead>\n",
       "  <tbody>\n",
       "    <tr>\n",
       "      <th>0</th>\n",
       "      <td>638.000843</td>\n",
       "      <td>0.447124</td>\n",
       "      <td>1.488068</td>\n",
       "      <td>2573</td>\n",
       "      <td>712.86725</td>\n",
       "    </tr>\n",
       "    <tr>\n",
       "      <th>1</th>\n",
       "      <td>815.277399</td>\n",
       "      <td>0.821376</td>\n",
       "      <td>0.017161</td>\n",
       "      <td>1467</td>\n",
       "      <td>885.03720</td>\n",
       "    </tr>\n",
       "    <tr>\n",
       "      <th>2</th>\n",
       "      <td>838.617856</td>\n",
       "      <td>0.753859</td>\n",
       "      <td>0.256387</td>\n",
       "      <td>1149</td>\n",
       "      <td>928.05080</td>\n",
       "    </tr>\n",
       "    <tr>\n",
       "      <th>3</th>\n",
       "      <td>680.715070</td>\n",
       "      <td>0.780553</td>\n",
       "      <td>0.127763</td>\n",
       "      <td>1117</td>\n",
       "      <td>420.21652</td>\n",
       "    </tr>\n",
       "    <tr>\n",
       "      <th>4</th>\n",
       "      <td>1896.676302</td>\n",
       "      <td>0.884016</td>\n",
       "      <td>0.079996</td>\n",
       "      <td>818</td>\n",
       "      <td>2458.86300</td>\n",
       "    </tr>\n",
       "  </tbody>\n",
       "</table>\n",
       "</div>"
      ],
      "text/plain": [
       "   gamma_energy_prediction  gamma_prediction  theta_deg  \\\n",
       "0               638.000843          0.447124   1.488068   \n",
       "1               815.277399          0.821376   0.017161   \n",
       "2               838.617856          0.753859   0.256387   \n",
       "3               680.715070          0.780553   0.127763   \n",
       "4              1896.676302          0.884016   0.079996   \n",
       "\n",
       "   corsika_event_header_event_number  corsika_event_header_total_energy  \n",
       "0                               2573                          712.86725  \n",
       "1                               1467                          885.03720  \n",
       "2                               1149                          928.05080  \n",
       "3                               1117                          420.21652  \n",
       "4                                818                         2458.86300  "
      ]
     },
     "execution_count": 120,
     "metadata": {},
     "output_type": "execute_result"
    }
   ],
   "source": [
    "gammas.head()"
   ]
  },
  {
   "cell_type": "code",
   "execution_count": 167,
   "metadata": {},
   "outputs": [],
   "source": [
    "#plt.hist(crab_events.gamma_prediction, bins=100)\n",
    "#None"
   ]
  },
  {
   "cell_type": "code",
   "execution_count": 165,
   "metadata": {},
   "outputs": [],
   "source": [
    "#crab_events[crab_events.gamma_prediction>0.8].head()"
   ]
  },
  {
   "cell_type": "code",
   "execution_count": 123,
   "metadata": {},
   "outputs": [
    {
     "data": {
      "text/html": [
       "<div>\n",
       "<style scoped>\n",
       "    .dataframe tbody tr th:only-of-type {\n",
       "        vertical-align: middle;\n",
       "    }\n",
       "\n",
       "    .dataframe tbody tr th {\n",
       "        vertical-align: top;\n",
       "    }\n",
       "\n",
       "    .dataframe thead th {\n",
       "        text-align: right;\n",
       "    }\n",
       "</style>\n",
       "<table border=\"1\" class=\"dataframe\">\n",
       "  <thead>\n",
       "    <tr style=\"text-align: right;\">\n",
       "      <th></th>\n",
       "      <th>total_energy</th>\n",
       "    </tr>\n",
       "  </thead>\n",
       "  <tbody>\n",
       "    <tr>\n",
       "      <th>0</th>\n",
       "      <td>555.437866</td>\n",
       "    </tr>\n",
       "    <tr>\n",
       "      <th>1</th>\n",
       "      <td>219.566406</td>\n",
       "    </tr>\n",
       "    <tr>\n",
       "      <th>2</th>\n",
       "      <td>251.086472</td>\n",
       "    </tr>\n",
       "    <tr>\n",
       "      <th>3</th>\n",
       "      <td>241.302872</td>\n",
       "    </tr>\n",
       "    <tr>\n",
       "      <th>4</th>\n",
       "      <td>438.971619</td>\n",
       "    </tr>\n",
       "  </tbody>\n",
       "</table>\n",
       "</div>"
      ],
      "text/plain": [
       "   total_energy\n",
       "0    555.437866\n",
       "1    219.566406\n",
       "2    251.086472\n",
       "3    241.302872\n",
       "4    438.971619"
      ]
     },
     "execution_count": 123,
     "metadata": {},
     "output_type": "execute_result"
    }
   ],
   "source": [
    "gammas_corsika.head()"
   ]
  },
  {
   "cell_type": "code",
   "execution_count": 124,
   "metadata": {},
   "outputs": [
    {
     "data": {
      "text/plain": [
       "18000000"
      ]
     },
     "execution_count": 124,
     "metadata": {},
     "output_type": "execute_result"
    }
   ],
   "source": [
    "#gammas_corsika.size"
   ]
  },
  {
   "cell_type": "code",
   "execution_count": 166,
   "metadata": {},
   "outputs": [
    {
     "data": {
      "text/html": [
       "<div>\n",
       "<style scoped>\n",
       "    .dataframe tbody tr th:only-of-type {\n",
       "        vertical-align: middle;\n",
       "    }\n",
       "\n",
       "    .dataframe tbody tr th {\n",
       "        vertical-align: top;\n",
       "    }\n",
       "\n",
       "    .dataframe thead th {\n",
       "        text-align: right;\n",
       "    }\n",
       "</style>\n",
       "<table border=\"1\" class=\"dataframe\">\n",
       "  <thead>\n",
       "    <tr style=\"text-align: right;\">\n",
       "      <th></th>\n",
       "      <th>gamma_prediction</th>\n",
       "      <th>gamma_energy_prediction</th>\n",
       "      <th>theta_deg</th>\n",
       "      <th>theta_deg_off_1</th>\n",
       "      <th>theta_deg_off_2</th>\n",
       "      <th>theta_deg_off_3</th>\n",
       "      <th>theta_deg_off_4</th>\n",
       "      <th>theta_deg_off_5</th>\n",
       "    </tr>\n",
       "  </thead>\n",
       "  <tbody>\n",
       "    <tr>\n",
       "      <th>0</th>\n",
       "      <td>0.053490</td>\n",
       "      <td>900.409597</td>\n",
       "      <td>2.998553</td>\n",
       "      <td>3.334691</td>\n",
       "      <td>3.161481</td>\n",
       "      <td>2.596387</td>\n",
       "      <td>2.147755</td>\n",
       "      <td>2.395359</td>\n",
       "    </tr>\n",
       "    <tr>\n",
       "      <th>1</th>\n",
       "      <td>0.763826</td>\n",
       "      <td>3066.336771</td>\n",
       "      <td>1.249202</td>\n",
       "      <td>0.646134</td>\n",
       "      <td>0.606390</td>\n",
       "      <td>1.208694</td>\n",
       "      <td>1.613697</td>\n",
       "      <td>1.629050</td>\n",
       "    </tr>\n",
       "    <tr>\n",
       "      <th>2</th>\n",
       "      <td>0.016127</td>\n",
       "      <td>885.460576</td>\n",
       "      <td>1.875420</td>\n",
       "      <td>2.267059</td>\n",
       "      <td>2.206321</td>\n",
       "      <td>1.724483</td>\n",
       "      <td>1.162611</td>\n",
       "      <td>1.274096</td>\n",
       "    </tr>\n",
       "    <tr>\n",
       "      <th>3</th>\n",
       "      <td>0.640739</td>\n",
       "      <td>574.241283</td>\n",
       "      <td>1.031180</td>\n",
       "      <td>0.432483</td>\n",
       "      <td>0.457356</td>\n",
       "      <td>1.052426</td>\n",
       "      <td>1.408521</td>\n",
       "      <td>1.400642</td>\n",
       "    </tr>\n",
       "    <tr>\n",
       "      <th>4</th>\n",
       "      <td>0.061178</td>\n",
       "      <td>1349.901793</td>\n",
       "      <td>2.703792</td>\n",
       "      <td>2.592317</td>\n",
       "      <td>3.109998</td>\n",
       "      <td>3.635254</td>\n",
       "      <td>3.715596</td>\n",
       "      <td>3.294397</td>\n",
       "    </tr>\n",
       "  </tbody>\n",
       "</table>\n",
       "</div>"
      ],
      "text/plain": [
       "   gamma_prediction  gamma_energy_prediction  theta_deg  theta_deg_off_1  \\\n",
       "0          0.053490               900.409597   2.998553         3.334691   \n",
       "1          0.763826              3066.336771   1.249202         0.646134   \n",
       "2          0.016127               885.460576   1.875420         2.267059   \n",
       "3          0.640739               574.241283   1.031180         0.432483   \n",
       "4          0.061178              1349.901793   2.703792         2.592317   \n",
       "\n",
       "   theta_deg_off_2  theta_deg_off_3  theta_deg_off_4  theta_deg_off_5  \n",
       "0         3.161481         2.596387         2.147755         2.395359  \n",
       "1         0.606390         1.208694         1.613697         1.629050  \n",
       "2         2.206321         1.724483         1.162611         1.274096  \n",
       "3         0.457356         1.052426         1.408521         1.400642  \n",
       "4         3.109998         3.635254         3.715596         3.294397  "
      ]
     },
     "execution_count": 166,
     "metadata": {},
     "output_type": "execute_result"
    }
   ],
   "source": [
    "crab_events.head()"
   ]
  },
  {
   "cell_type": "markdown",
   "metadata": {},
   "source": [
    "# Limits für theata^2 - Plot"
   ]
  },
  {
   "cell_type": "code",
   "execution_count": 154,
   "metadata": {},
   "outputs": [
    {
     "data": {
      "text/plain": [
       "4196"
      ]
     },
     "execution_count": 154,
     "metadata": {},
     "output_type": "execute_result"
    }
   ],
   "source": [
    "limit_theta = np.sqrt(0.3)\n",
    "crab_events_pred = crab_events[crab_events.gamma_prediction>0.8]\n",
    "crab_events_sel= crab_events_pred[crab_events_pred.theta_deg<limit_theta]\n",
    "\n",
    "gammas_pred = gammas[gammas.gamma_prediction>0.8]\n",
    "gammas_sel = gammas_pred[gammas_pred.theta_deg < limit_theta]\n",
    "len(crab_events_sel)"
   ]
  },
  {
   "cell_type": "code",
   "execution_count": 155,
   "metadata": {},
   "outputs": [
    {
     "data": {
      "text/plain": [
       "3528"
      ]
     },
     "execution_count": 155,
     "metadata": {},
     "output_type": "execute_result"
    }
   ],
   "source": [
    "crab_events_sel_1 = crab_events_pred[crab_events_pred.theta_deg_off_1 < limit_theta]\n",
    "crab_events_sel_2 = crab_events_pred[crab_events_pred.theta_deg_off_2 < limit_theta]\n",
    "crab_events_sel_3 = crab_events_pred[crab_events_pred.theta_deg_off_3 < limit_theta]\n",
    "crab_events_sel_4 = crab_events_pred[crab_events_pred.theta_deg_off_4 < limit_theta]\n",
    "crab_events_sel_5 = crab_events_pred[crab_events_pred.theta_deg_off_5 < limit_theta]\n",
    "#print(len(crab_events_sel_1)+len(crab_events_sel_2)+len(crab_events_sel_3)+len(crab_events_sel_4)+len(crab_events_sel_5))\n",
    "len(crab_events_sel_1)"
   ]
  },
  {
   "cell_type": "markdown",
   "metadata": {},
   "source": [
    "# Histogramm der Abstandswinkel"
   ]
  },
  {
   "cell_type": "code",
   "execution_count": 168,
   "metadata": {},
   "outputs": [
    {
     "data": {
      "image/png": "[encoded data removed]",
      "text/plain": [
       "<Figure size 432x288 with 1 Axes>"
      ]
     },
     "metadata": {
      "needs_background": "light"
     },
     "output_type": "display_data"
    }
   ],
   "source": [
    "crab_events_sel_on = np.array(crab_events_sel.theta_deg.values)\n",
    "plt.hist((crab_events_sel_on)**2, bins =40, histtype='step', color='blue')\n",
    "None\n",
    "\n",
    "#crab_events_sel_off_1 = np.array(crab_events_sel_1.theta_deg_off_1.values)\n",
    "#crab_events_sel_off_2 = np.array(crab_events_sel_1.theta_deg_off_2.values)\n",
    "#crab_events_sel_off_3 = np.array(crab_events_sel_1.theta_deg_off_3.values)\n",
    "#crab_events_sel_off_4 = np.array(crab_events_sel_1.theta_deg_off_4.values)\n",
    "#crab_events_sel_off_5 = np.array(crab_events_sel_1.theta_deg_off_5.values)\n",
    "#crab_events_sel_off_temp1 = np.append(crab_events_sel_off_1, crab_events_sel_off_2)\n",
    "#crab_events_sel_off_temp2 = np.append(crab_events_sel_off_temp1, crab_events_sel_off_3)\n",
    "#crab_events_sel_off_temp3 = np.append(crab_events_sel_off_temp2, crab_events_sel_off_4)\n",
    "#crab_events_sel_off = np.append(crab_events_sel_off_temp3, crab_events_sel_off_5)\n",
    "\n",
    "#plt.hist((crab_events_sel_off)**2, bins=40, histtype='step', color='orange')\n",
    "plt.hist((crab_events_sel_1.theta_deg_off_1.values)**2, bins=40, histtype='step', color='orange')\n",
    "plt.hist((crab_events_sel_2.theta_deg_off_2.values)**2, bins=40, histtype='step', color='orange')\n",
    "plt.hist((crab_events_sel_3.theta_deg_off_3.values)**2, bins=40, histtype='step', color='orange')\n",
    "plt.hist((crab_events_sel_4.theta_deg_off_4.values)**2, bins=40, histtype='step', color='orange')\n",
    "plt.hist((crab_events_sel_5.theta_deg_off_5.values)**2, bins=40, histtype='step', color='orange')\n",
    "None\n"
   ]
  },
  {
   "cell_type": "markdown",
   "metadata": {},
   "source": [
    "# Limit für Datenauswertung"
   ]
  },
  {
   "cell_type": "code",
   "execution_count": null,
   "metadata": {},
   "outputs": [],
   "source": [
    "limit_theta = np.sqrt(0.025)\n",
    "crab_events_pred = crab_events[crab_events.gamma_prediction>0.8]\n",
    "crab_events_sel= crab_events_pred[crab_events_pred.theta_deg<limit_theta]\n",
    "\n",
    "gammas_pred = gammas[gammas.gamma_prediction>0.8]\n",
    "gammas_sel = gammas_pred[gammas_pred.theta_deg < limit_theta]"
   ]
  },
  {
   "cell_type": "markdown",
   "metadata": {},
   "source": [
    "# 2D-Scatterplot der Energien"
   ]
  },
  {
   "cell_type": "code",
   "execution_count": 133,
   "metadata": {},
   "outputs": [
    {
     "data": {
      "text/plain": [
       "Text(0, 0.5, 'gamma_true_energy')"
      ]
     },
     "execution_count": 133,
     "metadata": {},
     "output_type": "execute_result"
    },
    {
     "data": {
      "image/png": "[encoded data removed]",
      "text/plain": [
       "<Figure size 432x288 with 1 Axes>"
      ]
     },
     "metadata": {
      "needs_background": "light"
     },
     "output_type": "display_data"
    }
   ],
   "source": [
    "# definiere Grenzquantile für plot\n",
    "up = np.quantile(gammas['corsika_event_header_total_energy'], 0.9)\n",
    "low = np.quantile(gammas['corsika_event_header_total_energy'], 0.1)\n",
    "\n",
    "matrix, xedge, yedge, image = plt.hist2d(gammas_sel['gamma_energy_prediction'],\n",
    "                                         gammas_sel['corsika_event_header_total_energy'], \n",
    "                                         bins=100, \n",
    "                                         normed='True',\n",
    "                                         range=[[low, up],[low, up]])\n",
    "plt.xscale('log')\n",
    "plt.yscale('log')\n",
    "plt.xlabel('gamma_energy_prediction')\n",
    "plt.ylabel('gamma_true_energy')"
   ]
  },
  {
   "cell_type": "code",
   "execution_count": null,
   "metadata": {},
   "outputs": [],
   "source": []
  },
  {
   "cell_type": "code",
   "execution_count": null,
   "metadata": {},
   "outputs": [],
   "source": []
  },
  {
   "cell_type": "code",
   "execution_count": null,
   "metadata": {},
   "outputs": [],
   "source": []
  },
  {
   "cell_type": "code",
   "execution_count": null,
   "metadata": {},
   "outputs": [],
   "source": []
  }
 ],
 "metadata": {
  "kernelspec": {
   "display_name": "Python 3",
   "language": "python",
   "name": "python3"
  },
  "language_info": {
   "codemirror_mode": {
    "name": "ipython",
    "version": 3
   },
   "file_extension": ".py",
   "mimetype": "text/x-python",
   "name": "python",
   "nbconvert_exporter": "python",
   "pygments_lexer": "ipython3",
   "version": "3.7.1"
  }
 },
 "nbformat": 4,
 "nbformat_minor": 2
}
