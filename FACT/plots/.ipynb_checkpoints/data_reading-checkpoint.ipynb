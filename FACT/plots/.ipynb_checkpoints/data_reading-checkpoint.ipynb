{
 "cells": [
  {
   "cell_type": "markdown",
   "metadata": {},
   "source": [
    "# Einlesen der FACT Daten\n",
    "\n",
    "\n",
    "Die Daten sind im HDF5 Format gespeichert und können mit dem Python-Modul h5py eingelesen werden.\n",
    "\n",
    "Das Python-Modul `pyfact` bietet eine nützliche Funktion, um diese Daten direkt in ein `pandas.DataFrame` einzulesen.\n",
    "\n",
    "```\n",
    "$ pip install pyfact\n",
    "```"
   ]
  },
  {
   "cell_type": "code",
   "execution_count": 1,
   "metadata": {},
   "outputs": [],
   "source": [
    "from fact.io import read_h5py\n",
    "import h5py\n",
    "import matplotlib.pyplot as plt\n",
    "import numpy as np\n",
    "import pandas as pd\n",
    "from scipy.stats import poisson\n",
    "from scipy.optimize import minimize\n",
    "from scipy.optimize import curve_fit\n",
    "\n",
    "%matplotlib inline"
   ]
  },
  {
   "cell_type": "markdown",
   "metadata": {},
   "source": [
    "# Einlesen mit h5py"
   ]
  },
  {
   "cell_type": "code",
   "execution_count": 2,
   "metadata": {},
   "outputs": [
    {
     "name": "stdout",
     "output_type": "stream",
     "text": [
      "Tables:\n",
      "events runs\n",
      "\n",
      "Columns in events table\n",
      "dec_prediction disp_prediction event_num gamma_energy_prediction gamma_prediction index night pointing_position_az pointing_position_zd ra_prediction run_id theta_deg theta_deg_off_1 theta_deg_off_2 theta_deg_off_3 theta_deg_off_4 theta_deg_off_5 timestamp\n",
      "\n",
      "Columns in runs table\n",
      "azimuth declination index night ontime right_ascension run_id run_start run_stop source zenith\n"
     ]
    }
   ],
   "source": [
    "f = h5py.File('../data/open_crab_sample_dl3.hdf5')\n",
    "\n",
    "print('Tables:')\n",
    "print(*f)\n",
    "\n",
    "print()\n",
    "print('Columns in events table')\n",
    "print(*f['events'])\n",
    "\n",
    "print()\n",
    "print('Columns in runs table')\n",
    "print(*f['runs'])\n",
    "f.close()"
   ]
  },
  {
   "cell_type": "code",
   "execution_count": 3,
   "metadata": {},
   "outputs": [],
   "source": [
    "#theta_deg = f['events/theta_deg'][:]\n",
    "\n",
    "#plt.hist(theta_deg**2, bins=30, range=[0, 0.1])\n",
    "#None\n"
   ]
  },
  {
   "cell_type": "markdown",
   "metadata": {},
   "source": [
    "## Daten einlesen mit pyfact"
   ]
  },
  {
   "cell_type": "code",
   "execution_count": 4,
   "metadata": {},
   "outputs": [],
   "source": [
    "gammas = read_h5py('../data/gamma_test_dl3.hdf5', key='events', columns=[\n",
    "    'gamma_energy_prediction',\n",
    "    'gamma_prediction',\n",
    "    'theta_deg',\n",
    "    'corsika_event_header_event_number',\n",
    "    'corsika_event_header_total_energy',\n",
    "])\n",
    "#Testdatensatz aus simulierten Daten\n",
    "\n",
    "\n",
    "gammas_corsika = read_h5py(\n",
    "    '../data/gamma_corsika_events_1.1.2.hdf5',\n",
    "    key='corsika_events',\n",
    "    columns=['total_energy'],\n",
    ")\n",
    "# Infos über simulierten Daten\n",
    "\n",
    "\n",
    "crab_events = read_h5py('../data/open_crab_sample_dl3.hdf5', key='events', columns=[\n",
    "    'gamma_prediction',\n",
    "    'gamma_energy_prediction',\n",
    "    'theta_deg',\n",
    "    'theta_deg_off_1',\n",
    "    'theta_deg_off_2',\n",
    "    'theta_deg_off_3',\n",
    "    'theta_deg_off_4',\n",
    "    'theta_deg_off_5',\n",
    "])\n",
    "#Messdaten\n",
    "\n",
    "crab_runs = read_h5py('../data/open_crab_sample_dl3.hdf5', key='runs')"
   ]
  },
  {
   "cell_type": "markdown",
   "metadata": {},
   "source": [
    "# Limits für theata^2 - Plot"
   ]
  },
  {
   "cell_type": "code",
   "execution_count": 5,
   "metadata": {},
   "outputs": [],
   "source": [
    "limit_theta = np.sqrt(0.025)\n",
    "crab_events_pred = crab_events[crab_events.gamma_prediction>0.8]\n",
    "crab_events_sel = crab_events_pred[crab_events_pred.theta_deg<limit_theta]\n",
    "\n",
    "gammas_pred = gammas[gammas.gamma_prediction>0.8]\n",
    "gammas_sel = gammas_pred[gammas_pred.theta_deg < limit_theta]"
   ]
  },
  {
   "cell_type": "code",
   "execution_count": 6,
   "metadata": {},
   "outputs": [],
   "source": [
    "# Mit diesem limit werden alle events für den theta^2 plot ausgewählt (theta^2 < 0.3)\n",
    "# Für Berechnungen weiterhin crab_events_sel bzw bkg verwenden\n",
    "limit_theta_plot = np.sqrt(0.3)\n",
    "crab_events_pred_1 = crab_events_pred[crab_events_pred.theta_deg_off_1 < limit_theta_plot]\n",
    "crab_events_pred_2 = crab_events_pred[crab_events_pred.theta_deg_off_2 < limit_theta_plot]\n",
    "crab_events_pred_3 = crab_events_pred[crab_events_pred.theta_deg_off_3 < limit_theta_plot]\n",
    "crab_events_pred_4 = crab_events_pred[crab_events_pred.theta_deg_off_4 < limit_theta_plot]\n",
    "crab_events_pred_5 = crab_events_pred[crab_events_pred.theta_deg_off_5 < limit_theta_plot]\n",
    "\n",
    "crab_events_sel_plot= crab_events_pred[crab_events_pred.theta_deg < limit_theta_plot]"
   ]
  },
  {
   "cell_type": "code",
   "execution_count": 7,
   "metadata": {},
   "outputs": [],
   "source": [
    "crab_events_sel_1 = crab_events_pred[crab_events_pred.theta_deg_off_1 < limit_theta]\n",
    "crab_events_sel_2 = crab_events_pred[crab_events_pred.theta_deg_off_2 < limit_theta]\n",
    "crab_events_sel_3 = crab_events_pred[crab_events_pred.theta_deg_off_3 < limit_theta]\n",
    "crab_events_sel_4 = crab_events_pred[crab_events_pred.theta_deg_off_4 < limit_theta]\n",
    "crab_events_sel_5 = crab_events_pred[crab_events_pred.theta_deg_off_5 < limit_theta]\n",
    "bkg = pd.concat([crab_events_sel_1, crab_events_sel_2, crab_events_sel_3, crab_events_sel_4, crab_events_sel_5])"
   ]
  },
  {
   "cell_type": "markdown",
   "metadata": {},
   "source": [
    "# Histogramm der Abstandswinkel"
   ]
  },
  {
   "cell_type": "code",
   "execution_count": 8,
   "metadata": {},
   "outputs": [],
   "source": [
    "theta_deg_off = []\n",
    "for i in [1, 2, 3, 4, 5]:\n",
    "    exec('x = crab_events_pred_{}.theta_deg_off_{}.values'.format(i, i))\n",
    "    for el in x:\n",
    "        theta_deg_off.append(el)"
   ]
  },
  {
   "cell_type": "code",
   "execution_count": 9,
   "metadata": {},
   "outputs": [
    {
     "name": "stdout",
     "output_type": "stream",
     "text": [
      "250\n"
     ]
    },
    {
     "data": {
      "image/png": "[encoded data removed]",
      "text/plain": [
       "<Figure size 432x288 with 1 Axes>"
      ]
     },
     "metadata": {
      "needs_background": "light"
     },
     "output_type": "display_data"
    }
   ],
   "source": [
    "crab_events_sel_on = np.array(crab_events_sel_plot.theta_deg.values)\n",
    "plt.hist((crab_events_sel_on)**2, bins =40, histtype='step', color='blue', label='On-events')\n",
    "\n",
    "plt.hist(np.array(theta_deg_off)**2, bins=40, histtype='step', color='g', label='Off-events', weights=np.array([0.2 for el in theta_deg_off]))\n",
    "plt.vlines(0.025, color='c', linestyle='-.', ymin=0, ymax=400, label=r'$\\theta^{2}-cut$')\n",
    "plt.xlabel(r'$\\theta^2$ / $\\deg^2$')\n",
    "plt.legend()\n",
    "plt.text(0.06, 350,\n",
    "         r'''Source: Crab, $t_\\mathrm{{obs}}$ = 17.7h\n",
    "        $N_\\mathrm{{on}}$ = {non}, $N_\\mathrm{{off}}$ = {noff}, $\\alpha$ = 0.2'''.format(non=len(crab_events_sel), noff=len(bkg)))\n",
    "plt.savefig('On_Off.pdf')\n",
    "print(len(crab_events_sel_1.theta_deg_off_1.values))"
   ]
  },
  {
   "cell_type": "markdown",
   "metadata": {},
   "source": [
    "# 2D-Scatterplot der Energien"
   ]
  },
  {
   "cell_type": "code",
   "execution_count": 10,
   "metadata": {},
   "outputs": [
    {
     "name": "stdout",
     "output_type": "stream",
     "text": [
      "205.58768\n",
      "[    0.           500.           702.55791324   987.17524292\n",
      "  1387.09555734  1949.02992046  2738.61278753  3848.06817036\n",
      "  5406.98148757  7597.43526168 10675.27652687 15000.\n",
      " 50000.        ]\n"
     ]
    }
   ],
   "source": [
    "max_bin = max(max(gammas_sel['gamma_energy_prediction']), max(gammas_sel['corsika_event_header_total_energy']))\n",
    "min_bin = min(min(gammas_sel['gamma_energy_prediction']), min(gammas_sel['corsika_event_header_total_energy']))\n",
    "print(min_bin)\n",
    "if max_bin <= max(np.logspace(np.log10(500),np.log10(20e3),11)):\n",
    "    print('Durch obere binning Grenze werden keine events aussortiert, da höchster vorkommender Wert: {}!'.format(max_bin))\n",
    "    b = 12\n",
    "    bins1 = np.ones(b)\n",
    "else:\n",
    "    b = 13\n",
    "    bins1 = np.ones(b)\n",
    "    bins1[-1] = 50e3\n",
    "bins1[0] = 0\n",
    "\n",
    "for i in range(1, b-1, 1):\n",
    "    bins1[i] = np.logspace(np.log10(500),np.log10(15e3),11)[i-1]\n",
    "print(bins1)"
   ]
  },
  {
   "cell_type": "code",
   "execution_count": 11,
   "metadata": {},
   "outputs": [
    {
     "name": "stdout",
     "output_type": "stream",
     "text": [
      "[    0.           500.           987.17524292  1949.02992046\n",
      "  3848.06817036  7597.43526168 15000.         50000.        ]\n"
     ]
    }
   ],
   "source": [
    "bins2 = np.ones(8)\n",
    "bins2[0] = 0\n",
    "for i in range(1, 7, 1):\n",
    "    bins2[i] = np.logspace(np.log10(500),np.log10(15e3),6)[i-1]\n",
    "bins2[-1] = 50e3\n",
    "print(bins2)"
   ]
  },
  {
   "cell_type": "code",
   "execution_count": 12,
   "metadata": {
    "scrolled": false
   },
   "outputs": [
    {
     "name": "stdout",
     "output_type": "stream",
     "text": [
      "Matrix hat neue shape:  (12, 7)\n"
     ]
    },
    {
     "data": {
      "text/plain": [
       "<Figure size 432x288 with 0 Axes>"
      ]
     },
     "metadata": {},
     "output_type": "display_data"
    },
    {
     "data": {
      "image/png": "[encoded data removed]",
      "text/plain": [
       "<Figure size 288x493.714 with 2 Axes>"
      ]
     },
     "metadata": {
      "needs_background": "light"
     },
     "output_type": "display_data"
    }
   ],
   "source": [
    "plt.figure(constrained_layout=True)\n",
    "matrix, xedge, yedge = np.histogram2d(\n",
    "    gammas_sel['gamma_energy_prediction'],\n",
    "    gammas_sel['corsika_event_header_total_energy'], \n",
    "                                         bins=[\n",
    "                                             bins1,\n",
    "                                             bins2,\n",
    "                                         ])\n",
    "matrix = matrix/np.sum(matrix,axis=0) #hier erfolgt die Normierung\n",
    "plt.matshow(matrix)\n",
    "plt.xlabel('gamma\\_energy\\_prediction')\n",
    "plt.ylabel('corsika\\_event\\_header\\_total\\_energy')\n",
    "plt.title('Energie-Migrationsmatrix $A$')\n",
    "plt.colorbar()\n",
    "plt.savefig('Matrix.pdf')\n",
    "print('Matrix hat neue shape: ', np.shape(matrix))"
   ]
  },
  {
   "cell_type": "code",
   "execution_count": 13,
   "metadata": {},
   "outputs": [
    {
     "name": "stdout",
     "output_type": "stream",
     "text": [
      "[    0.           500.           702.55791324   987.17524292\n",
      "  1387.09555734  1949.02992046  2738.61278753  3848.06817036\n",
      "  5406.98148757  7597.43526168 10675.27652687 15000.\n",
      " 50000.        ]\n",
      "[    0.           500.           702.55791324   987.17524292\n",
      "  1387.09555734  1949.02992046  2738.61278753  3848.06817036\n",
      "  5406.98148757  7597.43526168 10675.27652687 15000.\n",
      " 50000.        ]\n"
     ]
    },
    {
     "data": {
      "image/png": "[encoded data removed]",
      "text/plain": [
       "<Figure size 432x288 with 2 Axes>"
      ]
     },
     "metadata": {
      "needs_background": "light"
     },
     "output_type": "display_data"
    }
   ],
   "source": [
    "# Untergrund binnen\n",
    "plt.subplot(1,2,1)\n",
    "a = np.full_like(bkg['gamma_energy_prediction'], 0.2)\n",
    "b, bins_b, p = plt.hist(bkg['gamma_energy_prediction'],\n",
    "                        bins=xedge,\n",
    "                        weights=a,\n",
    "                        color='g',\n",
    "                        label='Off-Events'\n",
    "                       )\n",
    "plt.xscale('log')\n",
    "plt.yscale('log')\n",
    "plt.xlabel('Energie [GeV]')\n",
    "plt.ylabel('Anzahl an Ereignissen')\n",
    "plt.legend()\n",
    "plt.title('Energieverteilung')\n",
    "plt.subplot(1,2,2)\n",
    "g, bins_g, p = plt.hist(crab_events_sel['gamma_energy_prediction'],\n",
    "                        bins=xedge,\n",
    "                        color='c',\n",
    "                        label='On-Events')\n",
    "print(bins_b)\n",
    "print(bins_g)\n",
    "plt.xscale('log')\n",
    "plt.yscale('log')\n",
    "plt.xlabel('Energie [GeV]')\n",
    "plt.legend()\n",
    "plt.title('Energieverteilung')\n",
    "plt.savefig('Energieverteilung_UG_SIG.pdf')"
   ]
  },
  {
   "cell_type": "code",
   "execution_count": 14,
   "metadata": {},
   "outputs": [
    {
     "name": "stdout",
     "output_type": "stream",
     "text": [
      "[[ 2.76653343e-15  3.67026028e+00  3.70914269e-01 -1.72583365e+00\n",
      "   1.99119817e+00 -5.31961583e-01 -4.76535113e-01  2.09981307e-01\n",
      "   1.25408197e-01 -8.48608370e-02 -4.48368334e-02  3.34308740e-02]\n",
      " [-3.39599798e-15 -3.90480604e+00  1.18115318e+00  1.88410598e+00\n",
      "  -2.70024946e+00  7.40921917e-01  6.55078307e-01 -2.88991971e-01\n",
      "  -1.72498058e-01  1.16701059e-01  6.16657960e-02 -4.59724567e-02]\n",
      " [ 1.26461745e-15  1.25722623e+00 -5.66334524e-01  8.53045349e-01\n",
      "   2.07471393e+00 -7.04717127e-01 -5.58180686e-01  2.49845354e-01\n",
      "   1.48037729e-01 -1.00180316e-01 -5.29527431e-02  3.94440485e-02]\n",
      " [-3.28865404e-16 -4.38839092e-01  1.87265067e-01 -3.56133814e-01\n",
      "  -9.58822486e-02  1.89596004e+00  8.69905052e-01 -5.90367604e-01\n",
      "  -3.00161403e-01  2.26239202e-01  1.17069325e-01 -8.80127757e-02]\n",
      " [ 1.84742110e-16  1.50361191e-01 -6.33239475e-02  1.20318885e-01\n",
      "  -2.02659416e-03 -5.87120043e-01  5.46667820e-01  1.91946632e+00\n",
      "   6.13331628e-01 -7.26104744e-01 -3.47997849e-01  2.75104735e-01]\n",
      " [ 7.44875768e-18 -5.46108424e-02  2.29721094e-02 -4.37434081e-02\n",
      "   3.04445707e-03  2.02915967e-01 -2.29245833e-01 -5.65041581e-01\n",
      "   8.17372513e-01  1.86494131e+00  6.79541839e-01 -7.65570715e-01]\n",
      " [-1.70553664e-16  1.23610372e-02 -5.19887955e-03  9.90336659e-03\n",
      "  -7.59646644e-04 -4.56509125e-02  5.35214461e-02  1.19300474e-01\n",
      "  -2.08100307e-01 -2.62507680e-01  4.77319731e-01  1.59745681e+00]]\n"
     ]
    }
   ],
   "source": [
    "# Penrose-Moore Pseudoinverse ausrechnen (nicht quadratisch)\n",
    "inv = np.linalg.pinv(matrix)\n",
    "print(inv)"
   ]
  },
  {
   "cell_type": "code",
   "execution_count": 32,
   "metadata": {},
   "outputs": [
    {
     "name": "stdout",
     "output_type": "stream",
     "text": [
      "fNSVD: [210.21412235 235.60702628 102.47084228  63.46346073  16.90320039]\n",
      "[ 0.          5.19615242 15.74801575 15.29705854 12.489996    9.94987437\n",
      "  7.61577311  6.4807407   5.09901951  3.46410162  1.73205081  1.73205081]\n",
      "[[0.00000000e+00 2.31055901e-01 6.78260870e-01 7.45341615e-02\n",
      "  1.49068323e-02 1.24223602e-03 0.00000000e+00 0.00000000e+00\n",
      "  0.00000000e+00 0.00000000e+00 0.00000000e+00 0.00000000e+00]\n",
      " [0.00000000e+00 5.25700023e-02 6.36026831e-01 2.79658373e-01\n",
      "  2.79619374e-02 3.04188441e-03 6.23976289e-04 1.16995554e-04\n",
      "  0.00000000e+00 0.00000000e+00 0.00000000e+00 0.00000000e+00]\n",
      " [0.00000000e+00 1.76890964e-03 1.12838746e-01 4.24396802e-01\n",
      "  3.67844760e-01 8.43062336e-02 7.80089153e-03 8.84454822e-04\n",
      "  1.59201868e-04 0.00000000e+00 0.00000000e+00 0.00000000e+00]\n",
      " [0.00000000e+00 0.00000000e+00 2.10465619e-03 3.11950411e-02\n",
      "  2.01297391e-01 4.40219115e-01 2.64292922e-01 5.64797463e-02\n",
      "  4.15165057e-03 2.59478161e-04 0.00000000e+00 0.00000000e+00]\n",
      " [0.00000000e+00 0.00000000e+00 1.37117784e-04 2.46812012e-03\n",
      "  1.43973673e-02 6.25942685e-02 2.20485397e-01 4.16700946e-01\n",
      "  2.39201974e-01 4.05183052e-02 3.42794460e-03 6.85588921e-05]\n",
      " [0.00000000e+00 0.00000000e+00 0.00000000e+00 0.00000000e+00\n",
      "  3.98962697e-04 1.99481348e-03 2.23419110e-02 8.83702374e-02\n",
      "  2.65908638e-01 3.86594853e-01 2.04667864e-01 2.97227209e-02]\n",
      " [0.00000000e+00 0.00000000e+00 0.00000000e+00 0.00000000e+00\n",
      "  0.00000000e+00 0.00000000e+00 1.82815356e-03 5.48446069e-03\n",
      "  2.80316880e-02 1.20048751e-01 2.79098111e-01 5.65508836e-01]]\n"
     ]
    },
    {
     "ename": "ValueError",
     "evalue": "matmul: Input operand 1 has a mismatch in its core dimension 0, with gufunc signature (n?,k),(k,m?)->(n?,m?) (size 12 is different from 7)",
     "output_type": "error",
     "traceback": [
      "\u001b[0;31m---------------------------------------------------------------------------\u001b[0m",
      "\u001b[0;31mValueError\u001b[0m                                Traceback (most recent call last)",
      "\u001b[0;32m<ipython-input-32-a6ab71813c61>\u001b[0m in \u001b[0;36m<module>\u001b[0;34m\u001b[0m\n\u001b[1;32m      9\u001b[0m \u001b[0mtrans\u001b[0m \u001b[0;34m=\u001b[0m \u001b[0mmatrix\u001b[0m\u001b[0;34m.\u001b[0m\u001b[0mtranspose\u001b[0m\u001b[0;34m(\u001b[0m\u001b[0;34m)\u001b[0m\u001b[0;34m\u001b[0m\u001b[0;34m\u001b[0m\u001b[0m\n\u001b[1;32m     10\u001b[0m \u001b[0mprint\u001b[0m\u001b[0;34m(\u001b[0m\u001b[0mtrans\u001b[0m\u001b[0;34m)\u001b[0m\u001b[0;34m\u001b[0m\u001b[0;34m\u001b[0m\u001b[0m\n\u001b[0;32m---> 11\u001b[0;31m \u001b[0mprint\u001b[0m\u001b[0;34m(\u001b[0m\u001b[0mmatrix\u001b[0m\u001b[0;34m@\u001b[0m\u001b[0mdiag\u001b[0m\u001b[0;34m@\u001b[0m\u001b[0mtrans\u001b[0m\u001b[0;34m)\u001b[0m\u001b[0;34m\u001b[0m\u001b[0;34m\u001b[0m\u001b[0m\n\u001b[0m",
      "\u001b[0;31mValueError\u001b[0m: matmul: Input operand 1 has a mismatch in its core dimension 0, with gufunc signature (n?,k),(k,m?)->(n?,m?) (size 12 is different from 7)"
     ]
    }
   ],
   "source": [
    "# Naive Entfaltung\n",
    "ev = g-b\n",
    "fNSVD = inv@ev\n",
    "fNSVD = fNSVD[1:-1]\n",
    "print('fNSVD:', fNSVD)\n",
    "Uns_g = np.sqrt(g)\n",
    "print(Uns_g)\n",
    "diag = np.diag(g)\n",
    "trans = matrix.transpose()\n",
    "print(trans)\n",
    "print(matrix@diag@trans)"
   ]
  },
  {
   "cell_type": "code",
   "execution_count": 33,
   "metadata": {},
   "outputs": [],
   "source": [
    "xpos=[yedge[i]-(yedge[i] - yedge[i-1])/2 for i in range(1,len(yedge))]\n",
    "xpos=xpos[1:-1]\n",
    "xerr=[(yedge[i] - yedge[i-1])/2 for i in range(2,len(yedge)-1)]"
   ]
  },
  {
   "cell_type": "code",
   "execution_count": 34,
   "metadata": {},
   "outputs": [
    {
     "data": {
      "image/png": "[encoded data removed]",
      "text/plain": [
       "<Figure size 432x288 with 1 Axes>"
      ]
     },
     "metadata": {
      "needs_background": "light"
     },
     "output_type": "display_data"
    }
   ],
   "source": [
    "plt.errorbar(xpos, fNSVD, xerr=xerr, fmt='rx')\n",
    "plt.xscale('log')\n",
    "plt.yscale('log')\n",
    "plt.xlabel('Energie [GeV]')\n",
    "plt.ylabel('Anzahl an Ereignissen')\n",
    "plt.title('entfaltete Energieverteilung des Krebsnebels')\n",
    "plt.savefig('Entfaltung_1.pdf')"
   ]
  },
  {
   "cell_type": "code",
   "execution_count": 35,
   "metadata": {},
   "outputs": [
    {
     "name": "stdout",
     "output_type": "stream",
     "text": [
      "f [    0 24943 61059 33992 13563  4269  1078]\n",
      "[(1, 100000), (1, 100000), (1, 100000), (1, 100000), (1, 100000), (1, 100000), (1, 100000)]\n",
      "      fun: 30.862544096542806\n",
      " hess_inv: <7x7 LbfgsInvHessProduct with dtype=float64>\n",
      "      jac: array([ 3.48165941e-05,  8.88178420e-05,  1.42108547e-05, -9.94759830e-06,\n",
      "        2.13162821e-06,  2.27373675e-05,  2.31636932e-04])\n",
      "  message: b'CONVERGENCE: REL_REDUCTION_OF_F_<=_FACTR*EPSMCH'\n",
      "     nfev: 472\n",
      "      nit: 21\n",
      "   status: 0\n",
      "  success: True\n",
      "        x: array([ 20.88677115, 188.78508209, 241.04343439,  99.48449476,\n",
      "        67.19670471,  13.37411857,   3.61030387])\n",
      "Schätzer: [188.78508209 241.04343439  99.48449476  67.19670471  13.37411857]\n",
      "yedge:  [    0.           500.           987.17524292  1949.02992046\n",
      "  3848.06817036  7597.43526168 15000.         50000.        ]\n",
      "Kovarianzmatrix: [[ 6.19602198e+02 -8.43213982e+02  2.11449546e+02 -3.05775813e-01\n",
      "   2.34394379e+01 -2.83058585e+01 -1.51747265e+01]\n",
      " [-8.43213982e+02  1.70330255e+03 -6.56440221e+02  1.06198674e+02\n",
      "  -2.86176932e+01  3.11178976e+01  1.11893458e+01]\n",
      " [ 2.11449546e+02 -6.56440221e+02  9.80625542e+02 -2.41245001e+02\n",
      "   5.66992479e+01 -2.91424919e+01  9.77365923e+00]\n",
      " [-3.05775813e-01  1.06198674e+02 -2.41245001e+02  3.50434607e+02\n",
      "  -1.29216890e+02  4.09883083e+01 -1.21814808e+01]\n",
      " [ 2.34394379e+01 -2.86176932e+01  5.66992479e+01 -1.29216890e+02\n",
      "   1.59525042e+02 -2.31300929e+01  3.30303056e+00]\n",
      " [-2.83058585e+01  3.11178976e+01 -2.91424919e+01  4.09883083e+01\n",
      "  -2.31300929e+01  2.93673494e+01 -1.97300985e+00]\n",
      " [-1.51747265e+01  1.11893458e+01  9.77365923e+00 -1.21814808e+01\n",
      "   3.30303056e+00 -1.97300985e+00  1.34825028e+01]]\n",
      "Kovarianzmatrix: (7, 7)\n"
     ]
    }
   ],
   "source": [
    "# negative Log-Likelihood-Entfaltung\n",
    "def NegLog(f, A, b, g):\n",
    "    lam = A@f + b\n",
    "    return -poisson.logpmf(g, lam).sum()\n",
    "\n",
    "f, yedges = np.histogram(gammas_sel['gamma_energy_prediction'], bins=yedge)\n",
    "\n",
    "Bounds= [(1,100000)]*len(f)\n",
    "\n",
    "estimator = minimize(NegLog, f+100, args=(matrix, b, g), method='L-BFGS-B', bounds=Bounds)\n",
    "#print(estimator)\n",
    "#Schätzer\n",
    "fLike = estimator['x']\n",
    "fLike_plot = estimator['x'][1:-1]\n",
    "print('Schätzer:', fLike_plot)\n",
    "#print('yedge: ', yedge)\n",
    "\n",
    "#Hessematrix aus Minimize für Fehlerrechnung auf Schätzer\n",
    "Hess_Inv = estimator['hess_inv'].todense()\n",
    "print('Kovarianzmatrix:',Hess_Inv)\n",
    "print('Kovarianzmatrix:',np.shape(Hess_Inv))"
   ]
  },
  {
   "cell_type": "code",
   "execution_count": 47,
   "metadata": {},
   "outputs": [
    {
     "name": "stdout",
     "output_type": "stream",
     "text": [
      "[41.20450634 31.39439353 18.65904346 12.71347907  5.39814535]\n"
     ]
    }
   ],
   "source": [
    "#Zufallszahlen mit Multivarianten Gauss \n",
    "fLike_Var = np.random.multivariate_normal(fLike, Hess_Inv, size=10000)\n",
    "fLike_Var = fLike_Var[:,1:-1]\n",
    "fLike_Var[:, 0]\n",
    "std_devs = np.ones(5)\n",
    "for i in range(5):\n",
    "    std_devs[i] = np.std(fLike_Var[:, i])\n",
    "print(std_devs)"
   ]
  },
  {
   "cell_type": "code",
   "execution_count": 48,
   "metadata": {},
   "outputs": [
    {
     "data": {
      "image/png": "[encoded data removed]",
      "text/plain": [
       "<Figure size 432x288 with 1 Axes>"
      ]
     },
     "metadata": {
      "needs_background": "light"
     },
     "output_type": "display_data"
    }
   ],
   "source": [
    "plt.errorbar(xpos, fLike_plot, xerr=xerr, fmt='bx')\n",
    "plt.xscale('log')\n",
    "plt.yscale('log')\n",
    "plt.xlabel('Energie [GeV]')\n",
    "plt.ylabel('Anzahl an Ereignissen')\n",
    "plt.title('entfaltete Energieverteilung des Krebsnebels')\n",
    "plt.savefig('Entfaltung_2.pdf')\n",
    "\n",
    "plt.errorbar(xpos, fNSVD, xerr=xerr, fmt='rx', label='Naive SVD')\n",
    "plt.errorbar(xpos, fLike_plot, xerr=xerr, yerr = std_devs, fmt='bx', label='Likelihood')\n",
    "plt.xscale('log')\n",
    "plt.yscale('log')\n",
    "plt.xlabel('Energie [GeV]')\n",
    "plt.ylabel('Anzahl an Ereignissen')\n",
    "plt.title('entfaltete Energieverteilung des Krebsnebels')\n",
    "plt.legend()\n",
    "plt.savefig('Entfaltung_VGL.pdf')"
   ]
  },
  {
   "cell_type": "code",
   "execution_count": 39,
   "metadata": {},
   "outputs": [],
   "source": [
    "def fluss(f, A, dE, t):\n",
    "    return f/(A*dE*t)\n",
    "\n",
    "t_obs = crab_runs['ontime'].sum()"
   ]
  },
  {
   "cell_type": "code",
   "execution_count": 40,
   "metadata": {},
   "outputs": [
    {
     "data": {
      "text/plain": [
       "array([0.48717524, 0.96185468, 1.89903825, 3.74936709, 7.40256474])"
      ]
     },
     "execution_count": 40,
     "metadata": {},
     "output_type": "execute_result"
    }
   ],
   "source": [
    "#Breite des Energie-bins \n",
    "Delta_E = np.diff(yedge[1:-1])*10**(-3)\n",
    "Delta_E"
   ]
  },
  {
   "cell_type": "code",
   "execution_count": 41,
   "metadata": {},
   "outputs": [
    {
     "name": "stdout",
     "output_type": "stream",
     "text": [
      "[    0 24943 61059 33992 13563  4269  1078]\n",
      "[14210911  2598401   817116   257236    80759    25387    10190]\n",
      "A_eff= [3.14066687e+07 2.44481124e+08 4.32338918e+08 5.49470259e+08\n",
      " 5.50166488e+08]\n"
     ]
    }
   ],
   "source": [
    "# Detektorfläche für A_eff\n",
    "A = np.pi * 27000**2 \n",
    "# Bestimmung von N_sel/N_sim\n",
    "hist_sel, yedges = np.histogram(gammas_sel['gamma_energy_prediction'], bins=yedge)\n",
    "print(hist_sel)\n",
    "hist_sim, yedges = np.histogram(gammas_corsika['total_energy'], bins=yedge)\n",
    "print(hist_sim)\n",
    "#Bestimmung der effektiven Fläche\n",
    "A_eff = hist_sel[1:-1]/hist_sim[1:-1] * A /0.7\n",
    "print('A_eff=',A_eff)"
   ]
  },
  {
   "cell_type": "code",
   "execution_count": 43,
   "metadata": {},
   "outputs": [
    {
     "name": "stdout",
     "output_type": "stream",
     "text": [
      "Phi_NSVD: [2.15291036e-10 1.57001783e-11 1.95575029e-12 4.82717162e-13\n",
      " 6.50374845e-14]\n",
      "Phi_Like: [1.93344460e-10 1.60624450e-11 1.89875310e-12 5.11113044e-13\n",
      " 5.14588367e-14]\n",
      "Mean: [1.93383024e-10 1.60634437e-11 1.89900685e-12 5.11964430e-13\n",
      " 5.16858740e-14]\n",
      "Std: [4.25567574e-11 2.12065851e-12 3.59190768e-13 9.64219419e-14\n",
      " 2.07886456e-14]\n"
     ]
    }
   ],
   "source": [
    "#Berechnung des Flusswertes\n",
    "phi_NSVD = fNSVD/(A_eff * Delta_E * t_obs)\n",
    "phi_Like = fLike_plot/(A_eff * Delta_E * t_obs)\n",
    "\n",
    "#Mittelwert und Standardabweichung\n",
    "phi_Like_Var = fLike_Var/(A_eff * Delta_E * t_obs)\n",
    "mean = phi_Like_Var.mean(axis=0)\n",
    "std = phi_Like_Var.std(axis=0)\n",
    "print('Phi_NSVD:', phi_NSVD)\n",
    "print('Phi_Like:', phi_Like)\n",
    "print('Mean:',mean)\n",
    "print('Std:',std)"
   ]
  },
  {
   "cell_type": "code",
   "execution_count": 49,
   "metadata": {},
   "outputs": [
    {
     "data": {
      "image/png": "[encoded data removed]",
      "text/plain": [
       "<Figure size 432x288 with 1 Axes>"
      ]
     },
     "metadata": {
      "needs_background": "light"
     },
     "output_type": "display_data"
    }
   ],
   "source": [
    "plt.errorbar(xpos, phi_NSVD, xerr=xerr, fmt ='rx', label='Naive SVD')\n",
    "plt.errorbar(xpos, phi_Like, xerr=xerr, yerr=std, fmt ='bx', label='Likelihood') \n",
    "plt.xscale('log')\n",
    "plt.yscale('log')\n",
    "plt.xlabel(r'Energie [Gev]')\n",
    "plt.ylabel(r'$\\frac{\\mathrm{d}N}{\\mathrm{d}E \\, \\mathrm{d}A \\, t_{obs}}$ [TeV$^{-1}$ cm$^{-2}$ s$^{-1}$]')\n",
    "plt.legend()\n",
    "plt.savefig('Fluss.pdf')"
   ]
  },
  {
   "cell_type": "code",
   "execution_count": 45,
   "metadata": {},
   "outputs": [],
   "source": [
    "def func(x, a, b, c, d):\n",
    "     return a * (x/b) ** (-c + d * np.log(x/b))"
   ]
  },
  {
   "cell_type": "code",
   "execution_count": 46,
   "metadata": {},
   "outputs": [
    {
     "data": {
      "image/png": "[encoded data removed]",
      "text/plain": [
       "<Figure size 432x288 with 1 Axes>"
      ]
     },
     "metadata": {
      "needs_background": "light"
     },
     "output_type": "display_data"
    }
   ],
   "source": [
    "x = np.linspace(450, 17000, 10000)\n",
    "y = func(x, 3.23*10**(-11), 1000, 2.47,-0.24)\n",
    "plt.plot(x, y, 'm-', label='MAGIC')                         \n",
    "plt.errorbar(xpos, mean, yerr = std, xerr=xerr, fmt='bx', label='Likelihood')\n",
    "#plt.fill_between(yedge[1:-1],mean-std,mean+std,facecolor='b',alpha=0.2, label='$1 \\sigma$-Umgebung') \n",
    "#plt.fill_betweenx(mean, yedge[1:-1]-[(yedge[i] - yedge[i-1])/2 for i in range(1,len(yedge)-1)], yedge[1:-1]+[(yedge[i] - yedge[i-1])/2 for i in range(1,len(yedge)-1)],facecolor='b',alpha=0.2) \n",
    "plt.xscale('log')\n",
    "plt.yscale('log')\n",
    "plt.xlabel(r'Energie [Gev]')\n",
    "plt.ylabel(r'$\\frac{\\mathrm{d}N}{\\mathrm{d}E \\, \\mathrm{d}A \\, t_{obs}}$ [TeV$^{-1}$ cm$^{-2}$ s$^{-1}$]')\n",
    "plt.legend()\n",
    "plt.savefig('Fluss_Like.pdf')"
   ]
  },
  {
   "cell_type": "code",
   "execution_count": null,
   "metadata": {},
   "outputs": [],
   "source": []
  },
  {
   "cell_type": "code",
   "execution_count": null,
   "metadata": {},
   "outputs": [],
   "source": []
  }
 ],
 "metadata": {
  "kernelspec": {
   "display_name": "Python 3",
   "language": "python",
   "name": "python3"
  },
  "language_info": {
   "codemirror_mode": {
    "name": "ipython",
    "version": 3
   },
   "file_extension": ".py",
   "mimetype": "text/x-python",
   "name": "python",
   "nbconvert_exporter": "python",
   "pygments_lexer": "ipython3",
   "version": "3.7.2"
  }
 },
 "nbformat": 4,
 "nbformat_minor": 2
}
